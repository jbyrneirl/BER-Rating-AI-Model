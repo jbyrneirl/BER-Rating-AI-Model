{
 "cells": [
  {
   "cell_type": "code",
   "execution_count": 1,
   "metadata": {},
   "outputs": [
    {
     "name": "stderr",
     "output_type": "stream",
     "text": [
      "C:\\Users\\Aidan\\AppData\\Local\\Temp\\ipykernel_14804\\75528069.py:1: DeprecationWarning: \n",
      "Pyarrow will become a required dependency of pandas in the next major release of pandas (pandas 3.0),\n",
      "(to allow more performant data types, such as the Arrow string type, and better interoperability with other libraries)\n",
      "but was not found to be installed on your system.\n",
      "If this would cause problems for you,\n",
      "please provide us feedback at https://github.com/pandas-dev/pandas/issues/54466\n",
      "        \n",
      "  import pandas as pd\n"
     ]
    }
   ],
   "source": [
    "import pandas as pd\n",
    "from sklearn.feature_selection import r_regression\n",
    "\n",
    "df = pd.read_csv(\"../../data/training/BERRatingData_aa.csv\", sep=\";\", on_bad_lines=\"skip\", low_memory=False)\n",
    "\n",
    "X = df.drop(\"BerRating\", axis='columns')\n",
    "y = df.BerRating"
   ]
  },
  {
   "cell_type": "code",
   "execution_count": 2,
   "metadata": {},
   "outputs": [
    {
     "name": "stderr",
     "output_type": "stream",
     "text": [
      "c:\\Users\\Aidan\\AppData\\Local\\Programs\\Python\\Python39\\lib\\site-packages\\numpy\\lib\\function_base.py:2897: RuntimeWarning: invalid value encountered in divide\n",
      "  c /= stddev[:, None]\n",
      "c:\\Users\\Aidan\\AppData\\Local\\Programs\\Python\\Python39\\lib\\site-packages\\numpy\\lib\\function_base.py:2898: RuntimeWarning: invalid value encountered in divide\n",
      "  c /= stddev[None, :]\n"
     ]
    },
    {
     "name": "stdout",
     "output_type": "stream",
     "text": [
      "CO2Rating          0.966146\n",
      "EPC                0.952628\n",
      "CPC                0.927226\n",
      "CHPFuelType        0.767824\n",
      "CHPHeatEff         0.761286\n",
      "UValueWall         0.732535\n",
      "CHPElecEff         0.720353\n",
      "CHPSystemType      0.701677\n",
      "FirstWallUValue    0.700029\n",
      "DistLossFactor     0.691508\n",
      "dtype: float64\n",
      "Index(['CO2Rating', 'EPC', 'CPC', 'CHPFuelType', 'CHPHeatEff', 'UValueWall',\n",
      "       'CHPElecEff', 'CHPSystemType', 'FirstWallUValue', 'DistLossFactor'],\n",
      "      dtype='object')\n",
      "CO2Rating          0.966146\n",
      "EPC                0.952628\n",
      "CPC                0.927226\n",
      "CHPFuelType       -0.767824\n",
      "CHPHeatEff        -0.761286\n",
      "UValueWall         0.732535\n",
      "CHPElecEff        -0.720353\n",
      "CHPSystemType     -0.701677\n",
      "FirstWallUValue    0.700029\n",
      "DistLossFactor     0.691508\n",
      "dtype: float64\n"
     ]
    }
   ],
   "source": [
    "X = pd.get_dummies(X)\n",
    "values = X.corrwith(y).abs()\n",
    "\n",
    "print(values.nlargest(10))\n",
    "factors = values.nlargest(10).keys()\n",
    "print(factors)\n",
    "\n",
    "\n",
    "X = df[factors]\n",
    "\n",
    "print(X.corrwith(y))"
   ]
  }
 ],
 "metadata": {
  "kernelspec": {
   "display_name": "Python 3",
   "language": "python",
   "name": "python3"
  },
  "language_info": {
   "codemirror_mode": {
    "name": "ipython",
    "version": 3
   },
   "file_extension": ".py",
   "mimetype": "text/x-python",
   "name": "python",
   "nbconvert_exporter": "python",
   "pygments_lexer": "ipython3",
   "version": "3.9.3"
  },
  "orig_nbformat": 4
 },
 "nbformat": 4,
 "nbformat_minor": 2
}
