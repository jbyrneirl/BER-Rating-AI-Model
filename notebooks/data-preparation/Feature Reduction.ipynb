{
 "cells": [
  {
   "cell_type": "code",
   "execution_count": 12,
   "metadata": {},
   "outputs": [],
   "source": [
    "import pandas as pd\n",
    "\n",
    "df = pd.read_csv(\"../../data/training/BERRatingData_aa.csv\", sep=\";\", on_bad_lines=\"skip\", low_memory=False)\n",
    "#df = pd.read_csv('https://raw.githubusercontent.com/jbyrneirl/BER-Rating-AI-Model/main/data/training/BERRatingData_aa.csv', sep=';', on_bad_lines=\"skip\", low_memory=False)\n",
    "\n",
    "X = df.drop(\"BerRating\", axis='columns')\n",
    "y = df.BerRating"
   ]
  },
  {
   "cell_type": "code",
   "execution_count": 15,
   "metadata": {},
   "outputs": [
    {
     "name": "stdout",
     "output_type": "stream",
     "text": [
      "CO2Rating          0.966146\n",
      "EPC                0.952628\n",
      "CPC                0.927226\n",
      "CHPFuelType        0.767824\n",
      "CHPHeatEff         0.761286\n",
      "UValueWall         0.732535\n",
      "CHPElecEff         0.720353\n",
      "CHPSystemType      0.701677\n",
      "FirstWallUValue    0.700029\n",
      "DistLossFactor     0.691508\n",
      "dtype: float64\n",
      "Index(['CO2Rating', 'EPC', 'CPC', 'CHPFuelType', 'CHPHeatEff', 'UValueWall',\n",
      "       'CHPElecEff', 'CHPSystemType', 'FirstWallUValue', 'DistLossFactor'],\n",
      "      dtype='object')\n",
      "CO2Rating          0.966146\n",
      "EPC                0.952628\n",
      "CPC                0.927226\n",
      "CHPFuelType       -0.767824\n",
      "CHPHeatEff        -0.761286\n",
      "UValueWall         0.732535\n",
      "CHPElecEff        -0.720353\n",
      "CHPSystemType     -0.701677\n",
      "FirstWallUValue    0.700029\n",
      "DistLossFactor     0.691508\n",
      "dtype: float64\n"
     ]
    }
   ],
   "source": [
    "X = pd.get_dummies(X)\n",
    "values = X.corrwith(y).abs()\n",
    "\n",
    "print(values.nlargest(10))\n",
    "factors = values.nlargest(10).keys()\n",
    "print(factors)\n",
    "\n",
    "\n",
    "X = df[factors]\n",
    "\n",
    "print(X.corrwith(y))"
   ]
  }
 ],
 "metadata": {
  "kernelspec": {
   "display_name": "Python 3",
   "language": "python",
   "name": "python3"
  },
  "language_info": {
   "codemirror_mode": {
    "name": "ipython",
    "version": 3
   },
   "file_extension": ".py",
   "mimetype": "text/x-python",
   "name": "python",
   "nbconvert_exporter": "python",
   "pygments_lexer": "ipython3",
   "version": "3.9.3"
  },
  "orig_nbformat": 4
 },
 "nbformat": 4,
 "nbformat_minor": 2
}
