{
 "cells": [
  {
   "cell_type": "code",
   "execution_count": null,
   "id": "dcaf53b2",
   "metadata": {},
   "outputs": [],
   "source": [
    "import pandas as pd\n",
    "from sklearn.tree import DecisionTreeClassifier\n",
    "from sklearn.model_selection import train_test_split, cross_val_score\n",
    "from sklearn.metrics import confusion_matrix\n",
    "from io import StringIO\n",
    "from sklearn.tree import export_graphviz\n",
    "import pydotplus\n",
    "from IPython.display import Image\n",
    "import sys\n",
    "sys.path.append('../../modules')\n",
    "from helper_functions import feature_reduction_x"
   ]
  },
  {
   "cell_type": "code",
   "execution_count": 2,
   "id": "1e2211f5",
   "metadata": {},
   "outputs": [
    {
     "name": "stdout",
     "output_type": "stream",
     "text": [
      "(9997, 211)\n"
     ]
    }
   ],
   "source": [
    "df = pd.read_csv(\"../../data/training/BERRatingData_aa.csv\", sep=\";\", on_bad_lines=\"skip\", low_memory=False)\n",
    "print(df.shape)"
   ]
  },
  {
   "cell_type": "code",
   "execution_count": 3,
   "id": "ec0e13c1",
   "metadata": {},
   "outputs": [
    {
     "name": "stderr",
     "output_type": "stream",
     "text": [
      "c:\\Users\\Aidan\\AppData\\Local\\Programs\\Python\\Python39\\lib\\site-packages\\sklearn\\impute\\_base.py:577: UserWarning: Skipping features without any observed values: ['SecondEnerConsumedComment' 'ThirdEnerConsumedComment']. At least one non-missing value is needed for imputation with strategy='mean'.\n",
      "  warnings.warn(\n",
      "c:\\Users\\Aidan\\AppData\\Local\\Programs\\Python\\Python39\\lib\\site-packages\\sklearn\\feature_selection\\_univariate_selection.py:112: UserWarning: Features [ 54  65 115 118 119 120 128 129 130] are constant.\n",
      "  warnings.warn(\"Features %s are constant.\" % constant_features_idx, UserWarning)\n",
      "c:\\Users\\Aidan\\AppData\\Local\\Programs\\Python\\Python39\\lib\\site-packages\\sklearn\\feature_selection\\_univariate_selection.py:113: RuntimeWarning: invalid value encountered in divide\n",
      "  f = msb / msw\n"
     ]
    }
   ],
   "source": [
    "X = feature_reduction_x(df)"
   ]
  },
  {
   "cell_type": "code",
   "execution_count": 4,
   "id": "492a5876",
   "metadata": {},
   "outputs": [
    {
     "name": "stdout",
     "output_type": "stream",
     "text": [
      "(9997, 100)\n"
     ]
    }
   ],
   "source": [
    "print(X.shape)"
   ]
  },
  {
   "cell_type": "code",
   "execution_count": 5,
   "id": "d8edc68e",
   "metadata": {},
   "outputs": [],
   "source": [
    "y = df.EnergyRating"
   ]
  },
  {
   "cell_type": "code",
   "execution_count": 6,
   "id": "4b7926ef",
   "metadata": {},
   "outputs": [
    {
     "data": {
      "text/html": [
       "<div>\n",
       "<style scoped>\n",
       "    .dataframe tbody tr th:only-of-type {\n",
       "        vertical-align: middle;\n",
       "    }\n",
       "\n",
       "    .dataframe tbody tr th {\n",
       "        vertical-align: top;\n",
       "    }\n",
       "\n",
       "    .dataframe thead th {\n",
       "        text-align: right;\n",
       "    }\n",
       "</style>\n",
       "<table border=\"1\" class=\"dataframe\">\n",
       "  <thead>\n",
       "    <tr style=\"text-align: right;\">\n",
       "      <th></th>\n",
       "      <th>Year_of_Construction</th>\n",
       "      <th>GroundFloorArea(sq m)</th>\n",
       "      <th>UValueWall</th>\n",
       "      <th>UValueRoof</th>\n",
       "      <th>UValueFloor</th>\n",
       "      <th>UValueWindow</th>\n",
       "      <th>UvalueDoor</th>\n",
       "      <th>HSMainSystemEfficiency</th>\n",
       "      <th>TGDLEdition</th>\n",
       "      <th>HSEffAdjFactor</th>\n",
       "      <th>...</th>\n",
       "      <th>FirstEnergyType_Description_Renewable Electrical</th>\n",
       "      <th>FirstEnergyType_Description_Renewable Thermal</th>\n",
       "      <th>FirstEnerProdComment_12 PV PANELS 290 W SOUTHWEST 4</th>\n",
       "      <th>FirstEnerProdComment_14 PV PANELS 270W WEST 45DEGRE</th>\n",
       "      <th>FirstEnerProdComment_9 PV PANELS 290 W SOUTHWEST 45</th>\n",
       "      <th>SecondEnergyType_Description_Renewable Thermal</th>\n",
       "      <th>ThirdEnergyType_Description_Renewable Thermal</th>\n",
       "      <th>FirstWallType_Description_Stone</th>\n",
       "      <th>FirstWallType_Description_Timber Frame</th>\n",
       "      <th>SecondWallDescription_SHAFT</th>\n",
       "    </tr>\n",
       "  </thead>\n",
       "  <tbody>\n",
       "    <tr>\n",
       "      <th>0</th>\n",
       "      <td>0.996154</td>\n",
       "      <td>0.125000</td>\n",
       "      <td>0.034783</td>\n",
       "      <td>0.069565</td>\n",
       "      <td>0.170732</td>\n",
       "      <td>0.245614</td>\n",
       "      <td>0.237288</td>\n",
       "      <td>0.599211</td>\n",
       "      <td>0.75</td>\n",
       "      <td>0.909091</td>\n",
       "      <td>...</td>\n",
       "      <td>0.0</td>\n",
       "      <td>1.0</td>\n",
       "      <td>0.0</td>\n",
       "      <td>0.0</td>\n",
       "      <td>0.0</td>\n",
       "      <td>1.0</td>\n",
       "      <td>1.0</td>\n",
       "      <td>0.0</td>\n",
       "      <td>0.0</td>\n",
       "      <td>0.0</td>\n",
       "    </tr>\n",
       "    <tr>\n",
       "      <th>1</th>\n",
       "      <td>0.996154</td>\n",
       "      <td>0.125000</td>\n",
       "      <td>0.034783</td>\n",
       "      <td>0.069565</td>\n",
       "      <td>0.170732</td>\n",
       "      <td>0.245614</td>\n",
       "      <td>0.237288</td>\n",
       "      <td>0.599211</td>\n",
       "      <td>0.75</td>\n",
       "      <td>0.909091</td>\n",
       "      <td>...</td>\n",
       "      <td>0.0</td>\n",
       "      <td>1.0</td>\n",
       "      <td>0.0</td>\n",
       "      <td>0.0</td>\n",
       "      <td>0.0</td>\n",
       "      <td>1.0</td>\n",
       "      <td>1.0</td>\n",
       "      <td>0.0</td>\n",
       "      <td>0.0</td>\n",
       "      <td>0.0</td>\n",
       "    </tr>\n",
       "    <tr>\n",
       "      <th>2</th>\n",
       "      <td>0.692308</td>\n",
       "      <td>0.122518</td>\n",
       "      <td>0.330435</td>\n",
       "      <td>0.373913</td>\n",
       "      <td>0.528455</td>\n",
       "      <td>0.543860</td>\n",
       "      <td>0.511864</td>\n",
       "      <td>0.073965</td>\n",
       "      <td>0.00</td>\n",
       "      <td>0.757576</td>\n",
       "      <td>...</td>\n",
       "      <td>0.0</td>\n",
       "      <td>1.0</td>\n",
       "      <td>0.0</td>\n",
       "      <td>0.0</td>\n",
       "      <td>0.0</td>\n",
       "      <td>1.0</td>\n",
       "      <td>1.0</td>\n",
       "      <td>0.0</td>\n",
       "      <td>0.0</td>\n",
       "      <td>0.0</td>\n",
       "    </tr>\n",
       "    <tr>\n",
       "      <th>3</th>\n",
       "      <td>0.834615</td>\n",
       "      <td>0.086607</td>\n",
       "      <td>0.108696</td>\n",
       "      <td>0.056522</td>\n",
       "      <td>0.495935</td>\n",
       "      <td>0.473684</td>\n",
       "      <td>0.508475</td>\n",
       "      <td>0.046813</td>\n",
       "      <td>0.00</td>\n",
       "      <td>0.757576</td>\n",
       "      <td>...</td>\n",
       "      <td>0.0</td>\n",
       "      <td>1.0</td>\n",
       "      <td>0.0</td>\n",
       "      <td>0.0</td>\n",
       "      <td>0.0</td>\n",
       "      <td>1.0</td>\n",
       "      <td>1.0</td>\n",
       "      <td>0.0</td>\n",
       "      <td>0.0</td>\n",
       "      <td>0.0</td>\n",
       "    </tr>\n",
       "    <tr>\n",
       "      <th>4</th>\n",
       "      <td>0.688462</td>\n",
       "      <td>0.130583</td>\n",
       "      <td>0.121739</td>\n",
       "      <td>0.682609</td>\n",
       "      <td>0.617886</td>\n",
       "      <td>0.543860</td>\n",
       "      <td>0.508475</td>\n",
       "      <td>0.053501</td>\n",
       "      <td>0.00</td>\n",
       "      <td>0.757576</td>\n",
       "      <td>...</td>\n",
       "      <td>0.0</td>\n",
       "      <td>1.0</td>\n",
       "      <td>0.0</td>\n",
       "      <td>0.0</td>\n",
       "      <td>0.0</td>\n",
       "      <td>1.0</td>\n",
       "      <td>1.0</td>\n",
       "      <td>1.0</td>\n",
       "      <td>0.0</td>\n",
       "      <td>0.0</td>\n",
       "    </tr>\n",
       "  </tbody>\n",
       "</table>\n",
       "<p>5 rows × 100 columns</p>\n",
       "</div>"
      ],
      "text/plain": [
       "   Year_of_Construction  GroundFloorArea(sq m)  UValueWall  UValueRoof  \\\n",
       "0              0.996154               0.125000    0.034783    0.069565   \n",
       "1              0.996154               0.125000    0.034783    0.069565   \n",
       "2              0.692308               0.122518    0.330435    0.373913   \n",
       "3              0.834615               0.086607    0.108696    0.056522   \n",
       "4              0.688462               0.130583    0.121739    0.682609   \n",
       "\n",
       "   UValueFloor  UValueWindow  UvalueDoor  HSMainSystemEfficiency  TGDLEdition  \\\n",
       "0     0.170732      0.245614    0.237288                0.599211         0.75   \n",
       "1     0.170732      0.245614    0.237288                0.599211         0.75   \n",
       "2     0.528455      0.543860    0.511864                0.073965         0.00   \n",
       "3     0.495935      0.473684    0.508475                0.046813         0.00   \n",
       "4     0.617886      0.543860    0.508475                0.053501         0.00   \n",
       "\n",
       "   HSEffAdjFactor  ...  FirstEnergyType_Description_Renewable Electrical  \\\n",
       "0        0.909091  ...                                               0.0   \n",
       "1        0.909091  ...                                               0.0   \n",
       "2        0.757576  ...                                               0.0   \n",
       "3        0.757576  ...                                               0.0   \n",
       "4        0.757576  ...                                               0.0   \n",
       "\n",
       "   FirstEnergyType_Description_Renewable Thermal  \\\n",
       "0                                            1.0   \n",
       "1                                            1.0   \n",
       "2                                            1.0   \n",
       "3                                            1.0   \n",
       "4                                            1.0   \n",
       "\n",
       "   FirstEnerProdComment_12 PV PANELS 290 W SOUTHWEST 4  \\\n",
       "0                                                0.0     \n",
       "1                                                0.0     \n",
       "2                                                0.0     \n",
       "3                                                0.0     \n",
       "4                                                0.0     \n",
       "\n",
       "   FirstEnerProdComment_14 PV PANELS 270W WEST 45DEGRE  \\\n",
       "0                                                0.0     \n",
       "1                                                0.0     \n",
       "2                                                0.0     \n",
       "3                                                0.0     \n",
       "4                                                0.0     \n",
       "\n",
       "   FirstEnerProdComment_9 PV PANELS 290 W SOUTHWEST 45  \\\n",
       "0                                                0.0     \n",
       "1                                                0.0     \n",
       "2                                                0.0     \n",
       "3                                                0.0     \n",
       "4                                                0.0     \n",
       "\n",
       "   SecondEnergyType_Description_Renewable Thermal  \\\n",
       "0                                             1.0   \n",
       "1                                             1.0   \n",
       "2                                             1.0   \n",
       "3                                             1.0   \n",
       "4                                             1.0   \n",
       "\n",
       "   ThirdEnergyType_Description_Renewable Thermal  \\\n",
       "0                                            1.0   \n",
       "1                                            1.0   \n",
       "2                                            1.0   \n",
       "3                                            1.0   \n",
       "4                                            1.0   \n",
       "\n",
       "   FirstWallType_Description_Stone  FirstWallType_Description_Timber Frame  \\\n",
       "0                              0.0                                     0.0   \n",
       "1                              0.0                                     0.0   \n",
       "2                              0.0                                     0.0   \n",
       "3                              0.0                                     0.0   \n",
       "4                              1.0                                     0.0   \n",
       "\n",
       "   SecondWallDescription_SHAFT  \n",
       "0                          0.0  \n",
       "1                          0.0  \n",
       "2                          0.0  \n",
       "3                          0.0  \n",
       "4                          0.0  \n",
       "\n",
       "[5 rows x 100 columns]"
      ]
     },
     "execution_count": 6,
     "metadata": {},
     "output_type": "execute_result"
    }
   ],
   "source": [
    "X = pd.get_dummies(X)\n",
    "\n",
    "feature_names = X.columns\n",
    "X.head()"
   ]
  },
  {
   "cell_type": "code",
   "execution_count": 7,
   "id": "e6e8328a",
   "metadata": {},
   "outputs": [],
   "source": [
    "X_train, X_test, y_train, y_test = train_test_split( X, y, stratify=y, random_state=2)"
   ]
  },
  {
   "cell_type": "code",
   "execution_count": 8,
   "id": "f1696c0a",
   "metadata": {},
   "outputs": [
    {
     "name": "stdout",
     "output_type": "stream",
     "text": [
      "Depth:  2 Accuracy: 0.3141252390482544\n",
      "Depth:  3 Accuracy: 0.3582766288636869\n",
      "Depth:  4 Accuracy: 0.3842879252835224\n",
      "Depth:  5 Accuracy: 0.4044293529019346\n",
      "Depth:  6 Accuracy: 0.426038158772515\n",
      "Depth:  7 Accuracy: 0.44044287302646207\n",
      "Depth:  8 Accuracy: 0.4468446519902157\n",
      "Depth:  9 Accuracy: 0.46205247943073163\n",
      "Depth:  10 Accuracy: 0.4601861685568157\n",
      "Depth:  11 Accuracy: 0.4684559484100511\n",
      "Depth:  12 Accuracy: 0.47099088281076273\n",
      "Depth:  13 Accuracy: 0.4775240382477207\n",
      "Depth:  14 Accuracy: 0.47392323771403155\n"
     ]
    }
   ],
   "source": [
    "best_score = 0\n",
    "best_depth = 0\n",
    "\n",
    "for d in range(2,15):\n",
    "    model = DecisionTreeClassifier(max_depth=d)\n",
    "    scores = cross_val_score(model, X_train, y_train, cv=5)\n",
    "    mean = scores.mean()\n",
    "    print(\"Depth: \", d, \"Accuracy:\", mean)\n",
    "    if(mean > best_score):\n",
    "        best_score = mean\n",
    "        best_depth = d"
   ]
  },
  {
   "cell_type": "code",
   "execution_count": 9,
   "id": "9efbb2ca",
   "metadata": {},
   "outputs": [
    {
     "name": "stdout",
     "output_type": "stream",
     "text": [
      "Training Accuracy: 0.7947178871548619\n",
      "Test Accuracy: 0.4896\n"
     ]
    }
   ],
   "source": [
    "model = DecisionTreeClassifier(max_depth=best_depth)\n",
    "model.fit(X_train,y_train)\n",
    "\n",
    "\n",
    "print(\"Training Accuracy:\", model.score(X_train, y_train))\n",
    "print(\"Test Accuracy:\", model.score(X_test, y_test))"
   ]
  },
  {
   "cell_type": "code",
   "execution_count": 10,
   "id": "a934af8a",
   "metadata": {},
   "outputs": [
    {
     "name": "stdout",
     "output_type": "stream",
     "text": [
      "CM\n",
      "[[  3   2   0   0   0   0   0   0   0   1   0   0   0   0   0]\n",
      " [  0 234  58   2   0   0   0   0   0   0   0   0   0   0   0]\n",
      " [  0  40 305  10   1   2   0   1   1   0   0   0   0   0   0]\n",
      " [  0   1  17  19  22   6   2   0   0   1   0   0   0   1   0]\n",
      " [  0   0   0   4  58  44  12   2   1   2   1   0   0   0   0]\n",
      " [  0   0   0   4  25 118  71  10   3   2   1   1   0   0   0]\n",
      " [  0   0   0   2   8  60 154  47  21   8   4   0   0   1   0]\n",
      " [  0   0   0   2   1  19  76  67  62  21   9   1   0   0   0]\n",
      " [  1   0   0   0   2   7  30  39  67  33  19   4   1   0   0]\n",
      " [  0   0   0   0   1   1  11  26  49  49  33   8   1   2   1]\n",
      " [  0   0   0   0   1   1   7  13  25  43  38  17   3  10   3]\n",
      " [  0   0   0   0   0   0   4   3   7  13  27  11   8   8   2]\n",
      " [  0   0   0   0   0   0   0   0   4  10  10   8  10   9   8]\n",
      " [  0   0   0   0   1   0   0   3   0   2   6  13   7  18  10]\n",
      " [  0   0   0   0   0   0   0   1   0   1   4   2   9  11  73]]\n"
     ]
    }
   ],
   "source": [
    "y_hat = model.predict(X_test)\n",
    "cm = confusion_matrix(y_test, y_hat)\n",
    "\n",
    "print(\"CM\")\n",
    "print(cm)"
   ]
  },
  {
   "cell_type": "code",
   "execution_count": null,
   "id": "efa33a0f",
   "metadata": {},
   "outputs": [],
   "source": [
    "dot_data = StringIO()\n",
    "target_names = [\"A3\", \"C1\", \"A2\", \"C2\", \"B3\", \"C3\", \"D1\", \"D2\", \"B2\", \"G\", \"E1\", \"B1\", \"F\", \"E2\", \"A1\"]\n",
    "export_graphviz(model, \n",
    "                out_file=dot_data,\n",
    "                filled=True, \n",
    "                rounded=True,\n",
    "                special_characters=True,\n",
    "                class_names = target_names)\n",
    "graph = pydotplus.graph_from_dot_data(dot_data.getvalue())\n",
    "graph.write_png('BER_DecisionTree.png')\n",
    "Image(graph.create_png())"
   ]
  },
  {
   "cell_type": "code",
   "execution_count": null,
   "id": "b42523ea",
   "metadata": {},
   "outputs": [],
   "source": []
  }
 ],
 "metadata": {
  "kernelspec": {
   "display_name": "Python 3 (ipykernel)",
   "language": "python",
   "name": "python3"
  },
  "language_info": {
   "codemirror_mode": {
    "name": "ipython",
    "version": 3
   },
   "file_extension": ".py",
   "mimetype": "text/x-python",
   "name": "python",
   "nbconvert_exporter": "python",
   "pygments_lexer": "ipython3",
   "version": "3.11.4"
  }
 },
 "nbformat": 4,
 "nbformat_minor": 5
}
