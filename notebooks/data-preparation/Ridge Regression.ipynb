{
 "cells": [
  {
   "cell_type": "code",
   "execution_count": 5,
   "metadata": {},
   "outputs": [],
   "source": [
    "import numpy as np\n",
    "from sklearn.model_selection import train_test_split\n",
    "import pandas as pd\n",
    "from sklearn.linear_model import Ridge\n",
    "\n",
    "from sklearn.impute import SimpleImputer\n",
    "from sklearn.metrics import confusion_matrix\n",
    "from sklearn.metrics import accuracy_score\n",
    "\n",
    "import sys\n",
    "sys.path.append('../../modules')\n",
    "from helper_functions import feature_reduction_x, rating_feature_conversion\n"
   ]
  },
  {
   "cell_type": "code",
   "execution_count": 2,
   "metadata": {},
   "outputs": [
    {
     "name": "stderr",
     "output_type": "stream",
     "text": [
      "c:\\Users\\Aidan\\AppData\\Local\\Programs\\Python\\Python39\\lib\\site-packages\\sklearn\\utils\\_array_api.py:472: RuntimeWarning: All-NaN slice encountered\n",
      "  return xp.asarray(numpy.nanmin(X, axis=axis))\n",
      "c:\\Users\\Aidan\\AppData\\Local\\Programs\\Python\\Python39\\lib\\site-packages\\sklearn\\utils\\_array_api.py:489: RuntimeWarning: All-NaN slice encountered\n",
      "  return xp.asarray(numpy.nanmax(X, axis=axis))\n",
      "c:\\Users\\Aidan\\AppData\\Local\\Programs\\Python\\Python39\\lib\\site-packages\\numpy\\lib\\function_base.py:2897: RuntimeWarning: invalid value encountered in divide\n",
      "  c /= stddev[:, None]\n",
      "c:\\Users\\Aidan\\AppData\\Local\\Programs\\Python\\Python39\\lib\\site-packages\\numpy\\lib\\function_base.py:2898: RuntimeWarning: invalid value encountered in divide\n",
      "  c /= stddev[None, :]\n"
     ]
    }
   ],
   "source": [
    "df = pd.read_csv('https://raw.githubusercontent.com/jbyrneirl/BER-Rating-AI-Model/main/data/training/BERRatingData_aa.csv', sep=';', on_bad_lines=\"skip\", low_memory=False)\n",
    "\n",
    "np.random.seed(0)\n",
    "\n",
    "#X = df.drop(\"BerRating\", axis='columns')\n",
    "#X = pd.get_dummies(X)\n",
    "X = feature_reduction_x(df)\n",
    "#print(len(list(X.columns)))\n",
    "\n",
    "imp = SimpleImputer(missing_values=np.nan, strategy='mean')\n",
    "imp.fit(X)\n",
    "X = imp.transform(X)\n",
    "y = df.BerRating\n",
    "\n",
    "\n",
    "X_train, X_test, y_train, y_test = train_test_split( X, y, random_state=2)"
   ]
  },
  {
   "cell_type": "code",
   "execution_count": 3,
   "metadata": {},
   "outputs": [],
   "source": [
    "model = Ridge()\n",
    "\n",
    "\n",
    "model.fit(X_train , y_train)\n",
    "score = model.score(X_test , y_test)\n",
    "\n",
    "y_hat = model.predict(X_test)\n",
    "\n",
    "y_con = rating_feature_conversion(y_test.to_numpy())"
   ]
  },
  {
   "cell_type": "code",
   "execution_count": 4,
   "metadata": {},
   "outputs": [
    {
     "name": "stdout",
     "output_type": "stream",
     "text": [
      "Score:  0.8624918296739676 \n",
      "\n",
      "CM\n",
      "[[  1   6   0   0   0   0   0   0   0   0   0   0   0   0   0]\n",
      " [ 38 163  58   5   5   0   0   0   0   0   0   0   0   0   0]\n",
      " [ 28  99 171  72  18   2   0   0   0   0   0   0   0   0   0]\n",
      " [  2   8  10  27  18   4   2   0   0   0   0   0   0   0   0]\n",
      " [  1   2   6  25  47  25   8   7   3   1   0   0   0   1   0]\n",
      " [  1   2   2   3  33 102  51  18   7   0   0   0   0   0   0]\n",
      " [  1   0   2   2  11  63 121  92  19  10   1   0   0   0   0]\n",
      " [  0   0   0   0   0  10  51  85  59  29   4   1   1   0   0]\n",
      " [  0   0   0   0   0   0  12  47  65  44  23   5   2   0   0]\n",
      " [  0   0   0   0   0   0   2   5  45  65  38  14   2   3   0]\n",
      " [  0   0   0   0   0   0   0   2  11  49  50  27  14   6   1]\n",
      " [  0   0   0   0   0   0   0   0   2   5  19  19  17  14   6]\n",
      " [  0   0   0   0   0   0   0   0   0   2   4  13  19  24  12]\n",
      " [  0   0   0   0   0   0   0   0   0   0   2  10  10  25  18]\n",
      " [  0   0   0   0   0   0   0   0   0   0   0   3   4  14  82]]\n",
      "0.4168\n"
     ]
    }
   ],
   "source": [
    "print(\"Score: \", score, \"\\n\")\n",
    "\n",
    "y_hat_con = rating_feature_conversion(y_hat)\n",
    "cm = confusion_matrix(y_con, y_hat_con)\n",
    "\n",
    "print(\"CM\")\n",
    "print(cm)\n",
    "\n",
    "print(accuracy_score(y_con, y_hat_con))"
   ]
  }
 ],
 "metadata": {
  "kernelspec": {
   "display_name": "Python 3",
   "language": "python",
   "name": "python3"
  },
  "language_info": {
   "codemirror_mode": {
    "name": "ipython",
    "version": 3
   },
   "file_extension": ".py",
   "mimetype": "text/x-python",
   "name": "python",
   "nbconvert_exporter": "python",
   "pygments_lexer": "ipython3",
   "version": "3.9.3"
  }
 },
 "nbformat": 4,
 "nbformat_minor": 2
}
