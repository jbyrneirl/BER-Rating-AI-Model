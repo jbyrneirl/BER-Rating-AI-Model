{
 "cells": [
  {
   "cell_type": "code",
   "execution_count": 7,
   "metadata": {},
   "outputs": [],
   "source": [
    "import numpy as np\n",
    "from sklearn.model_selection import train_test_split\n",
    "import pandas as pd\n",
    "from sklearn.linear_model import Ridge\n",
    "\n",
    "from sklearn.impute import SimpleImputer\n",
    "from sklearn.metrics import confusion_matrix\n",
    "\n",
    "import sys\n",
    "sys.path.append('../../modules')\n",
    "from helper_functions import feature_reduction_x, rating_feature_conversion\n"
   ]
  },
  {
   "cell_type": "code",
   "execution_count": 2,
   "metadata": {},
   "outputs": [
    {
     "name": "stderr",
     "output_type": "stream",
     "text": [
      "c:\\Users\\Aidan\\AppData\\Local\\Programs\\Python\\Python39\\lib\\site-packages\\numpy\\lib\\function_base.py:2897: RuntimeWarning: invalid value encountered in divide\n",
      "  c /= stddev[:, None]\n",
      "c:\\Users\\Aidan\\AppData\\Local\\Programs\\Python\\Python39\\lib\\site-packages\\numpy\\lib\\function_base.py:2898: RuntimeWarning: invalid value encountered in divide\n",
      "  c /= stddev[None, :]\n"
     ]
    }
   ],
   "source": [
    "df = pd.read_csv('https://raw.githubusercontent.com/jbyrneirl/BER-Rating-AI-Model/main/data/training/BERRatingData_aa.csv', sep=';', on_bad_lines=\"skip\", low_memory=False)\n",
    "\n",
    "np.random.seed(0)\n",
    "\n",
    "#X = df.drop(\"BerRating\", axis='columns')\n",
    "#X = pd.get_dummies(X)\n",
    "X = feature_reduction_x(df)\n",
    "\n",
    "imp = SimpleImputer(missing_values=np.nan, strategy='mean')\n",
    "imp.fit(X)\n",
    "X = imp.transform(X)\n",
    "y = df.BerRating\n",
    "\n",
    "\n",
    "X_train, X_test, y_train, y_test = train_test_split( X, y, random_state=2)"
   ]
  },
  {
   "cell_type": "code",
   "execution_count": 4,
   "metadata": {},
   "outputs": [
    {
     "name": "stdout",
     "output_type": "stream",
     "text": [
      "[134.25675421 234.76057808  61.19077712 ...  67.66359733 217.81094825\n",
      "  83.28876661]\n"
     ]
    }
   ],
   "source": [
    "model = Ridge()\n",
    "\n",
    "\n",
    "model.fit(X_train , y_train)\n",
    "score = model.score(X_test , y_test)\n",
    "\n",
    "y_hat = model.predict(X_test)\n",
    "\n",
    "y_con = rating_feature_conversion(y_test.to_numpy())"
   ]
  },
  {
   "cell_type": "code",
   "execution_count": 6,
   "metadata": {},
   "outputs": [
    {
     "name": "stdout",
     "output_type": "stream",
     "text": [
      "Score:  0.8116193220720149 \n",
      "\n",
      "CM\n",
      "[[  4   3   0   0   0   0   0   0   0   0   0   0   0   0   0]\n",
      " [ 35 109 107  17   1   0   0   0   0   0   0   0   0   0   0]\n",
      " [ 26 121 186  43  10   4   0   0   0   0   0   0   0   0   0]\n",
      " [  3   5  10  22  15  11   3   0   1   0   0   0   0   1   0]\n",
      " [  0   1   6  16  31  44  18   8   0   0   0   1   1   0   0]\n",
      " [  1   2   0   3  33  73  57  29  14   5   1   1   0   0   0]\n",
      " [  0   0   2   1  18  63 107  79  34  14   2   2   0   0   0]\n",
      " [  0   0   0   2   4  15  54  70  45  31  13   5   0   1   0]\n",
      " [  0   0   0   0   1   6  21  47  44  43  24   8   1   2   1]\n",
      " [  0   0   0   0   1   5   3  24  36  54  27  14   7   2   1]\n",
      " [  0   0   0   0   0   0   1  11  23  38  42  21  12   9   3]\n",
      " [  0   0   0   0   0   0   0   1   3  13  13  15  12  18   7]\n",
      " [  0   0   0   0   0   0   0   0   0   6  12   9  10  26  11]\n",
      " [  0   0   0   0   0   0   0   0   0   1   4   9  14  18  19]\n",
      " [  0   0   0   0   0   0   0   0   0   1   1   5   5  18  73]]\n"
     ]
    }
   ],
   "source": [
    "print(\"Score: \", score, \"\\n\")\n",
    "\n",
    "cm = confusion_matrix(y_con, rating_feature_conversion(y_hat))\n",
    "\n",
    "print(\"CM\")\n",
    "print(cm)"
   ]
  }
 ],
 "metadata": {
  "kernelspec": {
   "display_name": "Python 3",
   "language": "python",
   "name": "python3"
  },
  "language_info": {
   "codemirror_mode": {
    "name": "ipython",
    "version": 3
   },
   "file_extension": ".py",
   "mimetype": "text/x-python",
   "name": "python",
   "nbconvert_exporter": "python",
   "pygments_lexer": "ipython3",
   "version": "3.9.3"
  }
 },
 "nbformat": 4,
 "nbformat_minor": 2
}
