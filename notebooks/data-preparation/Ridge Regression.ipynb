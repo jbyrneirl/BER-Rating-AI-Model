{
 "cells": [
  {
   "cell_type": "code",
   "execution_count": 1,
   "metadata": {},
   "outputs": [
    {
     "name": "stderr",
     "output_type": "stream",
     "text": [
      "C:\\Users\\Aidan\\AppData\\Local\\Temp\\ipykernel_23016\\2095181828.py:3: DeprecationWarning: \n",
      "Pyarrow will become a required dependency of pandas in the next major release of pandas (pandas 3.0),\n",
      "(to allow more performant data types, such as the Arrow string type, and better interoperability with other libraries)\n",
      "but was not found to be installed on your system.\n",
      "If this would cause problems for you,\n",
      "please provide us feedback at https://github.com/pandas-dev/pandas/issues/54466\n",
      "        \n",
      "  import pandas as pd\n"
     ]
    }
   ],
   "source": [
    "import numpy as np\n",
    "from sklearn.model_selection import train_test_split\n",
    "import pandas as pd\n",
    "from sklearn.linear_model import Ridge\n",
    "\n",
    "from sklearn.impute import SimpleImputer\n",
    "from sklearn.metrics import confusion_matrix\n",
    "from sklearn.metrics import accuracy_score\n",
    "\n",
    "import sys\n",
    "sys.path.append('../../modules')\n",
    "from helper_functions import feature_reduction_x, rating_feature_conversion\n",
    "\n",
    "from datetime import datetime\n"
   ]
  },
  {
   "cell_type": "code",
   "execution_count": 2,
   "metadata": {},
   "outputs": [
    {
     "name": "stderr",
     "output_type": "stream",
     "text": [
      "c:\\Users\\Aidan\\AppData\\Local\\Programs\\Python\\Python39\\lib\\site-packages\\sklearn\\impute\\_base.py:577: UserWarning: Skipping features without any observed values: ['SecondEnerConsumedComment' 'ThirdEnerConsumedComment']. At least one non-missing value is needed for imputation with strategy='mean'.\n",
      "  warnings.warn(\n",
      "c:\\Users\\Aidan\\AppData\\Local\\Programs\\Python\\Python39\\lib\\site-packages\\sklearn\\feature_selection\\_univariate_selection.py:112: UserWarning: Features [ 54  65 115 118 119 120 128 129 130] are constant.\n",
      "  warnings.warn(\"Features %s are constant.\" % constant_features_idx, UserWarning)\n",
      "c:\\Users\\Aidan\\AppData\\Local\\Programs\\Python\\Python39\\lib\\site-packages\\sklearn\\feature_selection\\_univariate_selection.py:113: RuntimeWarning: invalid value encountered in divide\n",
      "  f = msb / msw\n"
     ]
    }
   ],
   "source": [
    "df = pd.read_csv('https://raw.githubusercontent.com/jbyrneirl/BER-Rating-AI-Model/main/data/training/BERRatingData_aa.csv', sep=';', on_bad_lines=\"skip\", low_memory=False)\n",
    "\n",
    "np.random.seed(0)\n",
    "\n",
    "X = feature_reduction_x(df)\n",
    "\n",
    "imp = SimpleImputer(missing_values=np.nan, strategy='mean')\n",
    "imp.fit(X)\n",
    "X = imp.transform(X)\n",
    "y = df.BerRating\n",
    "\n",
    "\n",
    "X_train, X_test, y_train, y_test = train_test_split( X, y, random_state=2)"
   ]
  },
  {
   "cell_type": "code",
   "execution_count": 3,
   "metadata": {},
   "outputs": [],
   "source": [
    "start_time = datetime.now()\n",
    "model = Ridge()\n",
    "model.fit(X_train , y_train)\n",
    "y_hat = model.predict(X_test)\n",
    "end_time = datetime.now()\n",
    "\n",
    "score = model.score(X_test, y_test)\n",
    "\n",
    "\n",
    "\n",
    "y_con = rating_feature_conversion(y_test.to_numpy())"
   ]
  },
  {
   "cell_type": "code",
   "execution_count": 4,
   "metadata": {},
   "outputs": [
    {
     "name": "stdout",
     "output_type": "stream",
     "text": [
      "Score:  0.8713377244321002 \n",
      "\n",
      "CM\n",
      "[[  1   4   2   0   0   0   0   0   0   0   0   0   0   0   0]\n",
      " [ 61 145  56   4   3   0   0   0   0   0   0   0   0   0   0]\n",
      " [ 23  99 185  62  18   3   0   0   0   0   0   0   0   0   0]\n",
      " [  2   8  15  20  16   8   1   1   0   0   0   0   0   0   0]\n",
      " [  2   2   5  31  40  25   9   9   2   0   1   0   0   0   0]\n",
      " [  1   2   2   3  49  92  51  11   5   2   0   0   1   0   0]\n",
      " [  1   0   1   6   9  69 138  63  24   7   4   0   0   0   0]\n",
      " [  0   0   0   0   0   4  49  94  50  34   8   0   1   0   0]\n",
      " [  0   0   0   0   0   0   8  42  71  47  23   5   2   0   0]\n",
      " [  0   0   0   0   0   1   1   6  34  71  45  12   1   3   0]\n",
      " [  0   0   0   0   0   0   0   1   6  44  60  32  11   6   0]\n",
      " [  0   0   0   0   0   0   0   0   0   3  21  20  18  18   2]\n",
      " [  0   0   0   0   0   0   0   0   0   1   6  14  20  25   8]\n",
      " [  0   0   0   0   0   0   0   0   0   0   2   9  13  24  17]\n",
      " [  0   0   0   0   0   0   0   0   0   0   2   2   1  16  82]]\n",
      "0.4252\n",
      "Duration: 0:00:01.289058\n"
     ]
    }
   ],
   "source": [
    "print(\"Score: \", score, \"\\n\")\n",
    "\n",
    "y_hat_con = rating_feature_conversion(y_hat)\n",
    "cm = confusion_matrix(y_con, y_hat_con)\n",
    "\n",
    "print(\"CM\")\n",
    "print(cm)\n",
    "\n",
    "print(accuracy_score(y_con, y_hat_con))\n",
    "\n",
    "print('Processing Time: {}'.format(end_time - start_time))"
   ]
  }
 ],
 "metadata": {
  "kernelspec": {
   "display_name": "Python 3",
   "language": "python",
   "name": "python3"
  },
  "language_info": {
   "codemirror_mode": {
    "name": "ipython",
    "version": 3
   },
   "file_extension": ".py",
   "mimetype": "text/x-python",
   "name": "python",
   "nbconvert_exporter": "python",
   "pygments_lexer": "ipython3",
   "version": "3.9.3"
  }
 },
 "nbformat": 4,
 "nbformat_minor": 2
}
