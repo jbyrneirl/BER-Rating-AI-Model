{
 "cells": [
  {
   "cell_type": "code",
   "execution_count": 1,
   "metadata": {},
   "outputs": [
    {
     "name": "stderr",
     "output_type": "stream",
     "text": [
      "C:\\Users\\Aidan\\AppData\\Local\\Temp\\ipykernel_10096\\141842256.py:3: DeprecationWarning: \n",
      "Pyarrow will become a required dependency of pandas in the next major release of pandas (pandas 3.0),\n",
      "(to allow more performant data types, such as the Arrow string type, and better interoperability with other libraries)\n",
      "but was not found to be installed on your system.\n",
      "If this would cause problems for you,\n",
      "please provide us feedback at https://github.com/pandas-dev/pandas/issues/54466\n",
      "        \n",
      "  import pandas as pd\n"
     ]
    }
   ],
   "source": [
    "import numpy as np\n",
    "from sklearn.model_selection import train_test_split\n",
    "import pandas as pd\n",
    "from sklearn.linear_model import Ridge\n",
    "\n",
    "from sklearn.impute import SimpleImputer\n",
    "from sklearn.metrics import confusion_matrix\n",
    "from sklearn.metrics import accuracy_score\n",
    "\n",
    "import sys\n",
    "sys.path.append('../../modules')\n",
    "from helper_functions import feature_reduction_x, rating_feature_conversion\n"
   ]
  },
  {
   "cell_type": "code",
   "execution_count": 2,
   "metadata": {},
   "outputs": [
    {
     "name": "stderr",
     "output_type": "stream",
     "text": [
      "c:\\Users\\Aidan\\AppData\\Local\\Programs\\Python\\Python39\\lib\\site-packages\\numpy\\lib\\function_base.py:2897: RuntimeWarning: invalid value encountered in divide\n",
      "  c /= stddev[:, None]\n",
      "c:\\Users\\Aidan\\AppData\\Local\\Programs\\Python\\Python39\\lib\\site-packages\\numpy\\lib\\function_base.py:2898: RuntimeWarning: invalid value encountered in divide\n",
      "  c /= stddev[None, :]\n"
     ]
    }
   ],
   "source": [
    "df = pd.read_csv('https://raw.githubusercontent.com/jbyrneirl/BER-Rating-AI-Model/main/data/training/BERRatingData_aa.csv', sep=';', on_bad_lines=\"skip\", low_memory=False)\n",
    "\n",
    "np.random.seed(0)\n",
    "\n",
    "#X = df.drop(\"BerRating\", axis='columns')\n",
    "#X = pd.get_dummies(X)\n",
    "X = feature_reduction_x(df)\n",
    "#print(len(list(X.columns)))\n",
    "\n",
    "imp = SimpleImputer(missing_values=np.nan, strategy='mean')\n",
    "imp.fit(X)\n",
    "X = imp.transform(X)\n",
    "y = df.BerRating\n",
    "\n",
    "\n",
    "X_train, X_test, y_train, y_test = train_test_split( X, y, random_state=2)"
   ]
  },
  {
   "cell_type": "code",
   "execution_count": 3,
   "metadata": {},
   "outputs": [],
   "source": [
    "model = Ridge()\n",
    "\n",
    "\n",
    "model.fit(X_train , y_train)\n",
    "score = model.score(X_test , y_test)\n",
    "\n",
    "y_hat = model.predict(X_test)\n",
    "\n",
    "y_con = rating_feature_conversion(y_test.to_numpy())"
   ]
  },
  {
   "cell_type": "code",
   "execution_count": 4,
   "metadata": {},
   "outputs": [
    {
     "name": "stdout",
     "output_type": "stream",
     "text": [
      "Score:  0.8659384990658598 \n",
      "\n",
      "CM\n",
      "[[  1   6   0   0   0   0   0   0   0   0   0   0   0   0   0]\n",
      " [ 41 157  62   5   4   0   0   0   0   0   0   0   0   0   0]\n",
      " [ 23 112 160  74  18   3   0   0   0   0   0   0   0   0   0]\n",
      " [  2   9  10  27  16   6   1   0   0   0   0   0   0   0   0]\n",
      " [  1   3   6  26  44  25   9   8   2   1   0   0   1   0   0]\n",
      " [  1   2   1   3  40  99  47  18   6   2   0   0   0   0   0]\n",
      " [  1   1   0   3  12  62 130  82  22   7   2   0   0   0   0]\n",
      " [  0   0   0   0   0   9  51  90  57  27   3   2   1   0   0]\n",
      " [  0   0   0   0   0   0  10  52  62  43  24   4   3   0   0]\n",
      " [  0   0   0   0   0   0   2   4  42  66  41  14   2   3   0]\n",
      " [  0   0   0   0   0   0   0   2   6  53  48  31  13   7   0]\n",
      " [  0   0   0   0   0   0   0   0   2   5  17  20  18  17   3]\n",
      " [  0   0   0   0   0   0   0   0   0   2   3  15  16  27  11]\n",
      " [  0   0   0   0   0   0   0   0   0   0   2  11   9  25  18]\n",
      " [  0   0   0   0   0   0   0   0   0   0   0   4   3  18  78]]\n",
      "0.4092\n"
     ]
    }
   ],
   "source": [
    "print(\"Score: \", score, \"\\n\")\n",
    "\n",
    "y_hat_con = rating_feature_conversion(y_hat)\n",
    "cm = confusion_matrix(y_con, y_hat_con)\n",
    "\n",
    "print(\"CM\")\n",
    "print(cm)\n",
    "\n",
    "print(accuracy_score(y_con, y_hat_con))"
   ]
  }
 ],
 "metadata": {
  "kernelspec": {
   "display_name": "Python 3",
   "language": "python",
   "name": "python3"
  },
  "language_info": {
   "codemirror_mode": {
    "name": "ipython",
    "version": 3
   },
   "file_extension": ".py",
   "mimetype": "text/x-python",
   "name": "python",
   "nbconvert_exporter": "python",
   "pygments_lexer": "ipython3",
   "version": "3.9.3"
  }
 },
 "nbformat": 4,
 "nbformat_minor": 2
}
