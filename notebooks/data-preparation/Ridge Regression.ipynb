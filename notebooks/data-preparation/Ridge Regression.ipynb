{
 "cells": [
  {
   "cell_type": "code",
   "execution_count": 1,
   "metadata": {},
   "outputs": [
    {
     "name": "stderr",
     "output_type": "stream",
     "text": [
      "C:\\Users\\Aidan\\AppData\\Local\\Temp\\ipykernel_7428\\3508400397.py:3: DeprecationWarning: \n",
      "Pyarrow will become a required dependency of pandas in the next major release of pandas (pandas 3.0),\n",
      "(to allow more performant data types, such as the Arrow string type, and better interoperability with other libraries)\n",
      "but was not found to be installed on your system.\n",
      "If this would cause problems for you,\n",
      "please provide us feedback at https://github.com/pandas-dev/pandas/issues/54466\n",
      "        \n",
      "  import pandas as pd\n"
     ]
    }
   ],
   "source": [
    "import numpy as np\n",
    "from sklearn.model_selection import train_test_split\n",
    "import pandas as pd\n",
    "from sklearn.linear_model import Ridge\n",
    "\n",
    "from sklearn.impute import SimpleImputer\n",
    "from sklearn.metrics import confusion_matrix\n",
    "from sklearn.metrics import accuracy_score\n",
    "\n",
    "import sys\n",
    "sys.path.append('../../modules')\n",
    "from helper_functions import feature_reduction_x, rating_feature_conversion\n",
    "\n",
    "\n",
    "from datetime import datetime\n"
   ]
  },
  {
   "cell_type": "code",
   "execution_count": 2,
   "metadata": {},
   "outputs": [
    {
     "name": "stderr",
     "output_type": "stream",
     "text": [
      "c:\\Users\\Aidan\\AppData\\Local\\Programs\\Python\\Python39\\lib\\site-packages\\sklearn\\impute\\_base.py:577: UserWarning: Skipping features without any observed values: ['SecondEnerConsumedComment' 'ThirdEnerConsumedComment']. At least one non-missing value is needed for imputation with strategy='mean'.\n",
      "  warnings.warn(\n",
      "c:\\Users\\Aidan\\AppData\\Local\\Programs\\Python\\Python39\\lib\\site-packages\\sklearn\\feature_selection\\_univariate_selection.py:112: UserWarning: Features [ 54  65 115 118 119 120 128 129 130] are constant.\n",
      "  warnings.warn(\"Features %s are constant.\" % constant_features_idx, UserWarning)\n",
      "c:\\Users\\Aidan\\AppData\\Local\\Programs\\Python\\Python39\\lib\\site-packages\\sklearn\\feature_selection\\_univariate_selection.py:113: RuntimeWarning: invalid value encountered in divide\n",
      "  f = msb / msw\n"
     ]
    }
   ],
   "source": [
    "#df = pd.read_csv(\"../../data/training/ber-rating-dataset-final.csv\", sep=';', on_bad_lines=\"skip\", low_memory=False)\n",
    "df = pd.read_csv(\"../../data/training/BERRating_test_data.csv\", sep=';', on_bad_lines=\"skip\", low_memory=False)\n",
    "\n",
    "np.random.seed(0)\n",
    "\n",
    "X = feature_reduction_x(df)\n",
    "\n",
    "imp = SimpleImputer(missing_values=np.nan, strategy='mean')\n",
    "imp.fit(X)\n",
    "X = imp.transform(X)\n",
    "y = df.BerRating\n",
    "\n",
    "\n",
    "X_train, X_test, y_train, y_test = train_test_split( X, y, random_state=2)"
   ]
  },
  {
   "cell_type": "code",
   "execution_count": 4,
   "metadata": {},
   "outputs": [],
   "source": [
    "start_time = datetime.now()\n",
    "model = Ridge()\n",
    "model.fit(X_train , y_train)\n",
    "y_hat = model.predict(X_test)\n",
    "end_time = datetime.now()\n",
    "\n",
    "score = model.score(X_test, y_test)\n",
    "\n",
    "\n",
    "\n",
    "y_con = rating_feature_conversion(y_test.to_numpy())"
   ]
  },
  {
   "cell_type": "code",
   "execution_count": 5,
   "metadata": {},
   "outputs": [
    {
     "name": "stdout",
     "output_type": "stream",
     "text": [
      "Score:  0.8713377244321002 \n",
      "\n",
      "CM\n",
      "[[  1   4   2   0   0   0   0   0   0   0   0   0   0   0   0]\n",
      " [ 61 145  56   4   3   0   0   0   0   0   0   0   0   0   0]\n",
      " [ 23  99 185  62  18   3   0   0   0   0   0   0   0   0   0]\n",
      " [  2   8  15  20  16   8   1   1   0   0   0   0   0   0   0]\n",
      " [  2   2   5  31  40  25   9   9   2   0   1   0   0   0   0]\n",
      " [  1   2   2   3  49  92  51  11   5   2   0   0   1   0   0]\n",
      " [  1   0   1   6   9  69 138  63  24   7   4   0   0   0   0]\n",
      " [  0   0   0   0   0   4  49  94  50  34   8   0   1   0   0]\n",
      " [  0   0   0   0   0   0   8  42  71  47  23   5   2   0   0]\n",
      " [  0   0   0   0   0   1   1   6  34  71  45  12   1   3   0]\n",
      " [  0   0   0   0   0   0   0   1   6  44  60  32  11   6   0]\n",
      " [  0   0   0   0   0   0   0   0   0   3  21  20  18  18   2]\n",
      " [  0   0   0   0   0   0   0   0   0   1   6  14  20  25   8]\n",
      " [  0   0   0   0   0   0   0   0   0   0   2   9  13  24  17]\n",
      " [  0   0   0   0   0   0   0   0   0   0   2   2   1  16  82]]\n",
      "0.4252\n",
      "Processing Time: 0:00:00.215492\n"
     ]
    }
   ],
   "source": [
    "print(\"Score: \", score, \"\\n\")\n",
    "\n",
    "y_hat_con = rating_feature_conversion(y_hat)\n",
    "cm = confusion_matrix(y_con, y_hat_con)\n",
    "\n",
    "print(\"CM\")\n",
    "print(cm)\n",
    "\n",
    "print(accuracy_score(y_con, y_hat_con))\n",
    "\n",
    "print('Processing Time: {}'.format(end_time - start_time))"
   ]
  },
  {
   "cell_type": "code",
   "execution_count": 7,
   "metadata": {},
   "outputs": [],
   "source": [
    "from scipy.special import softmax\n",
    "from helper_functions import feature_reduction_y_grid\n",
    "\n",
    "#X2 = feature_reduction_y_grid(df)\n",
    "#imp.fit(X2)\n",
    "#X2 = imp.transform(X2)\n",
    "\n",
    "y2 = df.EnergyRating\n",
    "y_grid = pd.get_dummies(y2)\n",
    "#softmax(X, y2, Ridge())\n",
    "#X2_train, X2_test, y2_train, y2_test = train_test_split( X2, y_grid, random_state=2)\n",
    "X2_train, X2_test, y2_train, y2_test = train_test_split( X, y_grid, random_state=2)\n",
    "\n",
    "start_time2 = datetime.now()\n",
    "model = Ridge()\n",
    "model.fit(X2_train , y2_train)\n",
    "y_hat2 = model.predict(X2_test)\n",
    "y_hat_bal = pd.DataFrame(softmax(y_hat2, axis=1), columns = y_grid.columns)\n",
    "#print(y_hat_bal)\n",
    "y_true_hat = y_hat_bal.idxmax(axis=1)\n",
    "end_time2 = datetime.now()\n",
    "#print(y_hat_bal.idxmax(axis=1))"
   ]
  },
  {
   "cell_type": "code",
   "execution_count": 8,
   "metadata": {},
   "outputs": [
    {
     "name": "stdout",
     "output_type": "stream",
     "text": [
      "CM\n",
      "[[  3   4   0   0   0   0   0   0   0   0   0   0   0   0   0]\n",
      " [  0 191  77   0   0   0   0   0   0   0   0   0   0   0   0]\n",
      " [  0 100 273   2   2  13   1   0   0   0   0   0   0   0   0]\n",
      " [  0  12  10   4   8  28   8   1   0   0   0   0   0   0   0]\n",
      " [  0   6   4   4   6  73  27   0   1   4   1   0   0   0   0]\n",
      " [  0   0   3   5   2  80 103  15   4   5   1   0   0   0   1]\n",
      " [  0   1   0   1   3  63 181  44   5  21   1   0   0   0   2]\n",
      " [  0   0   0   2   2  22 106  63  11  26   5   0   0   0   3]\n",
      " [  0   0   0   3   1   9  56  53  15  42  12   0   0   1   6]\n",
      " [  0   0   1   0   0   3  30  43  21  48  18   0   0   0  10]\n",
      " [  0   0   0   0   0   3   9  17  18  47  36   0   0   2  28]\n",
      " [  0   0   2   0   0   1   0   4   0  14  29   0   0   0  32]\n",
      " [  0   0   1   0   0   0   0   2   3  12  18   1   0   0  37]\n",
      " [  0   0   0   0   0   0   0   1   1   3  21   0   0   0  39]\n",
      " [  0   0   0   0   0   0   0   0   0   1  11   0   0   1  90]]\n",
      "0.396\n",
      "Processing Time: 0:00:00.032233\n"
     ]
    }
   ],
   "source": [
    "#Using softmax\n",
    "#print(y2_test.idxmax(axis=1))\n",
    "#print(y_true_hat)\n",
    "y2_test_con = y2_test.idxmax(axis=1)\n",
    "\n",
    "cm2 = confusion_matrix(y2_test_con, y_true_hat)\n",
    "\n",
    "print(\"CM\")\n",
    "print(cm2)\n",
    "\n",
    "print(accuracy_score(y2_test_con, y_true_hat))\n",
    "\n",
    "print('Processing Time: {}'.format(end_time2 - start_time2))"
   ]
  }
 ],
 "metadata": {
  "kernelspec": {
   "display_name": "Python 3",
   "language": "python",
   "name": "python3"
  },
  "language_info": {
   "codemirror_mode": {
    "name": "ipython",
    "version": 3
   },
   "file_extension": ".py",
   "mimetype": "text/x-python",
   "name": "python",
   "nbconvert_exporter": "python",
   "pygments_lexer": "ipython3",
   "version": "3.9.3"
  }
 },
 "nbformat": 4,
 "nbformat_minor": 2
}
