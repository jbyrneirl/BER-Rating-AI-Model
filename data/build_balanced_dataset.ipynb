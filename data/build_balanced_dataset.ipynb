{
 "cells": [
  {
   "cell_type": "markdown",
   "metadata": {},
   "source": [
    "## Build Balanced DataSet for BER Rating \n",
    "\n",
    "This script can be used to take a list of tab-delimited files with the correct headers and to build an output CSV file which is nearly balanced. The main BER Research dataset as downloaded is 1.2GB and so it needs to be split into a number of 20MB files to allow processing.  \n",
    "\n",
    "The source folder is specified by ```files_path```.\n",
    "\n",
    "The output csv file is saved to the parent folder for ```files_path``` and is about 115MB.\n",
    "\n",
    "### Splitting the dataset file\n",
    "\n",
    "- Download the dataset from https://ndber.seai.ie/BERResearchTool/ber/search.aspx\n",
    "- Unzip the file\n",
    "- run the following command in a bash shell to take the raw txt file, split into files 20000 lines long and add the headings to each:\n",
    " \n",
    "  ```bash\n",
    "    $ cd BERPublicsearch\n",
    "    $ tail -n +2 BERPublicSearch.txt | split -d -l 20000 - --filter='sh -c \"{ head -n1 BERPublicSearch.txt ; cat; } > $FILE\"' --additional-suffix=.csv split_files/file_\n",
    "  ```\n",
    "  \n",
    "- details on the code can be found here -> https://www.baeldung.com/linux/split-file-with-header\n",
    "- make sure the split files are saved to the ```files_path``` folder"
   ]
  },
  {
   "cell_type": "code",
   "execution_count": 2,
   "metadata": {},
   "outputs": [],
   "source": [
    "# project modules\n",
    "import pandas as pd\n",
    "import numpy as np\n",
    "import matplotlib.pyplot as plt\n",
    "\n",
    "from os import listdir\n",
    "from os.path import isfile, join\n",
    "import sys\n",
    "\n",
    "files_path = \"BERPublicsearch/split_files\" # folder where the split data files are to be read from\n",
    "training_file_path = \"training\" # folder when the balanced data file is to be saved to"
   ]
  },
  {
   "cell_type": "markdown",
   "metadata": {},
   "source": [
    "### Read the data to build labels summary\n",
    "\n",
    "To achieve a balanced dataset the full set of split files need to be read first to generate a summary ```data_labels_summary``` of the number of each label for each file. This summary is dependent on the input files."
   ]
  },
  {
   "cell_type": "code",
   "execution_count": 3,
   "metadata": {},
   "outputs": [
    {
     "name": "stderr",
     "output_type": "stream",
     "text": [
      "C:\\Users\\jbyrne\\AppData\\Local\\Temp\\ipykernel_13860\\2944208915.py:12: DtypeWarning: Columns (144,150) have mixed types. Specify dtype option on import or set low_memory=False.\n",
      "  df_file = pd.read_table(file_name, sep=\"\\t\", encoding='cp437', header=0, on_bad_lines=\"warn\")\n"
     ]
    },
    {
     "name": "stdout",
     "output_type": "stream",
     "text": [
      "BERPublicsearch/split_files/file_00.csv ['BERPublicsearch/split_files/file_00.csv', 1, 7, 166, 544, 1845, 2671, 2165, 1983, 1817, 1960, 1951, 1281, 1096, 1083, 1430]\n"
     ]
    },
    {
     "name": "stderr",
     "output_type": "stream",
     "text": [
      "C:\\Users\\jbyrne\\AppData\\Local\\Temp\\ipykernel_13860\\2944208915.py:12: DtypeWarning: Columns (144,150) have mixed types. Specify dtype option on import or set low_memory=False.\n",
      "  df_file = pd.read_table(file_name, sep=\"\\t\", encoding='cp437', header=0, on_bad_lines=\"warn\")\n"
     ]
    },
    {
     "name": "stdout",
     "output_type": "stream",
     "text": [
      "BERPublicsearch/split_files/file_01.csv ['BERPublicsearch/split_files/file_01.csv', 1, 4, 101, 398, 899, 1814, 2254, 2338, 2552, 2594, 2409, 1257, 1031, 928, 1420]\n"
     ]
    },
    {
     "name": "stderr",
     "output_type": "stream",
     "text": [
      "C:\\Users\\jbyrne\\AppData\\Local\\Temp\\ipykernel_13860\\2944208915.py:12: DtypeWarning: Columns (144,150) have mixed types. Specify dtype option on import or set low_memory=False.\n",
      "  df_file = pd.read_table(file_name, sep=\"\\t\", encoding='cp437', header=0, on_bad_lines=\"warn\")\n"
     ]
    },
    {
     "name": "stdout",
     "output_type": "stream",
     "text": [
      "BERPublicsearch/split_files/file_02.csv ['BERPublicsearch/split_files/file_02.csv', 1, 19, 132, 281, 449, 1333, 2414, 2906, 3142, 2997, 2443, 1178, 860, 810, 1035]\n"
     ]
    },
    {
     "name": "stderr",
     "output_type": "stream",
     "text": [
      "C:\\Users\\jbyrne\\AppData\\Local\\Temp\\ipykernel_13860\\2944208915.py:12: DtypeWarning: Columns (144,150,155) have mixed types. Specify dtype option on import or set low_memory=False.\n",
      "  df_file = pd.read_table(file_name, sep=\"\\t\", encoding='cp437', header=0, on_bad_lines=\"warn\")\n"
     ]
    },
    {
     "name": "stdout",
     "output_type": "stream",
     "text": [
      "BERPublicsearch/split_files/file_03.csv ['BERPublicsearch/split_files/file_03.csv', 1, 1, 61, 229, 407, 1261, 2209, 2750, 2951, 2888, 2526, 1278, 993, 970, 1475]\n"
     ]
    },
    {
     "name": "stderr",
     "output_type": "stream",
     "text": [
      "C:\\Users\\jbyrne\\AppData\\Local\\Temp\\ipykernel_13860\\2944208915.py:12: DtypeWarning: Columns (150,155,161,166) have mixed types. Specify dtype option on import or set low_memory=False.\n",
      "  df_file = pd.read_table(file_name, sep=\"\\t\", encoding='cp437', header=0, on_bad_lines=\"warn\")\n"
     ]
    },
    {
     "name": "stdout",
     "output_type": "stream",
     "text": [
      "BERPublicsearch/split_files/file_04.csv ['BERPublicsearch/split_files/file_04.csv', 0, 7, 93, 289, 455, 1321, 2342, 2833, 2811, 2818, 2475, 1240, 972, 903, 1441]\n"
     ]
    },
    {
     "name": "stderr",
     "output_type": "stream",
     "text": [
      "C:\\Users\\jbyrne\\AppData\\Local\\Temp\\ipykernel_13860\\2944208915.py:12: DtypeWarning: Columns (144,150,161) have mixed types. Specify dtype option on import or set low_memory=False.\n",
      "  df_file = pd.read_table(file_name, sep=\"\\t\", encoding='cp437', header=0, on_bad_lines=\"warn\")\n"
     ]
    },
    {
     "name": "stdout",
     "output_type": "stream",
     "text": [
      "BERPublicsearch/split_files/file_05.csv ['BERPublicsearch/split_files/file_05.csv', 0, 6, 198, 333, 547, 1328, 2132, 2495, 2522, 2624, 2392, 1317, 1093, 1131, 1882]\n"
     ]
    },
    {
     "name": "stderr",
     "output_type": "stream",
     "text": [
      "C:\\Users\\jbyrne\\AppData\\Local\\Temp\\ipykernel_13860\\2944208915.py:12: DtypeWarning: Columns (150) have mixed types. Specify dtype option on import or set low_memory=False.\n",
      "  df_file = pd.read_table(file_name, sep=\"\\t\", encoding='cp437', header=0, on_bad_lines=\"warn\")\n"
     ]
    },
    {
     "name": "stdout",
     "output_type": "stream",
     "text": [
      "BERPublicsearch/split_files/file_06.csv ['BERPublicsearch/split_files/file_06.csv', 0, 15, 165, 251, 446, 1364, 2004, 2477, 2593, 2740, 2465, 1402, 1155, 1172, 1751]\n"
     ]
    },
    {
     "name": "stderr",
     "output_type": "stream",
     "text": [
      "C:\\Users\\jbyrne\\AppData\\Local\\Temp\\ipykernel_13860\\2944208915.py:12: DtypeWarning: Columns (150,155) have mixed types. Specify dtype option on import or set low_memory=False.\n",
      "  df_file = pd.read_table(file_name, sep=\"\\t\", encoding='cp437', header=0, on_bad_lines=\"warn\")\n"
     ]
    },
    {
     "name": "stdout",
     "output_type": "stream",
     "text": [
      "BERPublicsearch/split_files/file_07.csv ['BERPublicsearch/split_files/file_07.csv', 0, 22, 288, 287, 431, 1204, 2063, 2562, 2699, 2763, 2315, 1488, 1169, 1180, 1529]\n"
     ]
    },
    {
     "name": "stderr",
     "output_type": "stream",
     "text": [
      "C:\\Users\\jbyrne\\AppData\\Local\\Temp\\ipykernel_13860\\2944208915.py:12: DtypeWarning: Columns (144,150) have mixed types. Specify dtype option on import or set low_memory=False.\n",
      "  df_file = pd.read_table(file_name, sep=\"\\t\", encoding='cp437', header=0, on_bad_lines=\"warn\")\n"
     ]
    },
    {
     "name": "stdout",
     "output_type": "stream",
     "text": [
      "BERPublicsearch/split_files/file_08.csv ['BERPublicsearch/split_files/file_08.csv', 0, 71, 484, 259, 469, 1142, 2097, 2678, 2556, 2684, 2385, 1390, 1063, 1147, 1575]\n"
     ]
    },
    {
     "name": "stderr",
     "output_type": "stream",
     "text": [
      "C:\\Users\\jbyrne\\AppData\\Local\\Temp\\ipykernel_13860\\2944208915.py:12: DtypeWarning: Columns (144,150,155,161) have mixed types. Specify dtype option on import or set low_memory=False.\n",
      "  df_file = pd.read_table(file_name, sep=\"\\t\", encoding='cp437', header=0, on_bad_lines=\"warn\")\n"
     ]
    },
    {
     "name": "stdout",
     "output_type": "stream",
     "text": [
      "BERPublicsearch/split_files/file_09.csv ['BERPublicsearch/split_files/file_09.csv', 0, 104, 745, 237, 433, 1234, 2310, 2813, 2601, 2576, 2185, 1381, 1016, 1051, 1314]\n"
     ]
    },
    {
     "name": "stderr",
     "output_type": "stream",
     "text": [
      "C:\\Users\\jbyrne\\AppData\\Local\\Temp\\ipykernel_13860\\2944208915.py:12: DtypeWarning: Columns (144,150,161) have mixed types. Specify dtype option on import or set low_memory=False.\n",
      "  df_file = pd.read_table(file_name, sep=\"\\t\", encoding='cp437', header=0, on_bad_lines=\"warn\")\n"
     ]
    },
    {
     "name": "stdout",
     "output_type": "stream",
     "text": [
      "BERPublicsearch/split_files/file_10.csv ['BERPublicsearch/split_files/file_10.csv', 2, 188, 846, 227, 461, 1256, 2146, 2646, 2526, 2517, 2197, 1357, 1054, 1048, 1529]\n"
     ]
    },
    {
     "name": "stderr",
     "output_type": "stream",
     "text": [
      "C:\\Users\\jbyrne\\AppData\\Local\\Temp\\ipykernel_13860\\2944208915.py:12: DtypeWarning: Columns (150,155,161,166) have mixed types. Specify dtype option on import or set low_memory=False.\n",
      "  df_file = pd.read_table(file_name, sep=\"\\t\", encoding='cp437', header=0, on_bad_lines=\"warn\")\n"
     ]
    },
    {
     "name": "stdout",
     "output_type": "stream",
     "text": [
      "BERPublicsearch/split_files/file_11.csv ['BERPublicsearch/split_files/file_11.csv', 4, 281, 1099, 208, 510, 1448, 2330, 2698, 2503, 2450, 2073, 1169, 895, 983, 1349]\n"
     ]
    },
    {
     "name": "stderr",
     "output_type": "stream",
     "text": [
      "C:\\Users\\jbyrne\\AppData\\Local\\Temp\\ipykernel_13860\\2944208915.py:12: DtypeWarning: Columns (144,155,161) have mixed types. Specify dtype option on import or set low_memory=False.\n",
      "  df_file = pd.read_table(file_name, sep=\"\\t\", encoding='cp437', header=0, on_bad_lines=\"warn\")\n"
     ]
    },
    {
     "name": "stdout",
     "output_type": "stream",
     "text": [
      "BERPublicsearch/split_files/file_12.csv ['BERPublicsearch/split_files/file_12.csv', 5, 455, 1378, 145, 557, 1360, 2288, 2632, 2405, 2364, 1907, 1159, 937, 1007, 1401]\n"
     ]
    },
    {
     "name": "stderr",
     "output_type": "stream",
     "text": [
      "C:\\Users\\jbyrne\\AppData\\Local\\Temp\\ipykernel_13860\\2944208915.py:12: DtypeWarning: Columns (161) have mixed types. Specify dtype option on import or set low_memory=False.\n",
      "  df_file = pd.read_table(file_name, sep=\"\\t\", encoding='cp437', header=0, on_bad_lines=\"warn\")\n"
     ]
    },
    {
     "name": "stdout",
     "output_type": "stream",
     "text": [
      "BERPublicsearch/split_files/file_13.csv ['BERPublicsearch/split_files/file_13.csv', 15, 798, 1863, 132, 454, 1329, 2276, 2408, 2280, 2183, 1926, 1178, 953, 871, 1334]\n"
     ]
    },
    {
     "name": "stderr",
     "output_type": "stream",
     "text": [
      "C:\\Users\\jbyrne\\AppData\\Local\\Temp\\ipykernel_13860\\2944208915.py:12: DtypeWarning: Columns (144,155) have mixed types. Specify dtype option on import or set low_memory=False.\n",
      "  df_file = pd.read_table(file_name, sep=\"\\t\", encoding='cp437', header=0, on_bad_lines=\"warn\")\n"
     ]
    },
    {
     "name": "stdout",
     "output_type": "stream",
     "text": [
      "BERPublicsearch/split_files/file_14.csv ['BERPublicsearch/split_files/file_14.csv', 1, 746, 2488, 295, 592, 1384, 2256, 2406, 2185, 2055, 1700, 1001, 825, 843, 1223]\n"
     ]
    },
    {
     "name": "stderr",
     "output_type": "stream",
     "text": [
      "C:\\Users\\jbyrne\\AppData\\Local\\Temp\\ipykernel_13860\\2944208915.py:12: DtypeWarning: Columns (155,161) have mixed types. Specify dtype option on import or set low_memory=False.\n",
      "  df_file = pd.read_table(file_name, sep=\"\\t\", encoding='cp437', header=0, on_bad_lines=\"warn\")\n"
     ]
    },
    {
     "name": "stdout",
     "output_type": "stream",
     "text": [
      "BERPublicsearch/split_files/file_15.csv ['BERPublicsearch/split_files/file_15.csv', 12, 994, 2525, 143, 409, 1337, 2140, 2517, 2180, 2029, 1678, 990, 781, 904, 1361]\n"
     ]
    },
    {
     "name": "stderr",
     "output_type": "stream",
     "text": [
      "C:\\Users\\jbyrne\\AppData\\Local\\Temp\\ipykernel_13860\\2944208915.py:12: DtypeWarning: Columns (155,161) have mixed types. Specify dtype option on import or set low_memory=False.\n",
      "  df_file = pd.read_table(file_name, sep=\"\\t\", encoding='cp437', header=0, on_bad_lines=\"warn\")\n"
     ]
    },
    {
     "name": "stdout",
     "output_type": "stream",
     "text": [
      "BERPublicsearch/split_files/file_16.csv ['BERPublicsearch/split_files/file_16.csv', 20, 1282, 3044, 238, 483, 1528, 2388, 2405, 2036, 1756, 1452, 830, 656, 733, 1149]\n"
     ]
    },
    {
     "name": "stderr",
     "output_type": "stream",
     "text": [
      "C:\\Users\\jbyrne\\AppData\\Local\\Temp\\ipykernel_13860\\2944208915.py:12: DtypeWarning: Columns (155,161,166) have mixed types. Specify dtype option on import or set low_memory=False.\n",
      "  df_file = pd.read_table(file_name, sep=\"\\t\", encoding='cp437', header=0, on_bad_lines=\"warn\")\n"
     ]
    },
    {
     "name": "stdout",
     "output_type": "stream",
     "text": [
      "BERPublicsearch/split_files/file_17.csv ['BERPublicsearch/split_files/file_17.csv', 14, 1253, 2741, 214, 575, 1671, 2537, 2563, 2024, 1738, 1404, 826, 637, 711, 1092]\n"
     ]
    },
    {
     "name": "stderr",
     "output_type": "stream",
     "text": [
      "C:\\Users\\jbyrne\\AppData\\Local\\Temp\\ipykernel_13860\\2944208915.py:12: DtypeWarning: Columns (161) have mixed types. Specify dtype option on import or set low_memory=False.\n",
      "  df_file = pd.read_table(file_name, sep=\"\\t\", encoding='cp437', header=0, on_bad_lines=\"warn\")\n"
     ]
    },
    {
     "name": "stdout",
     "output_type": "stream",
     "text": [
      "BERPublicsearch/split_files/file_18.csv ['BERPublicsearch/split_files/file_18.csv', 19, 1931, 3197, 396, 676, 1567, 2458, 2238, 1878, 1628, 1291, 702, 560, 541, 918]\n"
     ]
    },
    {
     "name": "stderr",
     "output_type": "stream",
     "text": [
      "C:\\Users\\jbyrne\\AppData\\Local\\Temp\\ipykernel_13860\\2944208915.py:12: DtypeWarning: Columns (61,62,63,64,65,66,71,73,97,98,155,161) have mixed types. Specify dtype option on import or set low_memory=False.\n",
      "  df_file = pd.read_table(file_name, sep=\"\\t\", encoding='cp437', header=0, on_bad_lines=\"warn\")\n"
     ]
    },
    {
     "name": "stdout",
     "output_type": "stream",
     "text": [
      "BERPublicsearch/split_files/file_19.csv ['BERPublicsearch/split_files/file_19.csv', 73, 2842, 1985, 361, 916, 1923, 2446, 2178, 1806, 1489, 1283, 736, 522, 560, 880]\n"
     ]
    },
    {
     "name": "stderr",
     "output_type": "stream",
     "text": [
      "C:\\Users\\jbyrne\\AppData\\Local\\Temp\\ipykernel_13860\\2944208915.py:12: DtypeWarning: Columns (155,161) have mixed types. Specify dtype option on import or set low_memory=False.\n",
      "  df_file = pd.read_table(file_name, sep=\"\\t\", encoding='cp437', header=0, on_bad_lines=\"warn\")\n"
     ]
    },
    {
     "name": "stdout",
     "output_type": "stream",
     "text": [
      "BERPublicsearch/split_files/file_20.csv ['BERPublicsearch/split_files/file_20.csv', 61, 3465, 2182, 475, 949, 1767, 2117, 1950, 1675, 1533, 1232, 649, 511, 560, 874]\n",
      "BERPublicsearch/split_files/file_21.csv ['BERPublicsearch/split_files/file_21.csv', 71, 3757, 1411, 464, 999, 1922, 1970, 1956, 1768, 1474, 1279, 754, 578, 591, 1006]\n"
     ]
    },
    {
     "name": "stderr",
     "output_type": "stream",
     "text": [
      "C:\\Users\\jbyrne\\AppData\\Local\\Temp\\ipykernel_13860\\2944208915.py:12: DtypeWarning: Columns (144) have mixed types. Specify dtype option on import or set low_memory=False.\n",
      "  df_file = pd.read_table(file_name, sep=\"\\t\", encoding='cp437', header=0, on_bad_lines=\"warn\")\n"
     ]
    },
    {
     "name": "stdout",
     "output_type": "stream",
     "text": [
      "BERPublicsearch/split_files/file_22.csv ['BERPublicsearch/split_files/file_22.csv', 167, 4231, 1301, 724, 1163, 1809, 1966, 1791, 1669, 1459, 1127, 644, 507, 541, 901]\n"
     ]
    },
    {
     "name": "stderr",
     "output_type": "stream",
     "text": [
      "C:\\Users\\jbyrne\\AppData\\Local\\Temp\\ipykernel_13860\\2944208915.py:12: DtypeWarning: Columns (144,161) have mixed types. Specify dtype option on import or set low_memory=False.\n",
      "  df_file = pd.read_table(file_name, sep=\"\\t\", encoding='cp437', header=0, on_bad_lines=\"warn\")\n"
     ]
    },
    {
     "name": "stdout",
     "output_type": "stream",
     "text": [
      "BERPublicsearch/split_files/file_23.csv ['BERPublicsearch/split_files/file_23.csv', 179, 4231, 1065, 694, 1259, 1996, 1916, 1807, 1660, 1405, 1147, 648, 517, 582, 894]\n"
     ]
    },
    {
     "name": "stderr",
     "output_type": "stream",
     "text": [
      "C:\\Users\\jbyrne\\AppData\\Local\\Temp\\ipykernel_13860\\2944208915.py:12: DtypeWarning: Columns (144,161) have mixed types. Specify dtype option on import or set low_memory=False.\n",
      "  df_file = pd.read_table(file_name, sep=\"\\t\", encoding='cp437', header=0, on_bad_lines=\"warn\")\n"
     ]
    },
    {
     "name": "stdout",
     "output_type": "stream",
     "text": [
      "BERPublicsearch/split_files/file_24.csv ['BERPublicsearch/split_files/file_24.csv', 312, 4102, 1214, 838, 1340, 2055, 1782, 1804, 1506, 1362, 1134, 612, 512, 551, 876]\n"
     ]
    },
    {
     "name": "stderr",
     "output_type": "stream",
     "text": [
      "C:\\Users\\jbyrne\\AppData\\Local\\Temp\\ipykernel_13860\\2944208915.py:12: DtypeWarning: Columns (144,161) have mixed types. Specify dtype option on import or set low_memory=False.\n",
      "  df_file = pd.read_table(file_name, sep=\"\\t\", encoding='cp437', header=0, on_bad_lines=\"warn\")\n"
     ]
    },
    {
     "name": "stdout",
     "output_type": "stream",
     "text": [
      "BERPublicsearch/split_files/file_25.csv ['BERPublicsearch/split_files/file_25.csv', 466, 4489, 1508, 1088, 1325, 1926, 1755, 1653, 1368, 1229, 1011, 550, 486, 460, 686]\n"
     ]
    },
    {
     "name": "stderr",
     "output_type": "stream",
     "text": [
      "C:\\Users\\jbyrne\\AppData\\Local\\Temp\\ipykernel_13860\\2944208915.py:12: DtypeWarning: Columns (144,161) have mixed types. Specify dtype option on import or set low_memory=False.\n",
      "  df_file = pd.read_table(file_name, sep=\"\\t\", encoding='cp437', header=0, on_bad_lines=\"warn\")\n"
     ]
    },
    {
     "name": "stdout",
     "output_type": "stream",
     "text": [
      "BERPublicsearch/split_files/file_26.csv ['BERPublicsearch/split_files/file_26.csv', 436, 4192, 999, 784, 1407, 2146, 1998, 1803, 1455, 1201, 1019, 691, 520, 599, 750]\n"
     ]
    },
    {
     "name": "stderr",
     "output_type": "stream",
     "text": [
      "C:\\Users\\jbyrne\\AppData\\Local\\Temp\\ipykernel_13860\\2944208915.py:12: DtypeWarning: Columns (144,155,161) have mixed types. Specify dtype option on import or set low_memory=False.\n",
      "  df_file = pd.read_table(file_name, sep=\"\\t\", encoding='cp437', header=0, on_bad_lines=\"warn\")\n"
     ]
    },
    {
     "name": "stdout",
     "output_type": "stream",
     "text": [
      "BERPublicsearch/split_files/file_27.csv ['BERPublicsearch/split_files/file_27.csv', 611, 4418, 944, 826, 1269, 2123, 1894, 1715, 1453, 1227, 1047, 618, 500, 574, 781]\n"
     ]
    },
    {
     "name": "stderr",
     "output_type": "stream",
     "text": [
      "C:\\Users\\jbyrne\\AppData\\Local\\Temp\\ipykernel_13860\\2944208915.py:12: DtypeWarning: Columns (142,145,146,152,153,156,161) have mixed types. Specify dtype option on import or set low_memory=False.\n",
      "  df_file = pd.read_table(file_name, sep=\"\\t\", encoding='cp437', header=0, on_bad_lines=\"warn\")\n"
     ]
    },
    {
     "name": "stdout",
     "output_type": "stream",
     "text": [
      "BERPublicsearch/split_files/file_28.csv ['BERPublicsearch/split_files/file_28.csv', 357, 3365, 773, 646, 895, 1290, 1177, 1087, 830, 719, 610, 396, 324, 331, 443]\n"
     ]
    },
    {
     "name": "stderr",
     "output_type": "stream",
     "text": [
      "Skipping line 10840: expected 211 fields, saw 255\n",
      "\n",
      "C:\\Users\\jbyrne\\AppData\\Local\\Temp\\ipykernel_13860\\2944208915.py:12: DtypeWarning: Columns (61,62,63,64,65,66,71,73,144) have mixed types. Specify dtype option on import or set low_memory=False.\n",
      "  df_file = pd.read_table(file_name, sep=\"\\t\", encoding='cp437', header=0, on_bad_lines=\"warn\")\n"
     ]
    },
    {
     "name": "stdout",
     "output_type": "stream",
     "text": [
      "BERPublicsearch/split_files/file_29.csv ['BERPublicsearch/split_files/file_29.csv', 544, 4063, 1229, 899, 1272, 1945, 1843, 1514, 1240, 1125, 854, 553, 380, 437, 569]\n"
     ]
    },
    {
     "name": "stderr",
     "output_type": "stream",
     "text": [
      "C:\\Users\\jbyrne\\AppData\\Local\\Temp\\ipykernel_13860\\2944208915.py:12: DtypeWarning: Columns (97,98,144,155) have mixed types. Specify dtype option on import or set low_memory=False.\n",
      "  df_file = pd.read_table(file_name, sep=\"\\t\", encoding='cp437', header=0, on_bad_lines=\"warn\")\n"
     ]
    },
    {
     "name": "stdout",
     "output_type": "stream",
     "text": [
      "BERPublicsearch/split_files/file_30.csv ['BERPublicsearch/split_files/file_30.csv', 365, 5166, 5291, 610, 787, 1297, 1247, 1123, 967, 824, 675, 446, 348, 338, 516]\n"
     ]
    },
    {
     "name": "stderr",
     "output_type": "stream",
     "text": [
      "C:\\Users\\jbyrne\\AppData\\Local\\Temp\\ipykernel_13860\\2944208915.py:12: DtypeWarning: Columns (61,62,63,64,65,66,71,73,144) have mixed types. Specify dtype option on import or set low_memory=False.\n",
      "  df_file = pd.read_table(file_name, sep=\"\\t\", encoding='cp437', header=0, on_bad_lines=\"warn\")\n"
     ]
    },
    {
     "name": "stdout",
     "output_type": "stream",
     "text": [
      "BERPublicsearch/split_files/file_31.csv ['BERPublicsearch/split_files/file_31.csv', 1846, 8361, 2915, 991, 1160, 1107, 901, 715, 564, 457, 315, 207, 156, 135, 170]\n"
     ]
    },
    {
     "name": "stderr",
     "output_type": "stream",
     "text": [
      "C:\\Users\\jbyrne\\AppData\\Local\\Temp\\ipykernel_13860\\2944208915.py:12: DtypeWarning: Columns (97,98,144,155,161) have mixed types. Specify dtype option on import or set low_memory=False.\n",
      "  df_file = pd.read_table(file_name, sep=\"\\t\", encoding='cp437', header=0, on_bad_lines=\"warn\")\n"
     ]
    },
    {
     "name": "stdout",
     "output_type": "stream",
     "text": [
      "BERPublicsearch/split_files/file_32.csv ['BERPublicsearch/split_files/file_32.csv', 15, 206, 1111, 612, 711, 1249, 2199, 2652, 2542, 2586, 2155, 1275, 970, 872, 845]\n"
     ]
    },
    {
     "name": "stderr",
     "output_type": "stream",
     "text": [
      "C:\\Users\\jbyrne\\AppData\\Local\\Temp\\ipykernel_13860\\2944208915.py:12: DtypeWarning: Columns (97,98,155,166) have mixed types. Specify dtype option on import or set low_memory=False.\n",
      "  df_file = pd.read_table(file_name, sep=\"\\t\", encoding='cp437', header=0, on_bad_lines=\"warn\")\n"
     ]
    },
    {
     "name": "stdout",
     "output_type": "stream",
     "text": [
      "BERPublicsearch/split_files/file_33.csv ['BERPublicsearch/split_files/file_33.csv', 9, 1086, 4713, 364, 596, 1165, 1913, 2112, 1895, 1833, 1435, 870, 685, 659, 665]\n"
     ]
    },
    {
     "name": "stderr",
     "output_type": "stream",
     "text": [
      "C:\\Users\\jbyrne\\AppData\\Local\\Temp\\ipykernel_13860\\2944208915.py:12: DtypeWarning: Columns (155,161,166) have mixed types. Specify dtype option on import or set low_memory=False.\n",
      "  df_file = pd.read_table(file_name, sep=\"\\t\", encoding='cp437', header=0, on_bad_lines=\"warn\")\n"
     ]
    },
    {
     "name": "stdout",
     "output_type": "stream",
     "text": [
      "BERPublicsearch/split_files/file_34.csv ['BERPublicsearch/split_files/file_34.csv', 28, 2386, 5331, 426, 640, 1481, 2120, 1903, 1483, 1229, 1034, 520, 404, 433, 582]\n"
     ]
    },
    {
     "name": "stderr",
     "output_type": "stream",
     "text": [
      "C:\\Users\\jbyrne\\AppData\\Local\\Temp\\ipykernel_13860\\2944208915.py:12: DtypeWarning: Columns (61,62,63,64,65,66,71,73,144,155,161) have mixed types. Specify dtype option on import or set low_memory=False.\n",
      "  df_file = pd.read_table(file_name, sep=\"\\t\", encoding='cp437', header=0, on_bad_lines=\"warn\")\n"
     ]
    },
    {
     "name": "stdout",
     "output_type": "stream",
     "text": [
      "BERPublicsearch/split_files/file_35.csv ['BERPublicsearch/split_files/file_35.csv', 145, 6072, 2231, 720, 1104, 1619, 1623, 1497, 1327, 1091, 843, 461, 386, 359, 522]\n"
     ]
    },
    {
     "name": "stderr",
     "output_type": "stream",
     "text": [
      "C:\\Users\\jbyrne\\AppData\\Local\\Temp\\ipykernel_13860\\2944208915.py:12: DtypeWarning: Columns (144,155) have mixed types. Specify dtype option on import or set low_memory=False.\n",
      "  df_file = pd.read_table(file_name, sep=\"\\t\", encoding='cp437', header=0, on_bad_lines=\"warn\")\n"
     ]
    },
    {
     "name": "stdout",
     "output_type": "stream",
     "text": [
      "BERPublicsearch/split_files/file_36.csv ['BERPublicsearch/split_files/file_36.csv', 413, 5987, 1556, 1206, 1406, 1801, 1512, 1413, 1210, 1009, 809, 445, 375, 357, 501]\n"
     ]
    },
    {
     "name": "stderr",
     "output_type": "stream",
     "text": [
      "C:\\Users\\jbyrne\\AppData\\Local\\Temp\\ipykernel_13860\\2944208915.py:12: DtypeWarning: Columns (144) have mixed types. Specify dtype option on import or set low_memory=False.\n",
      "  df_file = pd.read_table(file_name, sep=\"\\t\", encoding='cp437', header=0, on_bad_lines=\"warn\")\n"
     ]
    },
    {
     "name": "stdout",
     "output_type": "stream",
     "text": [
      "BERPublicsearch/split_files/file_37.csv ['BERPublicsearch/split_files/file_37.csv', 604, 5130, 1333, 1302, 1529, 2024, 1780, 1524, 1214, 983, 765, 498, 370, 409, 535]\n"
     ]
    },
    {
     "name": "stderr",
     "output_type": "stream",
     "text": [
      "C:\\Users\\jbyrne\\AppData\\Local\\Temp\\ipykernel_13860\\2944208915.py:12: DtypeWarning: Columns (61,62,63,64,65,66,71,73,97,98,150,161) have mixed types. Specify dtype option on import or set low_memory=False.\n",
      "  df_file = pd.read_table(file_name, sep=\"\\t\", encoding='cp437', header=0, on_bad_lines=\"warn\")\n"
     ]
    },
    {
     "name": "stdout",
     "output_type": "stream",
     "text": [
      "BERPublicsearch/split_files/file_38.csv ['BERPublicsearch/split_files/file_38.csv', 191, 1532, 469, 674, 1662, 2486, 2171, 1813, 1694, 1710, 1535, 1016, 894, 899, 1254]\n"
     ]
    },
    {
     "name": "stderr",
     "output_type": "stream",
     "text": [
      "C:\\Users\\jbyrne\\AppData\\Local\\Temp\\ipykernel_13860\\2944208915.py:12: DtypeWarning: Columns (139,144,150) have mixed types. Specify dtype option on import or set low_memory=False.\n",
      "  df_file = pd.read_table(file_name, sep=\"\\t\", encoding='cp437', header=0, on_bad_lines=\"warn\")\n"
     ]
    },
    {
     "name": "stdout",
     "output_type": "stream",
     "text": [
      "BERPublicsearch/split_files/file_39.csv ['BERPublicsearch/split_files/file_39.csv', 0, 2, 44, 313, 900, 1972, 2302, 2273, 2381, 2447, 2410, 1328, 1092, 1035, 1501]\n"
     ]
    },
    {
     "name": "stderr",
     "output_type": "stream",
     "text": [
      "C:\\Users\\jbyrne\\AppData\\Local\\Temp\\ipykernel_13860\\2944208915.py:12: DtypeWarning: Columns (144) have mixed types. Specify dtype option on import or set low_memory=False.\n",
      "  df_file = pd.read_table(file_name, sep=\"\\t\", encoding='cp437', header=0, on_bad_lines=\"warn\")\n"
     ]
    },
    {
     "name": "stdout",
     "output_type": "stream",
     "text": [
      "BERPublicsearch/split_files/file_40.csv ['BERPublicsearch/split_files/file_40.csv', 0, 0, 39, 217, 413, 1288, 2316, 2963, 3106, 3026, 2526, 1200, 879, 886, 1141]\n"
     ]
    },
    {
     "name": "stderr",
     "output_type": "stream",
     "text": [
      "C:\\Users\\jbyrne\\AppData\\Local\\Temp\\ipykernel_13860\\2944208915.py:12: DtypeWarning: Columns (150) have mixed types. Specify dtype option on import or set low_memory=False.\n",
      "  df_file = pd.read_table(file_name, sep=\"\\t\", encoding='cp437', header=0, on_bad_lines=\"warn\")\n"
     ]
    },
    {
     "name": "stdout",
     "output_type": "stream",
     "text": [
      "BERPublicsearch/split_files/file_41.csv ['BERPublicsearch/split_files/file_41.csv', 0, 0, 16, 271, 368, 1237, 2222, 2936, 3020, 2927, 2421, 1266, 935, 961, 1420]\n"
     ]
    },
    {
     "name": "stderr",
     "output_type": "stream",
     "text": [
      "C:\\Users\\jbyrne\\AppData\\Local\\Temp\\ipykernel_13860\\2944208915.py:12: DtypeWarning: Columns (144) have mixed types. Specify dtype option on import or set low_memory=False.\n",
      "  df_file = pd.read_table(file_name, sep=\"\\t\", encoding='cp437', header=0, on_bad_lines=\"warn\")\n"
     ]
    },
    {
     "name": "stdout",
     "output_type": "stream",
     "text": [
      "BERPublicsearch/split_files/file_42.csv ['BERPublicsearch/split_files/file_42.csv', 0, 1, 37, 223, 441, 1287, 2397, 2867, 2997, 2895, 2354, 1264, 913, 916, 1408]\n"
     ]
    },
    {
     "name": "stderr",
     "output_type": "stream",
     "text": [
      "C:\\Users\\jbyrne\\AppData\\Local\\Temp\\ipykernel_13860\\2944208915.py:12: DtypeWarning: Columns (139,161) have mixed types. Specify dtype option on import or set low_memory=False.\n",
      "  df_file = pd.read_table(file_name, sep=\"\\t\", encoding='cp437', header=0, on_bad_lines=\"warn\")\n"
     ]
    },
    {
     "name": "stdout",
     "output_type": "stream",
     "text": [
      "BERPublicsearch/split_files/file_43.csv ['BERPublicsearch/split_files/file_43.csv', 0, 0, 57, 194, 421, 1413, 2125, 2498, 2583, 2648, 2390, 1394, 1133, 1191, 1953]\n",
      "BERPublicsearch/split_files/file_44.csv ['BERPublicsearch/split_files/file_44.csv', 0, 0, 126, 223, 410, 1376, 2159, 2412, 2589, 2621, 2433, 1420, 1185, 1188, 1858]\n"
     ]
    },
    {
     "name": "stderr",
     "output_type": "stream",
     "text": [
      "C:\\Users\\jbyrne\\AppData\\Local\\Temp\\ipykernel_13860\\2944208915.py:12: DtypeWarning: Columns (144) have mixed types. Specify dtype option on import or set low_memory=False.\n",
      "  df_file = pd.read_table(file_name, sep=\"\\t\", encoding='cp437', header=0, on_bad_lines=\"warn\")\n"
     ]
    },
    {
     "name": "stdout",
     "output_type": "stream",
     "text": [
      "BERPublicsearch/split_files/file_45.csv ['BERPublicsearch/split_files/file_45.csv', 0, 5, 189, 188, 415, 1145, 1991, 2710, 2701, 2729, 2473, 1388, 1150, 1181, 1735]\n",
      "BERPublicsearch/split_files/file_46.csv ['BERPublicsearch/split_files/file_46.csv', 0, 15, 264, 168, 421, 1328, 2376, 2710, 2615, 2576, 2361, 1344, 1121, 1104, 1597]\n",
      "BERPublicsearch/split_files/file_47.csv ['BERPublicsearch/split_files/file_47.csv', 0, 41, 374, 164, 426, 1364, 2227, 2693, 2614, 2631, 2278, 1389, 1068, 1074, 1657]\n"
     ]
    },
    {
     "name": "stderr",
     "output_type": "stream",
     "text": [
      "C:\\Users\\jbyrne\\AppData\\Local\\Temp\\ipykernel_13860\\2944208915.py:12: DtypeWarning: Columns (144,150,161) have mixed types. Specify dtype option on import or set low_memory=False.\n",
      "  df_file = pd.read_table(file_name, sep=\"\\t\", encoding='cp437', header=0, on_bad_lines=\"warn\")\n"
     ]
    },
    {
     "name": "stdout",
     "output_type": "stream",
     "text": [
      "BERPublicsearch/split_files/file_48.csv ['BERPublicsearch/split_files/file_48.csv', 0, 94, 405, 105, 451, 1423, 2475, 2761, 2583, 2595, 2123, 1271, 1029, 1065, 1620]\n"
     ]
    },
    {
     "name": "stderr",
     "output_type": "stream",
     "text": [
      "C:\\Users\\jbyrne\\AppData\\Local\\Temp\\ipykernel_13860\\2944208915.py:12: DtypeWarning: Columns (150,161) have mixed types. Specify dtype option on import or set low_memory=False.\n",
      "  df_file = pd.read_table(file_name, sep=\"\\t\", encoding='cp437', header=0, on_bad_lines=\"warn\")\n"
     ]
    },
    {
     "name": "stdout",
     "output_type": "stream",
     "text": [
      "BERPublicsearch/split_files/file_49.csv ['BERPublicsearch/split_files/file_49.csv', 0, 67, 484, 118, 580, 1575, 2420, 2704, 2574, 2459, 2115, 1299, 1008, 1047, 1550]\n"
     ]
    },
    {
     "name": "stderr",
     "output_type": "stream",
     "text": [
      "C:\\Users\\jbyrne\\AppData\\Local\\Temp\\ipykernel_13860\\2944208915.py:12: DtypeWarning: Columns (97,98,150) have mixed types. Specify dtype option on import or set low_memory=False.\n",
      "  df_file = pd.read_table(file_name, sep=\"\\t\", encoding='cp437', header=0, on_bad_lines=\"warn\")\n"
     ]
    },
    {
     "name": "stdout",
     "output_type": "stream",
     "text": [
      "BERPublicsearch/split_files/file_50.csv ['BERPublicsearch/split_files/file_50.csv', 0, 76, 640, 155, 520, 1543, 2498, 2679, 2441, 2520, 2116, 1232, 994, 1048, 1538]\n"
     ]
    },
    {
     "name": "stderr",
     "output_type": "stream",
     "text": [
      "C:\\Users\\jbyrne\\AppData\\Local\\Temp\\ipykernel_13860\\2944208915.py:12: DtypeWarning: Columns (97,98,144,150,161) have mixed types. Specify dtype option on import or set low_memory=False.\n",
      "  df_file = pd.read_table(file_name, sep=\"\\t\", encoding='cp437', header=0, on_bad_lines=\"warn\")\n"
     ]
    },
    {
     "name": "stdout",
     "output_type": "stream",
     "text": [
      "BERPublicsearch/split_files/file_51.csv ['BERPublicsearch/split_files/file_51.csv', 0, 96, 650, 120, 456, 1555, 2727, 2901, 2499, 2322, 1929, 1152, 947, 1033, 1613]\n"
     ]
    },
    {
     "name": "stderr",
     "output_type": "stream",
     "text": [
      "C:\\Users\\jbyrne\\AppData\\Local\\Temp\\ipykernel_13860\\2944208915.py:12: DtypeWarning: Columns (144,150,161) have mixed types. Specify dtype option on import or set low_memory=False.\n",
      "  df_file = pd.read_table(file_name, sep=\"\\t\", encoding='cp437', header=0, on_bad_lines=\"warn\")\n"
     ]
    },
    {
     "name": "stdout",
     "output_type": "stream",
     "text": [
      "BERPublicsearch/split_files/file_52.csv ['BERPublicsearch/split_files/file_52.csv', 0, 203, 695, 136, 552, 1899, 2997, 2889, 2395, 2222, 1791, 1048, 801, 946, 1426]\n"
     ]
    },
    {
     "name": "stderr",
     "output_type": "stream",
     "text": [
      "C:\\Users\\jbyrne\\AppData\\Local\\Temp\\ipykernel_13860\\2944208915.py:12: DtypeWarning: Columns (61,62,63,64,65,66,71,73,144,150) have mixed types. Specify dtype option on import or set low_memory=False.\n",
      "  df_file = pd.read_table(file_name, sep=\"\\t\", encoding='cp437', header=0, on_bad_lines=\"warn\")\n"
     ]
    },
    {
     "name": "stdout",
     "output_type": "stream",
     "text": [
      "BERPublicsearch/split_files/file_53.csv ['BERPublicsearch/split_files/file_53.csv', 8, 622, 760, 358, 924, 2174, 2914, 2706, 2283, 1984, 1644, 920, 751, 708, 1244]\n"
     ]
    },
    {
     "name": "stderr",
     "output_type": "stream",
     "text": [
      "C:\\Users\\jbyrne\\AppData\\Local\\Temp\\ipykernel_13860\\2944208915.py:12: DtypeWarning: Columns (161) have mixed types. Specify dtype option on import or set low_memory=False.\n",
      "  df_file = pd.read_table(file_name, sep=\"\\t\", encoding='cp437', header=0, on_bad_lines=\"warn\")\n"
     ]
    },
    {
     "name": "stdout",
     "output_type": "stream",
     "text": [
      "BERPublicsearch/split_files/file_54.csv ['BERPublicsearch/split_files/file_54.csv', 6, 1066, 713, 419, 1046, 2101, 2487, 2516, 2210, 2001, 1693, 967, 713, 800, 1262]\n"
     ]
    },
    {
     "name": "stderr",
     "output_type": "stream",
     "text": [
      "C:\\Users\\jbyrne\\AppData\\Local\\Temp\\ipykernel_13860\\2944208915.py:12: DtypeWarning: Columns (150,161) have mixed types. Specify dtype option on import or set low_memory=False.\n",
      "  df_file = pd.read_table(file_name, sep=\"\\t\", encoding='cp437', header=0, on_bad_lines=\"warn\")\n"
     ]
    },
    {
     "name": "stdout",
     "output_type": "stream",
     "text": [
      "BERPublicsearch/split_files/file_55.csv ['BERPublicsearch/split_files/file_55.csv', 14, 1076, 561, 601, 1229, 2267, 2403, 2532, 2151, 1833, 1535, 937, 748, 828, 1285]\n"
     ]
    },
    {
     "name": "stderr",
     "output_type": "stream",
     "text": [
      "C:\\Users\\jbyrne\\AppData\\Local\\Temp\\ipykernel_13860\\2944208915.py:12: DtypeWarning: Columns (161) have mixed types. Specify dtype option on import or set low_memory=False.\n",
      "  df_file = pd.read_table(file_name, sep=\"\\t\", encoding='cp437', header=0, on_bad_lines=\"warn\")\n"
     ]
    },
    {
     "name": "stdout",
     "output_type": "stream",
     "text": [
      "BERPublicsearch/split_files/file_56.csv ['BERPublicsearch/split_files/file_56.csv', 38, 1082, 692, 838, 1389, 2490, 2340, 2252, 2081, 1742, 1534, 888, 695, 771, 1168]\n"
     ]
    },
    {
     "name": "stderr",
     "output_type": "stream",
     "text": [
      "C:\\Users\\jbyrne\\AppData\\Local\\Temp\\ipykernel_13860\\2944208915.py:12: DtypeWarning: Columns (155,161) have mixed types. Specify dtype option on import or set low_memory=False.\n",
      "  df_file = pd.read_table(file_name, sep=\"\\t\", encoding='cp437', header=0, on_bad_lines=\"warn\")\n"
     ]
    },
    {
     "name": "stdout",
     "output_type": "stream",
     "text": [
      "BERPublicsearch/split_files/file_57.csv ['BERPublicsearch/split_files/file_57.csv', 103, 926, 731, 614, 1313, 2561, 2582, 2318, 1961, 1732, 1539, 886, 746, 830, 1158]\n"
     ]
    },
    {
     "name": "stderr",
     "output_type": "stream",
     "text": [
      "C:\\Users\\jbyrne\\AppData\\Local\\Temp\\ipykernel_13860\\2944208915.py:12: DtypeWarning: Columns (61,62,63,64,65,66,71,73,97,98,144,150,161) have mixed types. Specify dtype option on import or set low_memory=False.\n",
      "  df_file = pd.read_table(file_name, sep=\"\\t\", encoding='cp437', header=0, on_bad_lines=\"warn\")\n"
     ]
    },
    {
     "name": "stdout",
     "output_type": "stream",
     "text": [
      "BERPublicsearch/split_files/file_58.csv ['BERPublicsearch/split_files/file_58.csv', 76, 1098, 745, 781, 1541, 2660, 2432, 2295, 1776, 1661, 1438, 890, 704, 802, 1101]\n"
     ]
    },
    {
     "name": "stderr",
     "output_type": "stream",
     "text": [
      "Skipping line 3514: expected 211 fields, saw 218\n",
      "\n",
      "C:\\Users\\jbyrne\\AppData\\Local\\Temp\\ipykernel_13860\\2944208915.py:12: DtypeWarning: Columns (61,62,63,64,65,66,71,73,97,98,144,150,161) have mixed types. Specify dtype option on import or set low_memory=False.\n",
      "  df_file = pd.read_table(file_name, sep=\"\\t\", encoding='cp437', header=0, on_bad_lines=\"warn\")\n"
     ]
    },
    {
     "name": "stdout",
     "output_type": "stream",
     "text": [
      "BERPublicsearch/split_files/file_59.csv ['BERPublicsearch/split_files/file_59.csv', 175, 5946, 1737, 504, 727, 991, 1084, 962, 875, 911, 726, 447, 344, 380, 635]\n",
      "BERPublicsearch/split_files/file_60.csv ['BERPublicsearch/split_files/file_60.csv', 8, 815, 289, 67, 96, 171, 201, 202, 143, 145, 115, 70, 60, 80, 143]\n"
     ]
    }
   ],
   "source": [
    "data_files = [f for f in listdir(files_path) if isfile(join(files_path, f))]\n",
    "\n",
    "energy_ratings_labels = ['FileName', 'A1', 'A2', 'A3','B1','B2','B3','C1','C2','C3','D1','D2','E1','E2','F','G']\n",
    "\n",
    "data_labels_summary = pd.DataFrame(columns=energy_ratings_labels)\n",
    "data_labels_summary[energy_ratings_labels[0]] = data_labels_summary[energy_ratings_labels[0]].astype(str)\n",
    "for label in energy_ratings_labels[1:]:\n",
    "  data_labels_summary[label] = data_labels_summary[label].astype(int)\n",
    "\n",
    "for file in data_files:\n",
    "  file_name = files_path + '/' + file\n",
    "  df_file = pd.read_table(file_name, sep=\"\\t\", encoding='cp437', header=0, on_bad_lines=\"warn\")\n",
    "  label_counts = [file_name]\n",
    "  \n",
    "  for label in energy_ratings_labels[1:]:\n",
    "    label_count = len(df_file[df_file['EnergyRating'].str.contains(label)])\n",
    "    label_counts.append(label_count)\n",
    "    \n",
    "  print(file_name, label_counts)\n",
    "  data_labels_summary = pd.concat([pd.DataFrame([label_counts], columns=energy_ratings_labels), data_labels_summary], ignore_index=True)    "
   ]
  },
  {
   "cell_type": "code",
   "execution_count": 4,
   "metadata": {},
   "outputs": [
    {
     "data": {
      "text/html": [
       "<div>\n",
       "<style scoped>\n",
       "    .dataframe tbody tr th:only-of-type {\n",
       "        vertical-align: middle;\n",
       "    }\n",
       "\n",
       "    .dataframe tbody tr th {\n",
       "        vertical-align: top;\n",
       "    }\n",
       "\n",
       "    .dataframe thead th {\n",
       "        text-align: right;\n",
       "    }\n",
       "</style>\n",
       "<table border=\"1\" class=\"dataframe\">\n",
       "  <thead>\n",
       "    <tr style=\"text-align: right;\">\n",
       "      <th></th>\n",
       "      <th>A1</th>\n",
       "      <th>A2</th>\n",
       "      <th>A3</th>\n",
       "      <th>B1</th>\n",
       "      <th>B2</th>\n",
       "      <th>B3</th>\n",
       "      <th>C1</th>\n",
       "      <th>C2</th>\n",
       "      <th>C3</th>\n",
       "      <th>D1</th>\n",
       "      <th>D2</th>\n",
       "      <th>E1</th>\n",
       "      <th>E2</th>\n",
       "      <th>F</th>\n",
       "      <th>G</th>\n",
       "    </tr>\n",
       "  </thead>\n",
       "  <tbody>\n",
       "    <tr>\n",
       "      <th>count</th>\n",
       "      <td>61.000000</td>\n",
       "      <td>61.000000</td>\n",
       "      <td>61.000000</td>\n",
       "      <td>61.000000</td>\n",
       "      <td>61.000000</td>\n",
       "      <td>61.000000</td>\n",
       "      <td>61.000000</td>\n",
       "      <td>61.000000</td>\n",
       "      <td>61.000000</td>\n",
       "      <td>61.000000</td>\n",
       "      <td>61.000000</td>\n",
       "      <td>61.000000</td>\n",
       "      <td>61.000000</td>\n",
       "      <td>61.000000</td>\n",
       "      <td>61.000000</td>\n",
       "    </tr>\n",
       "    <tr>\n",
       "      <th>mean</th>\n",
       "      <td>121.590164</td>\n",
       "      <td>1647.475410</td>\n",
       "      <td>1170.868852</td>\n",
       "      <td>435.852459</td>\n",
       "      <td>795.508197</td>\n",
       "      <td>1614.803279</td>\n",
       "      <td>2111.704918</td>\n",
       "      <td>2231.754098</td>\n",
       "      <td>2068.278689</td>\n",
       "      <td>1966.163934</td>\n",
       "      <td>1679.131148</td>\n",
       "      <td>967.426230</td>\n",
       "      <td>765.688525</td>\n",
       "      <td>789.131148</td>\n",
       "      <td>1155.262295</td>\n",
       "    </tr>\n",
       "    <tr>\n",
       "      <th>std</th>\n",
       "      <td>278.645556</td>\n",
       "      <td>2092.407072</td>\n",
       "      <td>1233.613303</td>\n",
       "      <td>295.854628</td>\n",
       "      <td>410.342728</td>\n",
       "      <td>464.906077</td>\n",
       "      <td>463.775461</td>\n",
       "      <td>601.945143</td>\n",
       "      <td>660.571170</td>\n",
       "      <td>713.446895</td>\n",
       "      <td>644.784059</td>\n",
       "      <td>357.765867</td>\n",
       "      <td>287.026221</td>\n",
       "      <td>285.628283</td>\n",
       "      <td>433.573788</td>\n",
       "    </tr>\n",
       "    <tr>\n",
       "      <th>min</th>\n",
       "      <td>0.000000</td>\n",
       "      <td>0.000000</td>\n",
       "      <td>16.000000</td>\n",
       "      <td>67.000000</td>\n",
       "      <td>96.000000</td>\n",
       "      <td>171.000000</td>\n",
       "      <td>201.000000</td>\n",
       "      <td>202.000000</td>\n",
       "      <td>143.000000</td>\n",
       "      <td>145.000000</td>\n",
       "      <td>115.000000</td>\n",
       "      <td>70.000000</td>\n",
       "      <td>60.000000</td>\n",
       "      <td>80.000000</td>\n",
       "      <td>143.000000</td>\n",
       "    </tr>\n",
       "    <tr>\n",
       "      <th>25%</th>\n",
       "      <td>0.000000</td>\n",
       "      <td>22.000000</td>\n",
       "      <td>288.000000</td>\n",
       "      <td>217.000000</td>\n",
       "      <td>451.000000</td>\n",
       "      <td>1297.000000</td>\n",
       "      <td>1970.000000</td>\n",
       "      <td>1813.000000</td>\n",
       "      <td>1669.000000</td>\n",
       "      <td>1459.000000</td>\n",
       "      <td>1147.000000</td>\n",
       "      <td>649.000000</td>\n",
       "      <td>517.000000</td>\n",
       "      <td>560.000000</td>\n",
       "      <td>874.000000</td>\n",
       "    </tr>\n",
       "    <tr>\n",
       "      <th>50%</th>\n",
       "      <td>8.000000</td>\n",
       "      <td>798.000000</td>\n",
       "      <td>745.000000</td>\n",
       "      <td>333.000000</td>\n",
       "      <td>596.000000</td>\n",
       "      <td>1481.000000</td>\n",
       "      <td>2199.000000</td>\n",
       "      <td>2408.000000</td>\n",
       "      <td>2185.000000</td>\n",
       "      <td>2001.000000</td>\n",
       "      <td>1693.000000</td>\n",
       "      <td>1001.000000</td>\n",
       "      <td>801.000000</td>\n",
       "      <td>843.000000</td>\n",
       "      <td>1244.000000</td>\n",
       "    </tr>\n",
       "    <tr>\n",
       "      <th>75%</th>\n",
       "      <td>103.000000</td>\n",
       "      <td>3365.000000</td>\n",
       "      <td>1508.000000</td>\n",
       "      <td>614.000000</td>\n",
       "      <td>1160.000000</td>\n",
       "      <td>1926.000000</td>\n",
       "      <td>2388.000000</td>\n",
       "      <td>2693.000000</td>\n",
       "      <td>2574.000000</td>\n",
       "      <td>2594.000000</td>\n",
       "      <td>2315.000000</td>\n",
       "      <td>1275.000000</td>\n",
       "      <td>1008.000000</td>\n",
       "      <td>1035.000000</td>\n",
       "      <td>1475.000000</td>\n",
       "    </tr>\n",
       "    <tr>\n",
       "      <th>max</th>\n",
       "      <td>1846.000000</td>\n",
       "      <td>8361.000000</td>\n",
       "      <td>5331.000000</td>\n",
       "      <td>1302.000000</td>\n",
       "      <td>1845.000000</td>\n",
       "      <td>2671.000000</td>\n",
       "      <td>2997.000000</td>\n",
       "      <td>2963.000000</td>\n",
       "      <td>3142.000000</td>\n",
       "      <td>3026.000000</td>\n",
       "      <td>2526.000000</td>\n",
       "      <td>1488.000000</td>\n",
       "      <td>1185.000000</td>\n",
       "      <td>1191.000000</td>\n",
       "      <td>1953.000000</td>\n",
       "    </tr>\n",
       "  </tbody>\n",
       "</table>\n",
       "</div>"
      ],
      "text/plain": [
       "                A1           A2           A3           B1           B2  \\\n",
       "count    61.000000    61.000000    61.000000    61.000000    61.000000   \n",
       "mean    121.590164  1647.475410  1170.868852   435.852459   795.508197   \n",
       "std     278.645556  2092.407072  1233.613303   295.854628   410.342728   \n",
       "min       0.000000     0.000000    16.000000    67.000000    96.000000   \n",
       "25%       0.000000    22.000000   288.000000   217.000000   451.000000   \n",
       "50%       8.000000   798.000000   745.000000   333.000000   596.000000   \n",
       "75%     103.000000  3365.000000  1508.000000   614.000000  1160.000000   \n",
       "max    1846.000000  8361.000000  5331.000000  1302.000000  1845.000000   \n",
       "\n",
       "                B3           C1           C2           C3           D1  \\\n",
       "count    61.000000    61.000000    61.000000    61.000000    61.000000   \n",
       "mean   1614.803279  2111.704918  2231.754098  2068.278689  1966.163934   \n",
       "std     464.906077   463.775461   601.945143   660.571170   713.446895   \n",
       "min     171.000000   201.000000   202.000000   143.000000   145.000000   \n",
       "25%    1297.000000  1970.000000  1813.000000  1669.000000  1459.000000   \n",
       "50%    1481.000000  2199.000000  2408.000000  2185.000000  2001.000000   \n",
       "75%    1926.000000  2388.000000  2693.000000  2574.000000  2594.000000   \n",
       "max    2671.000000  2997.000000  2963.000000  3142.000000  3026.000000   \n",
       "\n",
       "                D2           E1           E2            F            G  \n",
       "count    61.000000    61.000000    61.000000    61.000000    61.000000  \n",
       "mean   1679.131148   967.426230   765.688525   789.131148  1155.262295  \n",
       "std     644.784059   357.765867   287.026221   285.628283   433.573788  \n",
       "min     115.000000    70.000000    60.000000    80.000000   143.000000  \n",
       "25%    1147.000000   649.000000   517.000000   560.000000   874.000000  \n",
       "50%    1693.000000  1001.000000   801.000000   843.000000  1244.000000  \n",
       "75%    2315.000000  1275.000000  1008.000000  1035.000000  1475.000000  \n",
       "max    2526.000000  1488.000000  1185.000000  1191.000000  1953.000000  "
      ]
     },
     "execution_count": 4,
     "metadata": {},
     "output_type": "execute_result"
    }
   ],
   "source": [
    "# stats for the summary dataframe\n",
    "data_labels_summary.describe()"
   ]
  },
  {
   "cell_type": "code",
   "execution_count": 5,
   "metadata": {},
   "outputs": [
    {
     "name": "stdout",
     "output_type": "stream",
     "text": [
      "{'A1': 7417, 'A2': 100496, 'A3': 71423, 'B1': 26587, 'B2': 48526, 'B3': 98503, 'C1': 128814, 'C2': 136137, 'C3': 126165, 'D1': 119936, 'D2': 102427, 'E1': 59013, 'E2': 46707, 'F': 48137, 'G': 70471}\n",
      "smallest_column_name: A1\n"
     ]
    }
   ],
   "source": [
    "# determine the label which the smallest number of rows for the total dataset\n",
    "\n",
    "df_int = data_labels_summary.select_dtypes(['int'])\n",
    "sum_columns = df_int.sum()\n",
    "d = sum_columns.to_dict()\n",
    "print(d)\n",
    "\n",
    "smallest_column_name = min(d, key=d.get)\n",
    "print('smallest_column_name:',smallest_column_name)\n",
    "data_labels_summary_sorted = data_labels_summary.sort_values(by=smallest_column_name, ascending=False) \n"
   ]
  },
  {
   "cell_type": "code",
   "execution_count": 6,
   "metadata": {},
   "outputs": [
    {
     "name": "stderr",
     "output_type": "stream",
     "text": [
      "C:\\Users\\jbyrne\\AppData\\Local\\Temp\\ipykernel_13860\\951022720.py:14: DtypeWarning: Columns (61,62,63,64,65,66,71,73,144) have mixed types. Specify dtype option on import or set low_memory=False.\n",
      "  df_file = pd.read_table(row['FileName'], sep=\"\\t\", encoding='cp437', header=0, on_bad_lines=\"warn\")\n"
     ]
    },
    {
     "name": "stdout",
     "output_type": "stream",
     "text": [
      "df_file value counts: EnergyRating\n",
      "A2    8361\n",
      "A3    2915\n",
      "A1    1846\n",
      "B2    1160\n",
      "B3    1107\n",
      "B1     991\n",
      "C1     901\n",
      "C2     715\n",
      "C3     564\n",
      "D1     457\n",
      "D2     315\n",
      "E1     207\n",
      "G      170\n",
      "E2     156\n",
      "F      135\n",
      "Name: count, dtype: int64\n",
      "smallest_column_name:  A1  target number of rows: 1846\n",
      "label: A1 (1846, 211)\n",
      "label: A2 (1846, 211)\n",
      "label: A3 (1846, 211)\n",
      "ValueError: only found  (991, 211) 2\n",
      "label: B1 (991, 211)\n",
      "ValueError: only found  (1160, 211) 2\n",
      "label: B2 (1160, 211)\n",
      "ValueError: only found  (1107, 211) 2\n",
      "label: B3 (1107, 211)\n",
      "ValueError: only found  (901, 211) 2\n",
      "label: C1 (901, 211)\n",
      "ValueError: only found  (715, 211) 2\n",
      "label: C2 (715, 211)\n",
      "ValueError: only found  (564, 211) 2\n",
      "label: C3 (564, 211)\n",
      "ValueError: only found  (457, 211) 2\n",
      "label: D1 (457, 211)\n",
      "ValueError: only found  (315, 211) 2\n",
      "label: D2 (315, 211)\n",
      "ValueError: only found  (207, 211) 2\n",
      "label: E1 (207, 211)\n",
      "ValueError: only found  (156, 211) 2\n",
      "label: E2 (156, 211)\n",
      "ValueError: only found  (135, 211) 1\n",
      "label: F (135, 211)\n",
      "ValueError: only found  (170, 211) 1\n",
      "label: G (170, 211)\n",
      "BERPublicsearch/split_files/file_31.csv (12416, 211)\n"
     ]
    },
    {
     "name": "stderr",
     "output_type": "stream",
     "text": [
      "C:\\Users\\jbyrne\\AppData\\Local\\Temp\\ipykernel_13860\\951022720.py:14: DtypeWarning: Columns (144,155,161) have mixed types. Specify dtype option on import or set low_memory=False.\n",
      "  df_file = pd.read_table(row['FileName'], sep=\"\\t\", encoding='cp437', header=0, on_bad_lines=\"warn\")\n"
     ]
    },
    {
     "name": "stdout",
     "output_type": "stream",
     "text": [
      "df_file value counts: EnergyRating\n",
      "A2    4418\n",
      "B3    2123\n",
      "C1    1894\n",
      "C2    1715\n",
      "C3    1453\n",
      "B2    1269\n",
      "D1    1227\n",
      "D2    1047\n",
      "A3     944\n",
      "B1     826\n",
      "G      781\n",
      "E1     618\n",
      "A1     611\n",
      "F      574\n",
      "E2     500\n",
      "Name: count, dtype: int64\n",
      "smallest_column_name:  A1  target number of rows: 611\n",
      "label: A1 (611, 211)\n",
      "label: A2 (611, 211)\n",
      "label: A3 (611, 211)\n",
      "ValueError: only found  (826, 211) 2\n",
      "label: B1 (826, 211)\n",
      "ValueError: only found  (1269, 211) 2\n",
      "label: B2 (1269, 211)\n",
      "label: B3 (1350, 211)\n",
      "label: C1 (1556, 211)\n",
      "ValueError: only found  (1715, 211) 2\n",
      "label: C2 (1715, 211)\n",
      "ValueError: only found  (1453, 211) 2\n",
      "label: C3 (1453, 211)\n",
      "ValueError: only found  (1227, 211) 2\n",
      "label: D1 (1227, 211)\n",
      "ValueError: only found  (1047, 211) 2\n",
      "label: D2 (1047, 211)\n",
      "ValueError: only found  (618, 211) 2\n",
      "label: E1 (618, 211)\n",
      "ValueError: only found  (500, 211) 2\n",
      "label: E2 (500, 211)\n",
      "ValueError: only found  (574, 211) 1\n",
      "label: F (574, 211)\n",
      "ValueError: only found  (781, 211) 1\n",
      "label: G (781, 211)\n",
      "BERPublicsearch/split_files/file_27.csv (27165, 211)\n"
     ]
    },
    {
     "name": "stderr",
     "output_type": "stream",
     "text": [
      "C:\\Users\\jbyrne\\AppData\\Local\\Temp\\ipykernel_13860\\951022720.py:14: DtypeWarning: Columns (144) have mixed types. Specify dtype option on import or set low_memory=False.\n",
      "  df_file = pd.read_table(row['FileName'], sep=\"\\t\", encoding='cp437', header=0, on_bad_lines=\"warn\")\n"
     ]
    },
    {
     "name": "stdout",
     "output_type": "stream",
     "text": [
      "df_file value counts: EnergyRating\n",
      "A2    5130\n",
      "B3    2024\n",
      "C1    1780\n",
      "B2    1529\n",
      "C2    1524\n",
      "A3    1333\n",
      "B1    1302\n",
      "C3    1214\n",
      "D1     983\n",
      "D2     765\n",
      "A1     604\n",
      "G      535\n",
      "E1     498\n",
      "F      409\n",
      "E2     370\n",
      "Name: count, dtype: int64\n",
      "smallest_column_name:  A1  target number of rows: 604\n",
      "label: A1 (604, 211)\n",
      "label: A2 (604, 211)\n",
      "label: A3 (604, 211)\n",
      "label: B1 (1244, 211)\n",
      "label: B2 (632, 211)\n",
      "label: B3 (604, 211)\n",
      "label: C1 (604, 211)\n",
      "label: C2 (631, 211)\n",
      "label: C3 (1044, 211)\n",
      "ValueError: only found  (983, 211) 2\n",
      "label: D1 (983, 211)\n",
      "ValueError: only found  (765, 211) 2\n",
      "label: D2 (765, 211)\n",
      "ValueError: only found  (498, 211) 2\n",
      "label: E1 (498, 211)\n",
      "ValueError: only found  (370, 211) 2\n",
      "label: E2 (370, 211)\n",
      "ValueError: only found  (409, 211) 1\n",
      "label: F (409, 211)\n",
      "ValueError: only found  (535, 211) 1\n",
      "label: G (535, 211)\n",
      "BERPublicsearch/split_files/file_37.csv (37296, 211)\n"
     ]
    },
    {
     "name": "stderr",
     "output_type": "stream",
     "text": [
      "Skipping line 10840: expected 211 fields, saw 255\n",
      "\n",
      "C:\\Users\\jbyrne\\AppData\\Local\\Temp\\ipykernel_13860\\951022720.py:14: DtypeWarning: Columns (61,62,63,64,65,66,71,73,144) have mixed types. Specify dtype option on import or set low_memory=False.\n",
      "  df_file = pd.read_table(row['FileName'], sep=\"\\t\", encoding='cp437', header=0, on_bad_lines=\"warn\")\n"
     ]
    },
    {
     "name": "stdout",
     "output_type": "stream",
     "text": [
      "df_file value counts: EnergyRating\n",
      "A2    4063\n",
      "B3    1945\n",
      "C1    1843\n",
      "C2    1514\n",
      "B2    1272\n",
      "C3    1240\n",
      "A3    1229\n",
      "D1    1125\n",
      "B1     899\n",
      "D2     854\n",
      "G      569\n",
      "E1     553\n",
      "A1     544\n",
      "F      437\n",
      "E2     380\n",
      "Name: count, dtype: int64\n",
      "smallest_column_name:  A1  target number of rows: 544\n",
      "label: A1 (544, 211)\n",
      "label: A2 (544, 211)\n",
      "label: A3 (544, 211)\n",
      "label: B1 (544, 211)\n",
      "label: B2 (544, 211)\n",
      "label: B3 (544, 211)\n",
      "label: C1 (544, 211)\n",
      "label: C2 (544, 211)\n",
      "label: C3 (544, 211)\n",
      "label: D1 (938, 211)\n",
      "ValueError: only found  (854, 211) 2\n",
      "label: D2 (854, 211)\n",
      "ValueError: only found  (553, 211) 2\n",
      "label: E1 (553, 211)\n",
      "ValueError: only found  (380, 211) 2\n",
      "label: E2 (380, 211)\n",
      "ValueError: only found  (437, 211) 1\n",
      "label: F (437, 211)\n",
      "ValueError: only found  (569, 211) 1\n",
      "label: G (569, 211)\n",
      "BERPublicsearch/split_files/file_29.csv (45923, 211)\n"
     ]
    },
    {
     "name": "stderr",
     "output_type": "stream",
     "text": [
      "C:\\Users\\jbyrne\\AppData\\Local\\Temp\\ipykernel_13860\\951022720.py:14: DtypeWarning: Columns (144,161) have mixed types. Specify dtype option on import or set low_memory=False.\n",
      "  df_file = pd.read_table(row['FileName'], sep=\"\\t\", encoding='cp437', header=0, on_bad_lines=\"warn\")\n"
     ]
    },
    {
     "name": "stdout",
     "output_type": "stream",
     "text": [
      "df_file value counts: EnergyRating\n",
      "A2    4489\n",
      "B3    1926\n",
      "C1    1755\n",
      "C2    1653\n",
      "A3    1508\n",
      "C3    1368\n",
      "B2    1325\n",
      "D1    1229\n",
      "B1    1088\n",
      "D2    1011\n",
      "G      686\n",
      "E1     550\n",
      "E2     486\n",
      "A1     466\n",
      "F      460\n",
      "Name: count, dtype: int64\n",
      "smallest_column_name:  A1  target number of rows: 466\n",
      "label: A1 (466, 211)\n",
      "label: A2 (466, 211)\n",
      "label: A3 (466, 211)\n",
      "label: B1 (466, 211)\n",
      "label: B2 (466, 211)\n",
      "label: B3 (466, 211)\n",
      "label: C1 (466, 211)\n",
      "label: C2 (466, 211)\n",
      "label: C3 (466, 211)\n",
      "label: D1 (466, 211)\n",
      "ValueError: only found  (1011, 211) 2\n",
      "label: D2 (1011, 211)\n",
      "ValueError: only found  (550, 211) 2\n",
      "label: E1 (550, 211)\n",
      "ValueError: only found  (486, 211) 2\n",
      "label: E2 (486, 211)\n",
      "ValueError: only found  (460, 211) 1\n",
      "label: F (460, 211)\n",
      "ValueError: only found  (686, 211) 1\n",
      "label: G (686, 211)\n",
      "BERPublicsearch/split_files/file_25.csv (53776, 211)\n"
     ]
    },
    {
     "name": "stderr",
     "output_type": "stream",
     "text": [
      "C:\\Users\\jbyrne\\AppData\\Local\\Temp\\ipykernel_13860\\951022720.py:14: DtypeWarning: Columns (144,161) have mixed types. Specify dtype option on import or set low_memory=False.\n",
      "  df_file = pd.read_table(row['FileName'], sep=\"\\t\", encoding='cp437', header=0, on_bad_lines=\"warn\")\n"
     ]
    },
    {
     "name": "stdout",
     "output_type": "stream",
     "text": [
      "df_file value counts: EnergyRating\n",
      "A2    4192\n",
      "B3    2146\n",
      "C1    1998\n",
      "C2    1803\n",
      "C3    1455\n",
      "B2    1407\n",
      "D1    1201\n",
      "D2    1019\n",
      "A3     999\n",
      "B1     784\n",
      "G      750\n",
      "E1     691\n",
      "F      599\n",
      "E2     520\n",
      "A1     436\n",
      "Name: count, dtype: int64\n",
      "smallest_column_name:  A1  target number of rows: 436\n",
      "label: A1 (436, 211)\n",
      "label: A2 (436, 211)\n",
      "label: A3 (436, 211)\n",
      "label: B1 (436, 211)\n",
      "label: B2 (436, 211)\n",
      "label: B3 (436, 211)\n",
      "label: C1 (436, 211)\n",
      "label: C2 (436, 211)\n",
      "label: C3 (436, 211)\n",
      "label: D1 (436, 211)\n",
      "label: D2 (515, 211)\n",
      "ValueError: only found  (691, 211) 2\n",
      "label: E1 (691, 211)\n",
      "ValueError: only found  (520, 211) 2\n",
      "label: E2 (520, 211)\n",
      "ValueError: only found  (599, 211) 1\n",
      "label: F (599, 211)\n",
      "ValueError: only found  (750, 211) 1\n",
      "label: G (750, 211)\n",
      "BERPublicsearch/split_files/file_26.csv (61211, 211)\n"
     ]
    },
    {
     "name": "stderr",
     "output_type": "stream",
     "text": [
      "C:\\Users\\jbyrne\\AppData\\Local\\Temp\\ipykernel_13860\\951022720.py:14: DtypeWarning: Columns (144,155) have mixed types. Specify dtype option on import or set low_memory=False.\n",
      "  df_file = pd.read_table(row['FileName'], sep=\"\\t\", encoding='cp437', header=0, on_bad_lines=\"warn\")\n"
     ]
    },
    {
     "name": "stdout",
     "output_type": "stream",
     "text": [
      "df_file value counts: EnergyRating\n",
      "A2    5987\n",
      "B3    1801\n",
      "A3    1556\n",
      "C1    1512\n",
      "C2    1413\n",
      "B2    1406\n",
      "C3    1210\n",
      "B1    1206\n",
      "D1    1009\n",
      "D2     809\n",
      "G      501\n",
      "E1     445\n",
      "A1     413\n",
      "E2     375\n",
      "F      357\n",
      "Name: count, dtype: int64\n",
      "smallest_column_name:  A1  target number of rows: 413\n",
      "label: A1 (413, 211)\n",
      "label: A2 (413, 211)\n",
      "label: A3 (413, 211)\n",
      "label: B1 (413, 211)\n",
      "label: B2 (413, 211)\n",
      "label: B3 (413, 211)\n",
      "label: C1 (413, 211)\n",
      "label: C2 (413, 211)\n",
      "label: C3 (413, 211)\n",
      "label: D1 (413, 211)\n",
      "label: D2 (413, 211)\n",
      "ValueError: only found  (445, 211) 2\n",
      "label: E1 (445, 211)\n",
      "ValueError: only found  (375, 211) 2\n",
      "label: E2 (375, 211)\n",
      "ValueError: only found  (357, 211) 1\n",
      "label: F (357, 211)\n",
      "ValueError: only found  (501, 211) 1\n",
      "label: G (501, 211)\n",
      "BERPublicsearch/split_files/file_36.csv (67432, 211)\n"
     ]
    },
    {
     "name": "stderr",
     "output_type": "stream",
     "text": [
      "C:\\Users\\jbyrne\\AppData\\Local\\Temp\\ipykernel_13860\\951022720.py:14: DtypeWarning: Columns (97,98,144,155) have mixed types. Specify dtype option on import or set low_memory=False.\n",
      "  df_file = pd.read_table(row['FileName'], sep=\"\\t\", encoding='cp437', header=0, on_bad_lines=\"warn\")\n"
     ]
    },
    {
     "name": "stdout",
     "output_type": "stream",
     "text": [
      "df_file value counts: EnergyRating\n",
      "A3    5291\n",
      "A2    5166\n",
      "B3    1297\n",
      "C1    1247\n",
      "C2    1123\n",
      "C3     967\n",
      "D1     824\n",
      "B2     787\n",
      "D2     675\n",
      "B1     610\n",
      "G      516\n",
      "E1     446\n",
      "A1     365\n",
      "E2     348\n",
      "F      338\n",
      "Name: count, dtype: int64\n",
      "smallest_column_name:  A1  target number of rows: 365\n",
      "label: A1 (365, 211)\n",
      "label: A2 (365, 211)\n",
      "label: A3 (365, 211)\n",
      "label: B1 (365, 211)\n",
      "label: B2 (365, 211)\n",
      "label: B3 (365, 211)\n",
      "label: C1 (365, 211)\n",
      "label: C2 (365, 211)\n",
      "label: C3 (365, 211)\n",
      "label: D1 (365, 211)\n",
      "label: D2 (365, 211)\n",
      "ValueError: only found  (446, 211) 2\n",
      "label: E1 (446, 211)\n",
      "ValueError: only found  (348, 211) 2\n",
      "label: E2 (348, 211)\n",
      "ValueError: only found  (338, 211) 1\n",
      "label: F (338, 211)\n",
      "ValueError: only found  (516, 211) 1\n",
      "label: G (516, 211)\n",
      "BERPublicsearch/split_files/file_30.csv (73095, 211)\n"
     ]
    },
    {
     "name": "stderr",
     "output_type": "stream",
     "text": [
      "C:\\Users\\jbyrne\\AppData\\Local\\Temp\\ipykernel_13860\\951022720.py:14: DtypeWarning: Columns (142,145,146,152,153,156,161) have mixed types. Specify dtype option on import or set low_memory=False.\n",
      "  df_file = pd.read_table(row['FileName'], sep=\"\\t\", encoding='cp437', header=0, on_bad_lines=\"warn\")\n"
     ]
    },
    {
     "name": "stdout",
     "output_type": "stream",
     "text": [
      "df_file value counts: EnergyRating\n",
      "A2    3365\n",
      "B3    1290\n",
      "C1    1177\n",
      "C2    1087\n",
      "B2     895\n",
      "C3     830\n",
      "A3     773\n",
      "D1     719\n",
      "B1     646\n",
      "D2     610\n",
      "G      443\n",
      "E1     396\n",
      "A1     357\n",
      "F      331\n",
      "E2     324\n",
      "Name: count, dtype: int64\n",
      "smallest_column_name:  A1  target number of rows: 357\n",
      "label: A1 (357, 211)\n",
      "label: A2 (357, 211)\n",
      "label: A3 (357, 211)\n",
      "label: B1 (357, 211)\n",
      "label: B2 (357, 211)\n"
     ]
    },
    {
     "name": "stderr",
     "output_type": "stream",
     "text": [
      "C:\\Users\\jbyrne\\AppData\\Local\\Temp\\ipykernel_13860\\951022720.py:31: FutureWarning: The behavior of DataFrame concatenation with empty or all-NA entries is deprecated. In a future version, this will no longer exclude empty or all-NA columns when determining the result dtypes. To retain the old behavior, exclude the relevant entries before the concat operation.\n",
      "  df_final = pd.concat([df_final, df_sample], axis=0)\n"
     ]
    },
    {
     "name": "stdout",
     "output_type": "stream",
     "text": [
      "label: B3 (357, 211)\n",
      "label: C1 (357, 211)\n",
      "label: C2 (357, 211)\n",
      "label: C3 (357, 211)\n",
      "label: D1 (357, 211)\n",
      "label: D2 (357, 211)\n",
      "ValueError: only found  (396, 211) 2\n",
      "label: E1 (396, 211)\n",
      "ValueError: only found  (324, 211) 2\n",
      "label: E2 (324, 211)\n",
      "ValueError: only found  (331, 211) 1\n",
      "label: F (331, 211)\n",
      "ValueError: only found  (443, 211) 1\n",
      "label: G (443, 211)\n",
      "BERPublicsearch/split_files/file_28.csv (78516, 211)\n"
     ]
    },
    {
     "name": "stderr",
     "output_type": "stream",
     "text": [
      "C:\\Users\\jbyrne\\AppData\\Local\\Temp\\ipykernel_13860\\951022720.py:14: DtypeWarning: Columns (144,161) have mixed types. Specify dtype option on import or set low_memory=False.\n",
      "  df_file = pd.read_table(row['FileName'], sep=\"\\t\", encoding='cp437', header=0, on_bad_lines=\"warn\")\n"
     ]
    },
    {
     "name": "stdout",
     "output_type": "stream",
     "text": [
      "df_file value counts: EnergyRating\n",
      "A2    4102\n",
      "B3    2055\n",
      "C2    1804\n",
      "C1    1782\n",
      "C3    1506\n",
      "D1    1362\n",
      "B2    1340\n",
      "A3    1214\n",
      "D2    1134\n",
      "G      876\n",
      "B1     838\n",
      "E1     612\n",
      "F      551\n",
      "E2     512\n",
      "A1     312\n",
      "Name: count, dtype: int64\n",
      "smallest_column_name:  A1  target number of rows: 312\n",
      "label: A1 (312, 211)\n",
      "label: A2 (312, 211)\n",
      "label: A3 (312, 211)\n",
      "label: B1 (312, 211)\n",
      "label: B2 (312, 211)\n",
      "label: B3 (312, 211)\n",
      "label: C1 (312, 211)\n",
      "label: C2 (312, 211)\n",
      "label: C3 (312, 211)\n",
      "label: D1 (312, 211)\n",
      "label: D2 (312, 211)\n",
      "ValueError: only found  (612, 211) 2\n",
      "label: E1 (612, 211)\n",
      "ValueError: only found  (512, 211) 2\n",
      "label: E2 (512, 211)\n",
      "ValueError: only found  (551, 211) 1\n",
      "label: F (551, 211)\n",
      "ValueError: only found  (876, 211) 1\n",
      "label: G (876, 211)\n",
      "BERPublicsearch/split_files/file_24.csv (84499, 211)\n"
     ]
    },
    {
     "name": "stderr",
     "output_type": "stream",
     "text": [
      "C:\\Users\\jbyrne\\AppData\\Local\\Temp\\ipykernel_13860\\951022720.py:14: DtypeWarning: Columns (61,62,63,64,65,66,71,73,97,98,150,161) have mixed types. Specify dtype option on import or set low_memory=False.\n",
      "  df_file = pd.read_table(row['FileName'], sep=\"\\t\", encoding='cp437', header=0, on_bad_lines=\"warn\")\n"
     ]
    },
    {
     "name": "stdout",
     "output_type": "stream",
     "text": [
      "df_file value counts: EnergyRating\n",
      "B3    2486\n",
      "C1    2171\n",
      "C2    1813\n",
      "D1    1710\n",
      "C3    1694\n",
      "B2    1662\n",
      "D2    1535\n",
      "A2    1532\n",
      "G     1254\n",
      "E1    1016\n",
      "F      899\n",
      "E2     894\n",
      "B1     674\n",
      "A3     469\n",
      "A1     191\n",
      "Name: count, dtype: int64\n",
      "smallest_column_name:  A1  target number of rows: 191\n",
      "label: A1 (191, 211)\n",
      "label: A2 (191, 211)\n",
      "label: A3 (191, 211)\n",
      "label: B1 (191, 211)\n",
      "label: B2 (191, 211)\n",
      "label: B3 (191, 211)\n",
      "label: C1 (191, 211)\n",
      "label: C2 (191, 211)\n",
      "label: C3 (191, 211)\n",
      "label: D1 (191, 211)\n",
      "label: D2 (191, 211)\n",
      "ValueError: only found  (1016, 211) 2\n",
      "label: E1 (1016, 211)\n",
      "ValueError: only found  (894, 211) 2\n",
      "label: E2 (894, 211)\n",
      "ValueError: only found  (899, 211) 1\n",
      "label: F (899, 211)\n",
      "label: G (318, 211)\n",
      "BERPublicsearch/split_files/file_38.csv (89727, 211)\n"
     ]
    },
    {
     "name": "stderr",
     "output_type": "stream",
     "text": [
      "C:\\Users\\jbyrne\\AppData\\Local\\Temp\\ipykernel_13860\\951022720.py:14: DtypeWarning: Columns (144,161) have mixed types. Specify dtype option on import or set low_memory=False.\n",
      "  df_file = pd.read_table(row['FileName'], sep=\"\\t\", encoding='cp437', header=0, on_bad_lines=\"warn\")\n"
     ]
    },
    {
     "name": "stdout",
     "output_type": "stream",
     "text": [
      "df_file value counts: EnergyRating\n",
      "A2    4231\n",
      "B3    1996\n",
      "C1    1916\n",
      "C2    1807\n",
      "C3    1660\n",
      "D1    1405\n",
      "B2    1259\n",
      "D2    1147\n",
      "A3    1065\n",
      "G      894\n",
      "B1     694\n",
      "E1     648\n",
      "F      582\n",
      "E2     517\n",
      "A1     179\n",
      "Name: count, dtype: int64\n",
      "smallest_column_name:  A1  target number of rows: 179\n",
      "label: A1 (179, 211)\n",
      "label: A2 (179, 211)\n",
      "label: A3 (179, 211)\n",
      "label: B1 (179, 211)\n",
      "label: B2 (179, 211)\n",
      "label: B3 (179, 211)\n",
      "label: C1 (179, 211)\n",
      "label: C2 (179, 211)\n",
      "label: C3 (179, 211)\n",
      "label: D1 (179, 211)\n",
      "label: D2 (179, 211)\n",
      "label: E1 (292, 211)\n",
      "ValueError: only found  (517, 211) 2\n",
      "label: E2 (517, 211)\n",
      "ValueError: only found  (582, 211) 1\n",
      "label: F (582, 211)\n",
      "label: G (179, 211)\n",
      "BERPublicsearch/split_files/file_23.csv (93266, 211)\n"
     ]
    },
    {
     "name": "stderr",
     "output_type": "stream",
     "text": [
      "Skipping line 3514: expected 211 fields, saw 218\n",
      "\n",
      "C:\\Users\\jbyrne\\AppData\\Local\\Temp\\ipykernel_13860\\951022720.py:14: DtypeWarning: Columns (61,62,63,64,65,66,71,73,97,98,144,150,161) have mixed types. Specify dtype option on import or set low_memory=False.\n",
      "  df_file = pd.read_table(row['FileName'], sep=\"\\t\", encoding='cp437', header=0, on_bad_lines=\"warn\")\n"
     ]
    },
    {
     "name": "stdout",
     "output_type": "stream",
     "text": [
      "df_file value counts: EnergyRating\n",
      "A2    5946\n",
      "A3    1737\n",
      "C1    1084\n",
      "B3     991\n",
      "C2     962\n",
      "D1     911\n",
      "C3     875\n",
      "B2     727\n",
      "D2     726\n",
      "G      635\n",
      "B1     504\n",
      "E1     447\n",
      "F      380\n",
      "E2     344\n",
      "A1     175\n",
      "Name: count, dtype: int64\n",
      "smallest_column_name:  A1  target number of rows: 175\n",
      "label: A1 (175, 211)\n",
      "label: A2 (175, 211)\n",
      "label: A3 (175, 211)\n",
      "label: B1 (175, 211)\n",
      "label: B2 (175, 211)\n",
      "label: B3 (175, 211)\n",
      "label: C1 (175, 211)\n",
      "label: C2 (175, 211)\n",
      "label: C3 (175, 211)\n",
      "label: D1 (175, 211)\n",
      "label: D2 (175, 211)\n",
      "label: E1 (175, 211)\n",
      "ValueError: only found  (344, 211) 2\n",
      "label: E2 (344, 211)\n",
      "ValueError: only found  (380, 211) 1\n",
      "label: F (380, 211)\n",
      "label: G (175, 211)\n",
      "BERPublicsearch/split_files/file_59.csv (96265, 211)\n"
     ]
    },
    {
     "name": "stderr",
     "output_type": "stream",
     "text": [
      "C:\\Users\\jbyrne\\AppData\\Local\\Temp\\ipykernel_13860\\951022720.py:14: DtypeWarning: Columns (144) have mixed types. Specify dtype option on import or set low_memory=False.\n",
      "  df_file = pd.read_table(row['FileName'], sep=\"\\t\", encoding='cp437', header=0, on_bad_lines=\"warn\")\n"
     ]
    },
    {
     "name": "stdout",
     "output_type": "stream",
     "text": [
      "df_file value counts: EnergyRating\n",
      "A2    4231\n",
      "C1    1966\n",
      "B3    1809\n",
      "C2    1791\n",
      "C3    1669\n",
      "D1    1459\n",
      "A3    1301\n",
      "B2    1163\n",
      "D2    1127\n",
      "G      901\n",
      "B1     724\n",
      "E1     644\n",
      "F      541\n",
      "E2     507\n",
      "A1     167\n",
      "Name: count, dtype: int64\n",
      "smallest_column_name:  A1  target number of rows: 167\n",
      "label: A1 (167, 211)\n",
      "label: A2 (167, 211)\n",
      "label: A3 (167, 211)\n",
      "label: B1 (167, 211)\n",
      "label: B2 (167, 211)\n",
      "label: B3 (167, 211)\n",
      "label: C1 (167, 211)\n",
      "label: C2 (167, 211)\n",
      "label: C3 (167, 211)\n",
      "label: D1 (167, 211)\n",
      "label: D2 (167, 211)\n",
      "label: E1 (167, 211)\n",
      "ValueError: only found  (507, 211) 2\n",
      "label: E2 (507, 211)\n",
      "ValueError: only found  (541, 211) 1\n",
      "label: F (541, 211)\n",
      "label: G (167, 211)\n",
      "BERPublicsearch/split_files/file_22.csv (99484, 211)\n"
     ]
    },
    {
     "name": "stderr",
     "output_type": "stream",
     "text": [
      "C:\\Users\\jbyrne\\AppData\\Local\\Temp\\ipykernel_13860\\951022720.py:14: DtypeWarning: Columns (61,62,63,64,65,66,71,73,144,155,161) have mixed types. Specify dtype option on import or set low_memory=False.\n",
      "  df_file = pd.read_table(row['FileName'], sep=\"\\t\", encoding='cp437', header=0, on_bad_lines=\"warn\")\n"
     ]
    },
    {
     "name": "stdout",
     "output_type": "stream",
     "text": [
      "df_file value counts: EnergyRating\n",
      "A2    6072\n",
      "A3    2231\n",
      "C1    1623\n",
      "B3    1619\n",
      "C2    1497\n",
      "C3    1327\n",
      "B2    1104\n",
      "D1    1091\n",
      "D2     843\n",
      "B1     720\n",
      "G      522\n",
      "E1     461\n",
      "E2     386\n",
      "F      359\n",
      "A1     145\n",
      "Name: count, dtype: int64\n",
      "smallest_column_name:  A1  target number of rows: 145\n",
      "label: A1 (145, 211)\n"
     ]
    },
    {
     "name": "stderr",
     "output_type": "stream",
     "text": [
      "C:\\Users\\jbyrne\\AppData\\Local\\Temp\\ipykernel_13860\\951022720.py:31: FutureWarning: The behavior of DataFrame concatenation with empty or all-NA entries is deprecated. In a future version, this will no longer exclude empty or all-NA columns when determining the result dtypes. To retain the old behavior, exclude the relevant entries before the concat operation.\n",
      "  df_final = pd.concat([df_final, df_sample], axis=0)\n"
     ]
    },
    {
     "name": "stdout",
     "output_type": "stream",
     "text": [
      "label: A2 (145, 211)\n",
      "label: A3 (145, 211)\n",
      "label: B1 (145, 211)\n",
      "label: B2 (145, 211)\n",
      "label: B3 (145, 211)\n",
      "label: C1 (145, 211)\n",
      "label: C2 (145, 211)\n",
      "label: C3 (145, 211)\n",
      "label: D1 (145, 211)\n",
      "label: D2 (145, 211)\n",
      "label: E1 (145, 211)\n",
      "ValueError: only found  (386, 211) 2\n",
      "label: E2 (386, 211)\n",
      "label: F (218, 211)\n",
      "label: G (145, 211)\n",
      "BERPublicsearch/split_files/file_35.csv (101973, 211)\n"
     ]
    },
    {
     "name": "stderr",
     "output_type": "stream",
     "text": [
      "C:\\Users\\jbyrne\\AppData\\Local\\Temp\\ipykernel_13860\\951022720.py:14: DtypeWarning: Columns (155,161) have mixed types. Specify dtype option on import or set low_memory=False.\n",
      "  df_file = pd.read_table(row['FileName'], sep=\"\\t\", encoding='cp437', header=0, on_bad_lines=\"warn\")\n"
     ]
    },
    {
     "name": "stdout",
     "output_type": "stream",
     "text": [
      "df_file value counts: EnergyRating\n",
      "C1    2582\n",
      "B3    2561\n",
      "C2    2318\n",
      "C3    1961\n",
      "D1    1732\n",
      "D2    1539\n",
      "B2    1313\n",
      "G     1158\n",
      "A2     926\n",
      "E1     886\n",
      "F      830\n",
      "E2     746\n",
      "A3     731\n",
      "B1     614\n",
      "A1     103\n",
      "Name: count, dtype: int64\n",
      "smallest_column_name:  A1  target number of rows: 103\n",
      "label: A1 (103, 211)\n"
     ]
    },
    {
     "name": "stderr",
     "output_type": "stream",
     "text": [
      "C:\\Users\\jbyrne\\AppData\\Local\\Temp\\ipykernel_13860\\951022720.py:31: FutureWarning: The behavior of DataFrame concatenation with empty or all-NA entries is deprecated. In a future version, this will no longer exclude empty or all-NA columns when determining the result dtypes. To retain the old behavior, exclude the relevant entries before the concat operation.\n",
      "  df_final = pd.concat([df_final, df_sample], axis=0)\n"
     ]
    },
    {
     "name": "stdout",
     "output_type": "stream",
     "text": [
      "label: A2 (103, 211)\n",
      "label: A3 (103, 211)\n",
      "label: B1 (103, 211)\n",
      "label: B2 (103, 211)\n",
      "label: B3 (103, 211)\n",
      "label: C1 (103, 211)\n",
      "label: C2 (103, 211)\n",
      "label: C3 (103, 211)\n",
      "label: D1 (103, 211)\n",
      "label: D2 (103, 211)\n",
      "label: E1 (103, 211)\n",
      "label: E2 (295, 211)\n",
      "label: F (103, 211)\n",
      "label: G (103, 211)\n",
      "BERPublicsearch/split_files/file_57.csv (103710, 211)\n"
     ]
    },
    {
     "name": "stderr",
     "output_type": "stream",
     "text": [
      "C:\\Users\\jbyrne\\AppData\\Local\\Temp\\ipykernel_13860\\951022720.py:14: DtypeWarning: Columns (61,62,63,64,65,66,71,73,97,98,144,150,161) have mixed types. Specify dtype option on import or set low_memory=False.\n",
      "  df_file = pd.read_table(row['FileName'], sep=\"\\t\", encoding='cp437', header=0, on_bad_lines=\"warn\")\n"
     ]
    },
    {
     "name": "stdout",
     "output_type": "stream",
     "text": [
      "df_file value counts: EnergyRating\n",
      "B3    2660\n",
      "C1    2432\n",
      "C2    2295\n",
      "C3    1776\n",
      "D1    1661\n",
      "B2    1541\n",
      "D2    1438\n",
      "G     1101\n",
      "A2    1098\n",
      "E1     890\n",
      "F      802\n",
      "B1     781\n",
      "A3     745\n",
      "E2     704\n",
      "A1      76\n",
      "Name: count, dtype: int64\n",
      "smallest_column_name:  A1  target number of rows: 76\n",
      "label: A1 (76, 211)\n",
      "label: A2 (76, 211)\n",
      "label: A3 (76, 211)\n",
      "label: B1 (76, 211)\n",
      "label: B2 (76, 211)\n",
      "label: B3 (76, 211)\n",
      "label: C1 (76, 211)\n",
      "label: C2 (76, 211)\n",
      "label: C3 (76, 211)\n",
      "label: D1 (76, 211)\n",
      "label: D2 (76, 211)\n",
      "label: E1 (76, 211)\n",
      "label: E2 (76, 211)\n",
      "label: F (76, 211)\n",
      "label: G (76, 211)\n",
      "BERPublicsearch/split_files/file_58.csv (104850, 211)\n"
     ]
    },
    {
     "name": "stderr",
     "output_type": "stream",
     "text": [
      "C:\\Users\\jbyrne\\AppData\\Local\\Temp\\ipykernel_13860\\951022720.py:14: DtypeWarning: Columns (61,62,63,64,65,66,71,73,97,98,155,161) have mixed types. Specify dtype option on import or set low_memory=False.\n",
      "  df_file = pd.read_table(row['FileName'], sep=\"\\t\", encoding='cp437', header=0, on_bad_lines=\"warn\")\n"
     ]
    },
    {
     "name": "stdout",
     "output_type": "stream",
     "text": [
      "df_file value counts: EnergyRating\n",
      "A2    2842\n",
      "C1    2446\n",
      "C2    2178\n",
      "A3    1985\n",
      "B3    1923\n",
      "C3    1806\n",
      "D1    1489\n",
      "D2    1283\n",
      "B2     916\n",
      "G      880\n",
      "E1     736\n",
      "F      560\n",
      "E2     522\n",
      "B1     361\n",
      "A1      73\n",
      "Name: count, dtype: int64\n",
      "smallest_column_name:  A1  target number of rows: 73\n",
      "label: A1 (73, 211)\n"
     ]
    },
    {
     "name": "stderr",
     "output_type": "stream",
     "text": [
      "C:\\Users\\jbyrne\\AppData\\Local\\Temp\\ipykernel_13860\\951022720.py:31: FutureWarning: The behavior of DataFrame concatenation with empty or all-NA entries is deprecated. In a future version, this will no longer exclude empty or all-NA columns when determining the result dtypes. To retain the old behavior, exclude the relevant entries before the concat operation.\n",
      "  df_final = pd.concat([df_final, df_sample], axis=0)\n"
     ]
    },
    {
     "name": "stdout",
     "output_type": "stream",
     "text": [
      "label: A2 (73, 211)\n",
      "label: A3 (73, 211)\n",
      "label: B1 (73, 211)\n",
      "label: B2 (73, 211)\n",
      "label: B3 (73, 211)\n",
      "label: C1 (73, 211)\n",
      "label: C2 (73, 211)\n",
      "label: C3 (73, 211)\n",
      "label: D1 (73, 211)\n",
      "label: D2 (73, 211)\n",
      "label: E1 (73, 211)\n",
      "label: E2 (73, 211)\n",
      "label: F (73, 211)\n",
      "label: G (73, 211)\n",
      "BERPublicsearch/split_files/file_19.csv (105945, 211)\n",
      "df_file value counts: EnergyRating\n",
      "A2    3757\n",
      "C1    1970\n",
      "C2    1956\n",
      "B3    1922\n",
      "C3    1768\n",
      "D1    1474\n",
      "A3    1411\n",
      "D2    1279\n",
      "G     1006\n",
      "B2     999\n",
      "E1     754\n",
      "F      591\n",
      "E2     578\n",
      "B1     464\n",
      "A1      71\n",
      "Name: count, dtype: int64\n",
      "smallest_column_name:  A1  target number of rows: 71\n",
      "label: A1 (71, 211)\n",
      "label: A2 (71, 211)\n",
      "label: A3 (71, 211)\n",
      "label: B1 (71, 211)\n",
      "label: B2 (71, 211)\n",
      "label: B3 (71, 211)\n",
      "label: C1 (71, 211)\n",
      "label: C2 (71, 211)\n",
      "label: C3 (71, 211)\n",
      "label: D1 (71, 211)\n",
      "label: D2 (71, 211)\n",
      "label: E1 (71, 211)\n",
      "label: E2 (71, 211)\n",
      "label: F (71, 211)\n",
      "label: G (71, 211)\n",
      "BERPublicsearch/split_files/file_21.csv (107010, 211)\n"
     ]
    },
    {
     "name": "stderr",
     "output_type": "stream",
     "text": [
      "C:\\Users\\jbyrne\\AppData\\Local\\Temp\\ipykernel_13860\\951022720.py:14: DtypeWarning: Columns (155,161) have mixed types. Specify dtype option on import or set low_memory=False.\n",
      "  df_file = pd.read_table(row['FileName'], sep=\"\\t\", encoding='cp437', header=0, on_bad_lines=\"warn\")\n"
     ]
    },
    {
     "name": "stdout",
     "output_type": "stream",
     "text": [
      "df_file value counts: EnergyRating\n",
      "A2    3465\n",
      "A3    2182\n",
      "C1    2117\n",
      "C2    1950\n",
      "B3    1767\n",
      "C3    1675\n",
      "D1    1533\n",
      "D2    1232\n",
      "B2     949\n",
      "G      874\n",
      "E1     649\n",
      "F      560\n",
      "E2     511\n",
      "B1     475\n",
      "A1      61\n",
      "Name: count, dtype: int64\n",
      "smallest_column_name:  A1  target number of rows: 61\n",
      "label: A1 (61, 211)\n"
     ]
    },
    {
     "name": "stderr",
     "output_type": "stream",
     "text": [
      "C:\\Users\\jbyrne\\AppData\\Local\\Temp\\ipykernel_13860\\951022720.py:31: FutureWarning: The behavior of DataFrame concatenation with empty or all-NA entries is deprecated. In a future version, this will no longer exclude empty or all-NA columns when determining the result dtypes. To retain the old behavior, exclude the relevant entries before the concat operation.\n",
      "  df_final = pd.concat([df_final, df_sample], axis=0)\n"
     ]
    },
    {
     "name": "stdout",
     "output_type": "stream",
     "text": [
      "label: A2 (61, 211)\n",
      "label: A3 (61, 211)\n",
      "label: B1 (61, 211)\n",
      "label: B2 (61, 211)\n",
      "label: B3 (61, 211)\n",
      "label: C1 (61, 211)\n",
      "label: C2 (61, 211)\n",
      "label: C3 (61, 211)\n",
      "label: D1 (61, 211)\n",
      "label: D2 (61, 211)\n",
      "label: E1 (61, 211)\n",
      "label: E2 (61, 211)\n",
      "label: F (61, 211)\n",
      "label: G (61, 211)\n",
      "BERPublicsearch/split_files/file_20.csv (107925, 211)\n"
     ]
    },
    {
     "name": "stderr",
     "output_type": "stream",
     "text": [
      "C:\\Users\\jbyrne\\AppData\\Local\\Temp\\ipykernel_13860\\951022720.py:14: DtypeWarning: Columns (161) have mixed types. Specify dtype option on import or set low_memory=False.\n",
      "  df_file = pd.read_table(row['FileName'], sep=\"\\t\", encoding='cp437', header=0, on_bad_lines=\"warn\")\n"
     ]
    },
    {
     "name": "stdout",
     "output_type": "stream",
     "text": [
      "df_file value counts: EnergyRating\n",
      "B3    2490\n",
      "C1    2340\n",
      "C2    2252\n",
      "C3    2081\n",
      "D1    1742\n",
      "D2    1534\n",
      "B2    1389\n",
      "G     1168\n",
      "A2    1082\n",
      "E1     888\n",
      "B1     838\n",
      "F      771\n",
      "E2     695\n",
      "A3     692\n",
      "A1      38\n",
      "Name: count, dtype: int64\n",
      "smallest_column_name:  A1  target number of rows: 38\n",
      "label: A1 (38, 211)\n",
      "label: A2 (38, 211)\n",
      "label: A3 (38, 211)\n",
      "label: B1 (38, 211)\n",
      "label: B2 (38, 211)\n",
      "label: B3 (38, 211)\n",
      "label: C1 (38, 211)\n",
      "label: C2 (38, 211)\n",
      "label: C3 (38, 211)\n",
      "label: D1 (38, 211)\n",
      "label: D2 (38, 211)\n",
      "label: E1 (38, 211)\n",
      "label: E2 (38, 211)\n",
      "label: F (38, 211)\n",
      "label: G (38, 211)\n",
      "BERPublicsearch/split_files/file_56.csv (108495, 211)\n"
     ]
    },
    {
     "name": "stderr",
     "output_type": "stream",
     "text": [
      "C:\\Users\\jbyrne\\AppData\\Local\\Temp\\ipykernel_13860\\951022720.py:14: DtypeWarning: Columns (155,161,166) have mixed types. Specify dtype option on import or set low_memory=False.\n",
      "  df_file = pd.read_table(row['FileName'], sep=\"\\t\", encoding='cp437', header=0, on_bad_lines=\"warn\")\n"
     ]
    },
    {
     "name": "stdout",
     "output_type": "stream",
     "text": [
      "df_file value counts: EnergyRating\n",
      "A3    5331\n",
      "A2    2386\n",
      "C1    2120\n",
      "C2    1903\n",
      "C3    1483\n",
      "B3    1481\n",
      "D1    1229\n",
      "D2    1034\n",
      "B2     640\n",
      "G      582\n",
      "E1     520\n",
      "F      433\n",
      "B1     426\n",
      "E2     404\n",
      "A1      28\n",
      "Name: count, dtype: int64\n",
      "smallest_column_name:  A1  target number of rows: 28\n",
      "label: A1 (28, 211)\n"
     ]
    },
    {
     "name": "stderr",
     "output_type": "stream",
     "text": [
      "C:\\Users\\jbyrne\\AppData\\Local\\Temp\\ipykernel_13860\\951022720.py:31: FutureWarning: The behavior of DataFrame concatenation with empty or all-NA entries is deprecated. In a future version, this will no longer exclude empty or all-NA columns when determining the result dtypes. To retain the old behavior, exclude the relevant entries before the concat operation.\n",
      "  df_final = pd.concat([df_final, df_sample], axis=0)\n"
     ]
    },
    {
     "name": "stdout",
     "output_type": "stream",
     "text": [
      "label: A2 (28, 211)\n",
      "label: A3 (28, 211)\n",
      "label: B1 (28, 211)\n",
      "label: B2 (28, 211)\n",
      "label: B3 (28, 211)\n",
      "label: C1 (28, 211)\n",
      "label: C2 (28, 211)\n",
      "label: C3 (28, 211)\n",
      "label: D1 (28, 211)\n",
      "label: D2 (28, 211)\n",
      "label: E1 (28, 211)\n",
      "label: E2 (28, 211)\n",
      "label: F (28, 211)\n",
      "label: G (28, 211)\n",
      "BERPublicsearch/split_files/file_34.csv (108915, 211)\n"
     ]
    },
    {
     "name": "stderr",
     "output_type": "stream",
     "text": [
      "C:\\Users\\jbyrne\\AppData\\Local\\Temp\\ipykernel_13860\\951022720.py:14: DtypeWarning: Columns (155,161) have mixed types. Specify dtype option on import or set low_memory=False.\n",
      "  df_file = pd.read_table(row['FileName'], sep=\"\\t\", encoding='cp437', header=0, on_bad_lines=\"warn\")\n"
     ]
    },
    {
     "name": "stdout",
     "output_type": "stream",
     "text": [
      "df_file value counts: EnergyRating\n",
      "A3    3044\n",
      "C2    2405\n",
      "C1    2388\n",
      "C3    2036\n",
      "D1    1756\n",
      "B3    1528\n",
      "D2    1452\n",
      "A2    1282\n",
      "G     1149\n",
      "E1     830\n",
      "F      733\n",
      "E2     656\n",
      "B2     483\n",
      "B1     238\n",
      "A1      20\n",
      "Name: count, dtype: int64\n",
      "smallest_column_name:  A1  target number of rows: 20\n",
      "label: A1 (20, 211)\n"
     ]
    },
    {
     "name": "stderr",
     "output_type": "stream",
     "text": [
      "C:\\Users\\jbyrne\\AppData\\Local\\Temp\\ipykernel_13860\\951022720.py:31: FutureWarning: The behavior of DataFrame concatenation with empty or all-NA entries is deprecated. In a future version, this will no longer exclude empty or all-NA columns when determining the result dtypes. To retain the old behavior, exclude the relevant entries before the concat operation.\n",
      "  df_final = pd.concat([df_final, df_sample], axis=0)\n"
     ]
    },
    {
     "name": "stdout",
     "output_type": "stream",
     "text": [
      "label: A2 (20, 211)\n",
      "label: A3 (20, 211)\n",
      "label: B1 (20, 211)\n",
      "label: B2 (20, 211)\n",
      "label: B3 (20, 211)\n",
      "label: C1 (20, 211)\n",
      "label: C2 (20, 211)\n",
      "label: C3 (20, 211)\n",
      "label: D1 (20, 211)\n",
      "label: D2 (20, 211)\n",
      "label: E1 (20, 211)\n",
      "label: E2 (20, 211)\n",
      "label: F (20, 211)\n",
      "label: G (20, 211)\n",
      "BERPublicsearch/split_files/file_16.csv (109215, 211)\n"
     ]
    },
    {
     "name": "stderr",
     "output_type": "stream",
     "text": [
      "C:\\Users\\jbyrne\\AppData\\Local\\Temp\\ipykernel_13860\\951022720.py:14: DtypeWarning: Columns (161) have mixed types. Specify dtype option on import or set low_memory=False.\n",
      "  df_file = pd.read_table(row['FileName'], sep=\"\\t\", encoding='cp437', header=0, on_bad_lines=\"warn\")\n"
     ]
    },
    {
     "name": "stdout",
     "output_type": "stream",
     "text": [
      "df_file value counts: EnergyRating\n",
      "A3    3197\n",
      "C1    2458\n",
      "C2    2238\n",
      "A2    1931\n",
      "C3    1878\n",
      "D1    1628\n",
      "B3    1567\n",
      "D2    1291\n",
      "G      918\n",
      "E1     702\n",
      "B2     676\n",
      "E2     560\n",
      "F      541\n",
      "B1     396\n",
      "A1      19\n",
      "Name: count, dtype: int64\n",
      "smallest_column_name:  A1  target number of rows: 19\n",
      "label: A1 (19, 211)\n",
      "label: A2 (19, 211)\n",
      "label: A3 (19, 211)\n",
      "label: B1 (19, 211)\n",
      "label: B2 (19, 211)\n",
      "label: B3 (19, 211)\n",
      "label: C1 (19, 211)\n",
      "label: C2 (19, 211)\n",
      "label: C3 (19, 211)\n",
      "label: D1 (19, 211)\n",
      "label: D2 (19, 211)\n",
      "label: E1 (19, 211)\n",
      "label: E2 (19, 211)\n",
      "label: F (19, 211)\n",
      "label: G (19, 211)\n",
      "BERPublicsearch/split_files/file_18.csv (109500, 211)\n"
     ]
    },
    {
     "name": "stderr",
     "output_type": "stream",
     "text": [
      "C:\\Users\\jbyrne\\AppData\\Local\\Temp\\ipykernel_13860\\951022720.py:14: DtypeWarning: Columns (161) have mixed types. Specify dtype option on import or set low_memory=False.\n",
      "  df_file = pd.read_table(row['FileName'], sep=\"\\t\", encoding='cp437', header=0, on_bad_lines=\"warn\")\n"
     ]
    },
    {
     "name": "stdout",
     "output_type": "stream",
     "text": [
      "df_file value counts: EnergyRating\n",
      "C2    2408\n",
      "C3    2280\n",
      "C1    2276\n",
      "D1    2183\n",
      "D2    1926\n",
      "A3    1863\n",
      "G     1334\n",
      "B3    1329\n",
      "E1    1178\n",
      "E2     953\n",
      "F      871\n",
      "A2     798\n",
      "B2     454\n",
      "B1     132\n",
      "A1      15\n",
      "Name: count, dtype: int64\n",
      "smallest_column_name:  A1  target number of rows: 15\n",
      "label: A1 (15, 211)\n",
      "label: A2 (15, 211)\n",
      "label: A3 (15, 211)\n",
      "label: B1 (15, 211)\n",
      "label: B2 (15, 211)\n",
      "label: B3 (15, 211)\n",
      "label: C1 (15, 211)\n",
      "label: C2 (15, 211)\n",
      "label: C3 (15, 211)\n",
      "label: D1 (15, 211)\n",
      "label: D2 (15, 211)\n",
      "label: E1 (15, 211)\n",
      "label: E2 (15, 211)\n",
      "label: F (15, 211)\n",
      "label: G (15, 211)\n",
      "BERPublicsearch/split_files/file_13.csv (109725, 211)\n"
     ]
    },
    {
     "name": "stderr",
     "output_type": "stream",
     "text": [
      "C:\\Users\\jbyrne\\AppData\\Local\\Temp\\ipykernel_13860\\951022720.py:14: DtypeWarning: Columns (97,98,144,155,161) have mixed types. Specify dtype option on import or set low_memory=False.\n",
      "  df_file = pd.read_table(row['FileName'], sep=\"\\t\", encoding='cp437', header=0, on_bad_lines=\"warn\")\n"
     ]
    },
    {
     "name": "stdout",
     "output_type": "stream",
     "text": [
      "df_file value counts: EnergyRating\n",
      "C2    2652\n",
      "D1    2586\n",
      "C3    2542\n",
      "C1    2199\n",
      "D2    2155\n",
      "E1    1275\n",
      "B3    1249\n",
      "A3    1111\n",
      "E2     970\n",
      "F      872\n",
      "G      845\n",
      "B2     711\n",
      "B1     612\n",
      "A2     206\n",
      "A1      15\n",
      "Name: count, dtype: int64\n",
      "smallest_column_name:  A1  target number of rows: 15\n",
      "label: A1 (15, 211)\n"
     ]
    },
    {
     "name": "stderr",
     "output_type": "stream",
     "text": [
      "C:\\Users\\jbyrne\\AppData\\Local\\Temp\\ipykernel_13860\\951022720.py:31: FutureWarning: The behavior of DataFrame concatenation with empty or all-NA entries is deprecated. In a future version, this will no longer exclude empty or all-NA columns when determining the result dtypes. To retain the old behavior, exclude the relevant entries before the concat operation.\n",
      "  df_final = pd.concat([df_final, df_sample], axis=0)\n"
     ]
    },
    {
     "name": "stdout",
     "output_type": "stream",
     "text": [
      "label: A2 (15, 211)\n",
      "label: A3 (15, 211)\n",
      "label: B1 (15, 211)\n",
      "label: B2 (15, 211)\n",
      "label: B3 (15, 211)\n",
      "label: C1 (15, 211)\n",
      "label: C2 (15, 211)\n",
      "label: C3 (15, 211)\n",
      "label: D1 (15, 211)\n",
      "label: D2 (15, 211)\n",
      "label: E1 (15, 211)\n",
      "label: E2 (15, 211)\n",
      "label: F (15, 211)\n",
      "label: G (15, 211)\n",
      "BERPublicsearch/split_files/file_32.csv (109950, 211)\n"
     ]
    },
    {
     "name": "stderr",
     "output_type": "stream",
     "text": [
      "C:\\Users\\jbyrne\\AppData\\Local\\Temp\\ipykernel_13860\\951022720.py:14: DtypeWarning: Columns (155,161,166) have mixed types. Specify dtype option on import or set low_memory=False.\n",
      "  df_file = pd.read_table(row['FileName'], sep=\"\\t\", encoding='cp437', header=0, on_bad_lines=\"warn\")\n"
     ]
    },
    {
     "name": "stdout",
     "output_type": "stream",
     "text": [
      "df_file value counts: EnergyRating\n",
      "A3    2741\n",
      "C2    2563\n",
      "C1    2537\n",
      "C3    2024\n",
      "D1    1738\n",
      "B3    1671\n",
      "D2    1404\n",
      "A2    1253\n",
      "G     1092\n",
      "E1     826\n",
      "F      711\n",
      "E2     637\n",
      "B2     575\n",
      "B1     214\n",
      "A1      14\n",
      "Name: count, dtype: int64\n",
      "smallest_column_name:  A1  target number of rows: 14\n",
      "label: A1 (14, 211)\n"
     ]
    },
    {
     "name": "stderr",
     "output_type": "stream",
     "text": [
      "C:\\Users\\jbyrne\\AppData\\Local\\Temp\\ipykernel_13860\\951022720.py:31: FutureWarning: The behavior of DataFrame concatenation with empty or all-NA entries is deprecated. In a future version, this will no longer exclude empty or all-NA columns when determining the result dtypes. To retain the old behavior, exclude the relevant entries before the concat operation.\n",
      "  df_final = pd.concat([df_final, df_sample], axis=0)\n"
     ]
    },
    {
     "name": "stdout",
     "output_type": "stream",
     "text": [
      "label: A2 (14, 211)\n",
      "label: A3 (14, 211)\n",
      "label: B1 (14, 211)\n",
      "label: B2 (14, 211)\n",
      "label: B3 (14, 211)\n",
      "label: C1 (14, 211)\n",
      "label: C2 (14, 211)\n",
      "label: C3 (14, 211)\n",
      "label: D1 (14, 211)\n",
      "label: D2 (14, 211)\n",
      "label: E1 (14, 211)\n",
      "label: E2 (14, 211)\n",
      "label: F (14, 211)\n",
      "label: G (14, 211)\n",
      "BERPublicsearch/split_files/file_17.csv (110160, 211)\n"
     ]
    },
    {
     "name": "stderr",
     "output_type": "stream",
     "text": [
      "C:\\Users\\jbyrne\\AppData\\Local\\Temp\\ipykernel_13860\\951022720.py:14: DtypeWarning: Columns (150,161) have mixed types. Specify dtype option on import or set low_memory=False.\n",
      "  df_file = pd.read_table(row['FileName'], sep=\"\\t\", encoding='cp437', header=0, on_bad_lines=\"warn\")\n"
     ]
    },
    {
     "name": "stdout",
     "output_type": "stream",
     "text": [
      "df_file value counts: EnergyRating\n",
      "C2    2532\n",
      "C1    2403\n",
      "B3    2267\n",
      "C3    2151\n",
      "D1    1833\n",
      "D2    1535\n",
      "G     1285\n",
      "B2    1229\n",
      "A2    1076\n",
      "E1     937\n",
      "F      828\n",
      "E2     748\n",
      "B1     601\n",
      "A3     561\n",
      "A1      14\n",
      "Name: count, dtype: int64\n",
      "smallest_column_name:  A1  target number of rows: 14\n",
      "label: A1 (14, 211)\n",
      "label: A2 (14, 211)\n",
      "label: A3 (14, 211)\n",
      "label: B1 (14, 211)\n",
      "label: B2 (14, 211)\n",
      "label: B3 (14, 211)\n",
      "label: C1 (14, 211)\n",
      "label: C2 (14, 211)\n",
      "label: C3 (14, 211)\n",
      "label: D1 (14, 211)\n",
      "label: D2 (14, 211)\n",
      "label: E1 (14, 211)\n",
      "label: E2 (14, 211)\n",
      "label: F (14, 211)\n",
      "label: G (14, 211)\n",
      "BERPublicsearch/split_files/file_55.csv (110370, 211)\n"
     ]
    },
    {
     "name": "stderr",
     "output_type": "stream",
     "text": [
      "C:\\Users\\jbyrne\\AppData\\Local\\Temp\\ipykernel_13860\\951022720.py:14: DtypeWarning: Columns (155,161) have mixed types. Specify dtype option on import or set low_memory=False.\n",
      "  df_file = pd.read_table(row['FileName'], sep=\"\\t\", encoding='cp437', header=0, on_bad_lines=\"warn\")\n"
     ]
    },
    {
     "name": "stdout",
     "output_type": "stream",
     "text": [
      "df_file value counts: EnergyRating\n",
      "A3    2525\n",
      "C2    2517\n",
      "C3    2180\n",
      "C1    2140\n",
      "D1    2029\n",
      "D2    1678\n",
      "G     1361\n",
      "B3    1337\n",
      "A2     994\n",
      "E1     990\n",
      "F      904\n",
      "E2     781\n",
      "B2     409\n",
      "B1     143\n",
      "A1      12\n",
      "Name: count, dtype: int64\n",
      "smallest_column_name:  A1  target number of rows: 12\n",
      "label: A1 (12, 211)\n"
     ]
    },
    {
     "name": "stderr",
     "output_type": "stream",
     "text": [
      "C:\\Users\\jbyrne\\AppData\\Local\\Temp\\ipykernel_13860\\951022720.py:31: FutureWarning: The behavior of DataFrame concatenation with empty or all-NA entries is deprecated. In a future version, this will no longer exclude empty or all-NA columns when determining the result dtypes. To retain the old behavior, exclude the relevant entries before the concat operation.\n",
      "  df_final = pd.concat([df_final, df_sample], axis=0)\n"
     ]
    },
    {
     "name": "stdout",
     "output_type": "stream",
     "text": [
      "label: A2 (12, 211)\n",
      "label: A3 (12, 211)\n",
      "label: B1 (12, 211)\n",
      "label: B2 (12, 211)\n",
      "label: B3 (12, 211)\n",
      "label: C1 (12, 211)\n",
      "label: C2 (12, 211)\n",
      "label: C3 (12, 211)\n",
      "label: D1 (12, 211)\n",
      "label: D2 (12, 211)\n",
      "label: E1 (12, 211)\n",
      "label: E2 (12, 211)\n",
      "label: F (12, 211)\n",
      "label: G (12, 211)\n",
      "BERPublicsearch/split_files/file_15.csv (110550, 211)\n"
     ]
    },
    {
     "name": "stderr",
     "output_type": "stream",
     "text": [
      "C:\\Users\\jbyrne\\AppData\\Local\\Temp\\ipykernel_13860\\951022720.py:14: DtypeWarning: Columns (97,98,155,166) have mixed types. Specify dtype option on import or set low_memory=False.\n",
      "  df_file = pd.read_table(row['FileName'], sep=\"\\t\", encoding='cp437', header=0, on_bad_lines=\"warn\")\n"
     ]
    },
    {
     "name": "stdout",
     "output_type": "stream",
     "text": [
      "df_file value counts: EnergyRating\n",
      "A3    4713\n",
      "C2    2112\n",
      "C1    1913\n",
      "C3    1895\n",
      "D1    1833\n",
      "D2    1435\n",
      "B3    1165\n",
      "A2    1086\n",
      "E1     870\n",
      "E2     685\n",
      "G      665\n",
      "F      659\n",
      "B2     596\n",
      "B1     364\n",
      "A1       9\n",
      "Name: count, dtype: int64\n",
      "smallest_column_name:  A1  target number of rows: 9\n",
      "label: A1 (9, 211)\n"
     ]
    },
    {
     "name": "stderr",
     "output_type": "stream",
     "text": [
      "C:\\Users\\jbyrne\\AppData\\Local\\Temp\\ipykernel_13860\\951022720.py:31: FutureWarning: The behavior of DataFrame concatenation with empty or all-NA entries is deprecated. In a future version, this will no longer exclude empty or all-NA columns when determining the result dtypes. To retain the old behavior, exclude the relevant entries before the concat operation.\n",
      "  df_final = pd.concat([df_final, df_sample], axis=0)\n"
     ]
    },
    {
     "name": "stdout",
     "output_type": "stream",
     "text": [
      "label: A2 (9, 211)\n",
      "label: A3 (9, 211)\n",
      "label: B1 (9, 211)\n",
      "label: B2 (9, 211)\n",
      "label: B3 (9, 211)\n",
      "label: C1 (9, 211)\n",
      "label: C2 (9, 211)\n",
      "label: C3 (9, 211)\n",
      "label: D1 (9, 211)\n",
      "label: D2 (9, 211)\n",
      "label: E1 (9, 211)\n",
      "label: E2 (9, 211)\n",
      "label: F (9, 211)\n",
      "label: G (9, 211)\n",
      "BERPublicsearch/split_files/file_33.csv (110685, 211)\n",
      "df_file value counts: EnergyRating\n",
      "A2    815\n",
      "A3    289\n",
      "C2    202\n",
      "C1    201\n",
      "B3    171\n",
      "D1    145\n",
      "G     143\n",
      "C3    143\n",
      "D2    115\n",
      "B2     96\n",
      "F      80\n",
      "E1     70\n",
      "B1     67\n",
      "E2     60\n",
      "A1      8\n",
      "Name: count, dtype: int64\n",
      "smallest_column_name:  A1  target number of rows: 8\n",
      "label: A1 (8, 211)\n",
      "label: A2 (8, 211)\n",
      "label: A3 (8, 211)\n",
      "label: B1 (8, 211)\n",
      "label: B2 (8, 211)\n",
      "label: B3 (8, 211)\n",
      "label: C1 (8, 211)\n",
      "label: C2 (8, 211)\n",
      "label: C3 (8, 211)\n",
      "label: D1 (8, 211)\n",
      "label: D2 (8, 211)\n",
      "label: E1 (8, 211)\n",
      "label: E2 (8, 211)\n",
      "label: F (8, 211)\n",
      "label: G (8, 211)\n",
      "BERPublicsearch/split_files/file_60.csv (110805, 211)\n"
     ]
    },
    {
     "name": "stderr",
     "output_type": "stream",
     "text": [
      "C:\\Users\\jbyrne\\AppData\\Local\\Temp\\ipykernel_13860\\951022720.py:14: DtypeWarning: Columns (61,62,63,64,65,66,71,73,144,150) have mixed types. Specify dtype option on import or set low_memory=False.\n",
      "  df_file = pd.read_table(row['FileName'], sep=\"\\t\", encoding='cp437', header=0, on_bad_lines=\"warn\")\n"
     ]
    },
    {
     "name": "stdout",
     "output_type": "stream",
     "text": [
      "df_file value counts: EnergyRating\n",
      "C1    2914\n",
      "C2    2706\n",
      "C3    2283\n",
      "B3    2174\n",
      "D1    1984\n",
      "D2    1644\n",
      "G     1244\n",
      "B2     924\n",
      "E1     920\n",
      "A3     760\n",
      "E2     751\n",
      "F      708\n",
      "A2     622\n",
      "B1     358\n",
      "A1       8\n",
      "Name: count, dtype: int64\n",
      "smallest_column_name:  A1  target number of rows: 8\n",
      "label: A1 (8, 211)\n",
      "label: A2 (8, 211)\n",
      "label: A3 (8, 211)\n",
      "label: B1 (8, 211)\n",
      "label: B2 (8, 211)\n",
      "label: B3 (8, 211)\n",
      "label: C1 (8, 211)\n",
      "label: C2 (8, 211)\n",
      "label: C3 (8, 211)\n",
      "label: D1 (8, 211)\n",
      "label: D2 (8, 211)\n",
      "label: E1 (8, 211)\n",
      "label: E2 (8, 211)\n",
      "label: F (8, 211)\n",
      "label: G (8, 211)\n",
      "BERPublicsearch/split_files/file_53.csv (110925, 211)\n"
     ]
    },
    {
     "name": "stderr",
     "output_type": "stream",
     "text": [
      "C:\\Users\\jbyrne\\AppData\\Local\\Temp\\ipykernel_13860\\951022720.py:14: DtypeWarning: Columns (161) have mixed types. Specify dtype option on import or set low_memory=False.\n",
      "  df_file = pd.read_table(row['FileName'], sep=\"\\t\", encoding='cp437', header=0, on_bad_lines=\"warn\")\n"
     ]
    },
    {
     "name": "stdout",
     "output_type": "stream",
     "text": [
      "df_file value counts: EnergyRating\n",
      "C2    2516\n",
      "C1    2487\n",
      "C3    2210\n",
      "B3    2101\n",
      "D1    2001\n",
      "D2    1693\n",
      "G     1262\n",
      "A2    1066\n",
      "B2    1046\n",
      "E1     967\n",
      "F      800\n",
      "E2     713\n",
      "A3     713\n",
      "B1     419\n",
      "A1       6\n",
      "Name: count, dtype: int64\n",
      "smallest_column_name:  A1  target number of rows: 6\n",
      "label: A1 (6, 211)\n",
      "label: A2 (6, 211)\n",
      "label: A3 (6, 211)\n",
      "label: B1 (6, 211)\n",
      "label: B2 (6, 211)\n",
      "label: B3 (6, 211)\n",
      "label: C1 (6, 211)\n",
      "label: C2 (6, 211)\n",
      "label: C3 (6, 211)\n",
      "label: D1 (6, 211)\n",
      "label: D2 (6, 211)\n",
      "label: E1 (6, 211)\n",
      "label: E2 (6, 211)\n",
      "label: F (6, 211)\n",
      "label: G (6, 211)\n",
      "BERPublicsearch/split_files/file_54.csv (111015, 211)\n"
     ]
    },
    {
     "name": "stderr",
     "output_type": "stream",
     "text": [
      "C:\\Users\\jbyrne\\AppData\\Local\\Temp\\ipykernel_13860\\951022720.py:14: DtypeWarning: Columns (144,155,161) have mixed types. Specify dtype option on import or set low_memory=False.\n",
      "  df_file = pd.read_table(row['FileName'], sep=\"\\t\", encoding='cp437', header=0, on_bad_lines=\"warn\")\n"
     ]
    },
    {
     "name": "stdout",
     "output_type": "stream",
     "text": [
      "df_file value counts: EnergyRating\n",
      "C2    2632\n",
      "C3    2405\n",
      "D1    2364\n",
      "C1    2288\n",
      "D2    1907\n",
      "G     1401\n",
      "A3    1378\n",
      "B3    1360\n",
      "E1    1159\n",
      "F     1007\n",
      "E2     937\n",
      "B2     557\n",
      "A2     455\n",
      "B1     145\n",
      "A1       5\n",
      "Name: count, dtype: int64\n",
      "smallest_column_name:  A1  target number of rows: 5\n",
      "label: A1 (5, 211)\n"
     ]
    },
    {
     "name": "stderr",
     "output_type": "stream",
     "text": [
      "C:\\Users\\jbyrne\\AppData\\Local\\Temp\\ipykernel_13860\\951022720.py:31: FutureWarning: The behavior of DataFrame concatenation with empty or all-NA entries is deprecated. In a future version, this will no longer exclude empty or all-NA columns when determining the result dtypes. To retain the old behavior, exclude the relevant entries before the concat operation.\n",
      "  df_final = pd.concat([df_final, df_sample], axis=0)\n"
     ]
    },
    {
     "name": "stdout",
     "output_type": "stream",
     "text": [
      "label: A2 (5, 211)\n",
      "label: A3 (5, 211)\n",
      "label: B1 (5, 211)\n",
      "label: B2 (5, 211)\n",
      "label: B3 (5, 211)\n",
      "label: C1 (5, 211)\n",
      "label: C2 (5, 211)\n",
      "label: C3 (5, 211)\n",
      "label: D1 (5, 211)\n",
      "label: D2 (5, 211)\n",
      "label: E1 (5, 211)\n",
      "label: E2 (5, 211)\n",
      "label: F (5, 211)\n",
      "label: G (5, 211)\n",
      "BERPublicsearch/split_files/file_12.csv (111090, 211)\n"
     ]
    },
    {
     "name": "stderr",
     "output_type": "stream",
     "text": [
      "C:\\Users\\jbyrne\\AppData\\Local\\Temp\\ipykernel_13860\\951022720.py:14: DtypeWarning: Columns (150,155,161,166) have mixed types. Specify dtype option on import or set low_memory=False.\n",
      "  df_file = pd.read_table(row['FileName'], sep=\"\\t\", encoding='cp437', header=0, on_bad_lines=\"warn\")\n"
     ]
    },
    {
     "name": "stdout",
     "output_type": "stream",
     "text": [
      "df_file value counts: EnergyRating\n",
      "C2    2698\n",
      "C3    2503\n",
      "D1    2450\n",
      "C1    2330\n",
      "D2    2073\n",
      "B3    1448\n",
      "G     1349\n",
      "E1    1169\n",
      "A3    1099\n",
      "F      983\n",
      "E2     895\n",
      "B2     510\n",
      "A2     281\n",
      "B1     208\n",
      "A1       4\n",
      "Name: count, dtype: int64\n",
      "smallest_column_name:  A1  target number of rows: 4\n",
      "label: A1 (4, 211)\n"
     ]
    },
    {
     "name": "stderr",
     "output_type": "stream",
     "text": [
      "C:\\Users\\jbyrne\\AppData\\Local\\Temp\\ipykernel_13860\\951022720.py:31: FutureWarning: The behavior of DataFrame concatenation with empty or all-NA entries is deprecated. In a future version, this will no longer exclude empty or all-NA columns when determining the result dtypes. To retain the old behavior, exclude the relevant entries before the concat operation.\n",
      "  df_final = pd.concat([df_final, df_sample], axis=0)\n"
     ]
    },
    {
     "name": "stdout",
     "output_type": "stream",
     "text": [
      "label: A2 (4, 211)\n",
      "label: A3 (4, 211)\n",
      "label: B1 (4, 211)\n",
      "label: B2 (4, 211)\n",
      "label: B3 (4, 211)\n",
      "label: C1 (4, 211)\n",
      "label: C2 (4, 211)\n",
      "label: C3 (4, 211)\n",
      "label: D1 (4, 211)\n",
      "label: D2 (4, 211)\n",
      "label: E1 (4, 211)\n",
      "label: E2 (4, 211)\n",
      "label: F (4, 211)\n",
      "label: G (4, 211)\n",
      "BERPublicsearch/split_files/file_11.csv (111150, 211)\n"
     ]
    },
    {
     "name": "stderr",
     "output_type": "stream",
     "text": [
      "C:\\Users\\jbyrne\\AppData\\Local\\Temp\\ipykernel_13860\\951022720.py:14: DtypeWarning: Columns (144,150,161) have mixed types. Specify dtype option on import or set low_memory=False.\n",
      "  df_file = pd.read_table(row['FileName'], sep=\"\\t\", encoding='cp437', header=0, on_bad_lines=\"warn\")\n"
     ]
    },
    {
     "name": "stdout",
     "output_type": "stream",
     "text": [
      "df_file value counts: EnergyRating\n",
      "C2    2646\n",
      "C3    2526\n",
      "D1    2517\n",
      "D2    2197\n",
      "C1    2146\n",
      "G     1529\n",
      "E1    1357\n",
      "B3    1256\n",
      "E2    1054\n",
      "F     1048\n",
      "A3     846\n",
      "B2     461\n",
      "B1     227\n",
      "A2     188\n",
      "A1       2\n",
      "Name: count, dtype: int64\n",
      "smallest_column_name:  A1  target number of rows: 2\n",
      "label: A1 (2, 211)\n",
      "label: A2 (2, 211)\n",
      "label: A3 (2, 211)\n",
      "label: B1 (2, 211)\n",
      "label: B2 (2, 211)\n",
      "label: B3 (2, 211)\n",
      "label: C1 (2, 211)\n",
      "label: C2 (2, 211)\n",
      "label: C3 (2, 211)\n",
      "label: D1 (2, 211)\n",
      "label: D2 (2, 211)\n",
      "label: E1 (2, 211)\n",
      "label: E2 (2, 211)\n",
      "label: F (2, 211)\n",
      "label: G (2, 211)\n",
      "BERPublicsearch/split_files/file_10.csv (111180, 211)\n"
     ]
    },
    {
     "name": "stderr",
     "output_type": "stream",
     "text": [
      "C:\\Users\\jbyrne\\AppData\\Local\\Temp\\ipykernel_13860\\951022720.py:14: DtypeWarning: Columns (144,155) have mixed types. Specify dtype option on import or set low_memory=False.\n",
      "  df_file = pd.read_table(row['FileName'], sep=\"\\t\", encoding='cp437', header=0, on_bad_lines=\"warn\")\n"
     ]
    },
    {
     "name": "stdout",
     "output_type": "stream",
     "text": [
      "df_file value counts: EnergyRating\n",
      "A3    2488\n",
      "C2    2406\n",
      "C1    2256\n",
      "C3    2185\n",
      "D1    2055\n",
      "D2    1700\n",
      "B3    1384\n",
      "G     1223\n",
      "E1    1001\n",
      "F      843\n",
      "E2     825\n",
      "A2     746\n",
      "B2     592\n",
      "B1     295\n",
      "A1       1\n",
      "Name: count, dtype: int64\n",
      "smallest_column_name:  A1  target number of rows: 1\n",
      "label: A1 (1, 211)\n",
      "label: A2 (1, 211)\n",
      "label: A3 (1, 211)\n",
      "label: B1 (1, 211)\n",
      "label: B2 (1, 211)\n",
      "label: B3 (1, 211)\n",
      "label: C1 (1, 211)\n",
      "label: C2 (1, 211)\n",
      "label: C3 (1, 211)\n",
      "label: D1 (1, 211)\n",
      "label: D2 (1, 211)\n",
      "label: E1 (1, 211)\n",
      "label: E2 (1, 211)\n",
      "label: F (1, 211)\n",
      "label: G (1, 211)\n",
      "BERPublicsearch/split_files/file_14.csv (111195, 211)\n"
     ]
    },
    {
     "name": "stderr",
     "output_type": "stream",
     "text": [
      "C:\\Users\\jbyrne\\AppData\\Local\\Temp\\ipykernel_13860\\951022720.py:14: DtypeWarning: Columns (144,150) have mixed types. Specify dtype option on import or set low_memory=False.\n",
      "  df_file = pd.read_table(row['FileName'], sep=\"\\t\", encoding='cp437', header=0, on_bad_lines=\"warn\")\n"
     ]
    },
    {
     "name": "stdout",
     "output_type": "stream",
     "text": [
      "df_file value counts: EnergyRating\n",
      "D1    2594\n",
      "C3    2552\n",
      "D2    2409\n",
      "C2    2338\n",
      "C1    2254\n",
      "B3    1814\n",
      "G     1420\n",
      "E1    1257\n",
      "E2    1031\n",
      "F      928\n",
      "B2     899\n",
      "B1     398\n",
      "A3     101\n",
      "A2       4\n",
      "A1       1\n",
      "Name: count, dtype: int64\n",
      "smallest_column_name:  A1  target number of rows: 1\n",
      "label: A1 (1, 211)\n",
      "label: A2 (1, 211)\n",
      "label: A3 (1, 211)\n",
      "label: B1 (1, 211)\n",
      "label: B2 (1, 211)\n",
      "label: B3 (1, 211)\n",
      "label: C1 (1, 211)\n",
      "label: C2 (1, 211)\n",
      "label: C3 (1, 211)\n",
      "label: D1 (1, 211)\n",
      "label: D2 (1, 211)\n",
      "label: E1 (1, 211)\n",
      "label: E2 (1, 211)\n",
      "label: F (1, 211)\n",
      "label: G (1, 211)\n",
      "BERPublicsearch/split_files/file_01.csv (111210, 211)\n"
     ]
    },
    {
     "name": "stderr",
     "output_type": "stream",
     "text": [
      "C:\\Users\\jbyrne\\AppData\\Local\\Temp\\ipykernel_13860\\951022720.py:14: DtypeWarning: Columns (144,150) have mixed types. Specify dtype option on import or set low_memory=False.\n",
      "  df_file = pd.read_table(row['FileName'], sep=\"\\t\", encoding='cp437', header=0, on_bad_lines=\"warn\")\n"
     ]
    },
    {
     "name": "stdout",
     "output_type": "stream",
     "text": [
      "df_file value counts: EnergyRating\n",
      "C3    3142\n",
      "D1    2997\n",
      "C2    2906\n",
      "D2    2443\n",
      "C1    2414\n",
      "B3    1333\n",
      "E1    1178\n",
      "G     1035\n",
      "E2     860\n",
      "F      810\n",
      "B2     449\n",
      "B1     281\n",
      "A3     132\n",
      "A2      19\n",
      "A1       1\n",
      "Name: count, dtype: int64\n",
      "smallest_column_name:  A1  target number of rows: 1\n",
      "label: A1 (1, 211)\n",
      "label: A2 (1, 211)\n",
      "label: A3 (1, 211)\n",
      "label: B1 (1, 211)\n",
      "label: B2 (1, 211)\n",
      "label: B3 (1, 211)\n",
      "label: C1 (1, 211)\n",
      "label: C2 (1, 211)\n",
      "label: C3 (1, 211)\n",
      "label: D1 (1, 211)\n",
      "label: D2 (1, 211)\n",
      "label: E1 (1, 211)\n",
      "label: E2 (1, 211)\n",
      "label: F (1, 211)\n",
      "label: G (1, 211)\n",
      "BERPublicsearch/split_files/file_02.csv (111225, 211)\n"
     ]
    },
    {
     "name": "stderr",
     "output_type": "stream",
     "text": [
      "C:\\Users\\jbyrne\\AppData\\Local\\Temp\\ipykernel_13860\\951022720.py:14: DtypeWarning: Columns (144,150,155) have mixed types. Specify dtype option on import or set low_memory=False.\n",
      "  df_file = pd.read_table(row['FileName'], sep=\"\\t\", encoding='cp437', header=0, on_bad_lines=\"warn\")\n"
     ]
    },
    {
     "name": "stdout",
     "output_type": "stream",
     "text": [
      "df_file value counts: EnergyRating\n",
      "C3    2951\n",
      "D1    2888\n",
      "C2    2750\n",
      "D2    2526\n",
      "C1    2209\n",
      "G     1475\n",
      "E1    1278\n",
      "B3    1261\n",
      "E2     993\n",
      "F      970\n",
      "B2     407\n",
      "B1     229\n",
      "A3      61\n",
      "A2       1\n",
      "A1       1\n",
      "Name: count, dtype: int64\n",
      "smallest_column_name:  A1  target number of rows: 1\n",
      "label: A1 (1, 211)\n",
      "label: A2 (1, 211)\n",
      "label: A3 (1, 211)\n",
      "label: B1 (1, 211)\n",
      "label: B2 (1, 211)\n",
      "label: B3 (1, 211)\n",
      "label: C1 (1, 211)\n",
      "label: C2 (1, 211)\n",
      "label: C3 (1, 211)\n",
      "label: D1 (1, 211)\n",
      "label: D2 (1, 211)\n",
      "label: E1 (1, 211)\n",
      "label: E2 (1, 211)\n",
      "label: F (1, 211)\n",
      "label: G (1, 211)\n",
      "BERPublicsearch/split_files/file_03.csv (111240, 211)\n"
     ]
    },
    {
     "name": "stderr",
     "output_type": "stream",
     "text": [
      "C:\\Users\\jbyrne\\AppData\\Local\\Temp\\ipykernel_13860\\951022720.py:14: DtypeWarning: Columns (144,150) have mixed types. Specify dtype option on import or set low_memory=False.\n",
      "  df_file = pd.read_table(row['FileName'], sep=\"\\t\", encoding='cp437', header=0, on_bad_lines=\"warn\")\n"
     ]
    },
    {
     "name": "stdout",
     "output_type": "stream",
     "text": [
      "df_file value counts: EnergyRating\n",
      "B3    2671\n",
      "C1    2165\n",
      "C2    1983\n",
      "D1    1960\n",
      "D2    1951\n",
      "B2    1845\n",
      "C3    1817\n",
      "G     1430\n",
      "E1    1281\n",
      "E2    1096\n",
      "F     1083\n",
      "B1     544\n",
      "A3     166\n",
      "A2       7\n",
      "A1       1\n",
      "Name: count, dtype: int64\n",
      "smallest_column_name:  A1  target number of rows: 1\n",
      "label: A1 (1, 211)\n",
      "label: A2 (1, 211)\n",
      "label: A3 (1, 211)\n",
      "label: B1 (1, 211)\n",
      "label: B2 (1, 211)\n",
      "label: B3 (1, 211)\n",
      "label: C1 (1, 211)\n",
      "label: C2 (1, 211)\n",
      "label: C3 (1, 211)\n",
      "label: D1 (1, 211)\n",
      "label: D2 (1, 211)\n",
      "label: E1 (1, 211)\n",
      "label: E2 (1, 211)\n",
      "label: F (1, 211)\n",
      "label: G (1, 211)\n",
      "BERPublicsearch/split_files/file_00.csv (111255, 211)\n"
     ]
    },
    {
     "name": "stderr",
     "output_type": "stream",
     "text": [
      "C:\\Users\\jbyrne\\AppData\\Local\\Temp\\ipykernel_13860\\951022720.py:14: DtypeWarning: Columns (150,161) have mixed types. Specify dtype option on import or set low_memory=False.\n",
      "  df_file = pd.read_table(row['FileName'], sep=\"\\t\", encoding='cp437', header=0, on_bad_lines=\"warn\")\n"
     ]
    },
    {
     "name": "stdout",
     "output_type": "stream",
     "text": [
      "df_file value counts: EnergyRating\n",
      "C2    2704\n",
      "C3    2574\n",
      "D1    2459\n",
      "C1    2420\n",
      "D2    2115\n",
      "B3    1575\n",
      "G     1550\n",
      "E1    1299\n",
      "F     1047\n",
      "E2    1008\n",
      "B2     580\n",
      "A3     484\n",
      "B1     118\n",
      "A2      67\n",
      "Name: count, dtype: int64\n",
      "smallest_column_name:  A1  target number of rows: 0\n",
      "label: A1 (0, 211)\n",
      "label: A2 (0, 211)\n",
      "label: A3 (0, 211)\n",
      "label: B1 (0, 211)\n",
      "label: B2 (0, 211)\n",
      "label: B3 (0, 211)\n",
      "label: C1 (0, 211)\n",
      "label: C2 (0, 211)\n",
      "label: C3 (0, 211)\n",
      "label: D1 (0, 211)\n",
      "label: D2 (0, 211)\n",
      "label: E1 (0, 211)\n",
      "label: E2 (0, 211)\n",
      "label: F (0, 211)\n",
      "label: G (0, 211)\n",
      "BERPublicsearch/split_files/file_49.csv (111255, 211)\n"
     ]
    },
    {
     "name": "stderr",
     "output_type": "stream",
     "text": [
      "C:\\Users\\jbyrne\\AppData\\Local\\Temp\\ipykernel_13860\\951022720.py:14: DtypeWarning: Columns (97,98,150) have mixed types. Specify dtype option on import or set low_memory=False.\n",
      "  df_file = pd.read_table(row['FileName'], sep=\"\\t\", encoding='cp437', header=0, on_bad_lines=\"warn\")\n"
     ]
    },
    {
     "name": "stdout",
     "output_type": "stream",
     "text": [
      "df_file value counts: EnergyRating\n",
      "C2    2679\n",
      "D1    2520\n",
      "C1    2498\n",
      "C3    2441\n",
      "D2    2116\n",
      "B3    1543\n",
      "G     1538\n",
      "E1    1232\n",
      "F     1048\n",
      "E2     994\n",
      "A3     640\n",
      "B2     520\n",
      "B1     155\n",
      "A2      76\n",
      "Name: count, dtype: int64\n",
      "smallest_column_name:  A1  target number of rows: 0\n",
      "label: A1 (0, 211)\n",
      "label: A2 (0, 211)\n",
      "label: A3 (0, 211)\n",
      "label: B1 (0, 211)\n",
      "label: B2 (0, 211)\n",
      "label: B3 (0, 211)\n",
      "label: C1 (0, 211)\n",
      "label: C2 (0, 211)\n",
      "label: C3 (0, 211)\n",
      "label: D1 (0, 211)\n",
      "label: D2 (0, 211)\n",
      "label: E1 (0, 211)\n",
      "label: E2 (0, 211)\n",
      "label: F (0, 211)\n",
      "label: G (0, 211)\n",
      "BERPublicsearch/split_files/file_50.csv (111255, 211)\n"
     ]
    },
    {
     "name": "stderr",
     "output_type": "stream",
     "text": [
      "C:\\Users\\jbyrne\\AppData\\Local\\Temp\\ipykernel_13860\\951022720.py:14: DtypeWarning: Columns (150) have mixed types. Specify dtype option on import or set low_memory=False.\n",
      "  df_file = pd.read_table(row['FileName'], sep=\"\\t\", encoding='cp437', header=0, on_bad_lines=\"warn\")\n"
     ]
    },
    {
     "name": "stdout",
     "output_type": "stream",
     "text": [
      "df_file value counts: EnergyRating\n",
      "C3    3020\n",
      "C2    2936\n",
      "D1    2927\n",
      "D2    2421\n",
      "C1    2222\n",
      "G     1420\n",
      "E1    1266\n",
      "B3    1237\n",
      "F      961\n",
      "E2     935\n",
      "B2     368\n",
      "B1     271\n",
      "A3      16\n",
      "Name: count, dtype: int64\n",
      "smallest_column_name:  A1  target number of rows: 0\n",
      "label: A1 (0, 211)\n",
      "label: A2 (0, 211)\n",
      "label: A3 (0, 211)\n",
      "label: B1 (0, 211)\n",
      "label: B2 (0, 211)\n",
      "label: B3 (0, 211)\n",
      "label: C1 (0, 211)\n",
      "label: C2 (0, 211)\n",
      "label: C3 (0, 211)\n",
      "label: D1 (0, 211)\n",
      "label: D2 (0, 211)\n",
      "label: E1 (0, 211)\n",
      "label: E2 (0, 211)\n",
      "label: F (0, 211)\n",
      "label: G (0, 211)\n",
      "BERPublicsearch/split_files/file_41.csv (111255, 211)\n"
     ]
    },
    {
     "name": "stderr",
     "output_type": "stream",
     "text": [
      "C:\\Users\\jbyrne\\AppData\\Local\\Temp\\ipykernel_13860\\951022720.py:14: DtypeWarning: Columns (144) have mixed types. Specify dtype option on import or set low_memory=False.\n",
      "  df_file = pd.read_table(row['FileName'], sep=\"\\t\", encoding='cp437', header=0, on_bad_lines=\"warn\")\n"
     ]
    },
    {
     "name": "stdout",
     "output_type": "stream",
     "text": [
      "df_file value counts: EnergyRating\n",
      "C3    2997\n",
      "D1    2895\n",
      "C2    2867\n",
      "C1    2397\n",
      "D2    2354\n",
      "G     1408\n",
      "B3    1287\n",
      "E1    1264\n",
      "F      916\n",
      "E2     913\n",
      "B2     441\n",
      "B1     223\n",
      "A3      37\n",
      "A2       1\n",
      "Name: count, dtype: int64\n",
      "smallest_column_name:  A1  target number of rows: 0\n",
      "label: A1 (0, 211)\n",
      "label: A2 (0, 211)\n",
      "label: A3 (0, 211)\n",
      "label: B1 (0, 211)\n",
      "label: B2 (0, 211)\n",
      "label: B3 (0, 211)\n",
      "label: C1 (0, 211)\n",
      "label: C2 (0, 211)\n",
      "label: C3 (0, 211)\n",
      "label: D1 (0, 211)\n",
      "label: D2 (0, 211)\n",
      "label: E1 (0, 211)\n",
      "label: E2 (0, 211)\n",
      "label: F (0, 211)\n",
      "label: G (0, 211)\n",
      "BERPublicsearch/split_files/file_42.csv (111255, 211)\n"
     ]
    },
    {
     "name": "stderr",
     "output_type": "stream",
     "text": [
      "C:\\Users\\jbyrne\\AppData\\Local\\Temp\\ipykernel_13860\\951022720.py:14: DtypeWarning: Columns (139,161) have mixed types. Specify dtype option on import or set low_memory=False.\n",
      "  df_file = pd.read_table(row['FileName'], sep=\"\\t\", encoding='cp437', header=0, on_bad_lines=\"warn\")\n"
     ]
    },
    {
     "name": "stdout",
     "output_type": "stream",
     "text": [
      "df_file value counts: EnergyRating\n",
      "D1    2648\n",
      "C3    2583\n",
      "C2    2498\n",
      "D2    2390\n",
      "C1    2125\n",
      "G     1953\n",
      "B3    1413\n",
      "E1    1394\n",
      "F     1191\n",
      "E2    1133\n",
      "B2     421\n",
      "B1     194\n",
      "A3      57\n",
      "Name: count, dtype: int64\n",
      "smallest_column_name:  A1  target number of rows: 0\n",
      "label: A1 (0, 211)\n",
      "label: A2 (0, 211)\n",
      "label: A3 (0, 211)\n",
      "label: B1 (0, 211)\n",
      "label: B2 (0, 211)\n",
      "label: B3 (0, 211)\n",
      "label: C1 (0, 211)\n",
      "label: C2 (0, 211)\n",
      "label: C3 (0, 211)\n",
      "label: D1 (0, 211)\n",
      "label: D2 (0, 211)\n",
      "label: E1 (0, 211)\n",
      "label: E2 (0, 211)\n",
      "label: F (0, 211)\n",
      "label: G (0, 211)\n",
      "BERPublicsearch/split_files/file_43.csv (111255, 211)\n"
     ]
    },
    {
     "name": "stderr",
     "output_type": "stream",
     "text": [
      "C:\\Users\\jbyrne\\AppData\\Local\\Temp\\ipykernel_13860\\951022720.py:14: DtypeWarning: Columns (150,155,161,166) have mixed types. Specify dtype option on import or set low_memory=False.\n",
      "  df_file = pd.read_table(row['FileName'], sep=\"\\t\", encoding='cp437', header=0, on_bad_lines=\"warn\")\n"
     ]
    },
    {
     "name": "stdout",
     "output_type": "stream",
     "text": [
      "df_file value counts: EnergyRating\n",
      "C2    2833\n",
      "D1    2818\n",
      "C3    2811\n",
      "D2    2475\n",
      "C1    2342\n",
      "G     1441\n",
      "B3    1321\n",
      "E1    1240\n",
      "E2     972\n",
      "F      903\n",
      "B2     455\n",
      "B1     289\n",
      "A3      93\n",
      "A2       7\n",
      "Name: count, dtype: int64\n",
      "smallest_column_name:  A1  target number of rows: 0\n",
      "label: A1 (0, 211)\n"
     ]
    },
    {
     "name": "stderr",
     "output_type": "stream",
     "text": [
      "C:\\Users\\jbyrne\\AppData\\Local\\Temp\\ipykernel_13860\\951022720.py:31: FutureWarning: The behavior of DataFrame concatenation with empty or all-NA entries is deprecated. In a future version, this will no longer exclude empty or all-NA columns when determining the result dtypes. To retain the old behavior, exclude the relevant entries before the concat operation.\n",
      "  df_final = pd.concat([df_final, df_sample], axis=0)\n"
     ]
    },
    {
     "name": "stdout",
     "output_type": "stream",
     "text": [
      "label: A2 (0, 211)\n",
      "label: A3 (0, 211)\n",
      "label: B1 (0, 211)\n",
      "label: B2 (0, 211)\n",
      "label: B3 (0, 211)\n",
      "label: C1 (0, 211)\n",
      "label: C2 (0, 211)\n",
      "label: C3 (0, 211)\n",
      "label: D1 (0, 211)\n",
      "label: D2 (0, 211)\n",
      "label: E1 (0, 211)\n",
      "label: E2 (0, 211)\n",
      "label: F (0, 211)\n",
      "label: G (0, 211)\n",
      "BERPublicsearch/split_files/file_04.csv (111255, 211)\n"
     ]
    },
    {
     "name": "stderr",
     "output_type": "stream",
     "text": [
      "C:\\Users\\jbyrne\\AppData\\Local\\Temp\\ipykernel_13860\\951022720.py:14: DtypeWarning: Columns (144,150,161) have mixed types. Specify dtype option on import or set low_memory=False.\n",
      "  df_file = pd.read_table(row['FileName'], sep=\"\\t\", encoding='cp437', header=0, on_bad_lines=\"warn\")\n"
     ]
    },
    {
     "name": "stdout",
     "output_type": "stream",
     "text": [
      "df_file value counts: EnergyRating\n",
      "D1    2624\n",
      "C3    2522\n",
      "C2    2495\n",
      "D2    2392\n",
      "C1    2132\n",
      "G     1882\n",
      "B3    1328\n",
      "E1    1317\n",
      "F     1131\n",
      "E2    1093\n",
      "B2     547\n",
      "B1     333\n",
      "A3     198\n",
      "A2       6\n",
      "Name: count, dtype: int64\n",
      "smallest_column_name:  A1  target number of rows: 0\n",
      "label: A1 (0, 211)\n",
      "label: A2 (0, 211)\n",
      "label: A3 (0, 211)\n",
      "label: B1 (0, 211)\n",
      "label: B2 (0, 211)\n",
      "label: B3 (0, 211)\n",
      "label: C1 (0, 211)\n",
      "label: C2 (0, 211)\n",
      "label: C3 (0, 211)\n",
      "label: D1 (0, 211)\n",
      "label: D2 (0, 211)\n",
      "label: E1 (0, 211)\n",
      "label: E2 (0, 211)\n",
      "label: F (0, 211)\n",
      "label: G (0, 211)\n",
      "BERPublicsearch/split_files/file_05.csv (111255, 211)\n"
     ]
    },
    {
     "name": "stderr",
     "output_type": "stream",
     "text": [
      "C:\\Users\\jbyrne\\AppData\\Local\\Temp\\ipykernel_13860\\951022720.py:14: DtypeWarning: Columns (150) have mixed types. Specify dtype option on import or set low_memory=False.\n",
      "  df_file = pd.read_table(row['FileName'], sep=\"\\t\", encoding='cp437', header=0, on_bad_lines=\"warn\")\n"
     ]
    },
    {
     "name": "stdout",
     "output_type": "stream",
     "text": [
      "df_file value counts: EnergyRating\n",
      "D1    2740\n",
      "C3    2593\n",
      "C2    2477\n",
      "D2    2465\n",
      "C1    2004\n",
      "G     1751\n",
      "E1    1402\n",
      "B3    1364\n",
      "F     1172\n",
      "E2    1155\n",
      "B2     446\n",
      "B1     251\n",
      "A3     165\n",
      "A2      15\n",
      "Name: count, dtype: int64\n",
      "smallest_column_name:  A1  target number of rows: 0\n",
      "label: A1 (0, 211)\n",
      "label: A2 (0, 211)\n",
      "label: A3 (0, 211)\n",
      "label: B1 (0, 211)\n",
      "label: B2 (0, 211)\n",
      "label: B3 (0, 211)\n",
      "label: C1 (0, 211)\n",
      "label: C2 (0, 211)\n",
      "label: C3 (0, 211)\n",
      "label: D1 (0, 211)\n",
      "label: D2 (0, 211)\n",
      "label: E1 (0, 211)\n",
      "label: E2 (0, 211)\n",
      "label: F (0, 211)\n",
      "label: G (0, 211)\n",
      "BERPublicsearch/split_files/file_06.csv (111255, 211)\n"
     ]
    },
    {
     "name": "stderr",
     "output_type": "stream",
     "text": [
      "C:\\Users\\jbyrne\\AppData\\Local\\Temp\\ipykernel_13860\\951022720.py:14: DtypeWarning: Columns (150,155) have mixed types. Specify dtype option on import or set low_memory=False.\n",
      "  df_file = pd.read_table(row['FileName'], sep=\"\\t\", encoding='cp437', header=0, on_bad_lines=\"warn\")\n"
     ]
    },
    {
     "name": "stdout",
     "output_type": "stream",
     "text": [
      "df_file value counts: EnergyRating\n",
      "D1    2763\n",
      "C3    2699\n",
      "C2    2562\n",
      "D2    2315\n",
      "C1    2063\n",
      "G     1529\n",
      "E1    1488\n",
      "B3    1204\n",
      "F     1180\n",
      "E2    1169\n",
      "B2     431\n",
      "A3     288\n",
      "B1     287\n",
      "A2      22\n",
      "Name: count, dtype: int64\n",
      "smallest_column_name:  A1  target number of rows: 0\n",
      "label: A1 (0, 211)\n",
      "label: A2 (0, 211)\n",
      "label: A3 (0, 211)\n",
      "label: B1 (0, 211)\n",
      "label: B2 (0, 211)\n",
      "label: B3 (0, 211)\n",
      "label: C1 (0, 211)\n",
      "label: C2 (0, 211)\n",
      "label: C3 (0, 211)\n",
      "label: D1 (0, 211)\n",
      "label: D2 (0, 211)\n",
      "label: E1 (0, 211)\n",
      "label: E2 (0, 211)\n",
      "label: F (0, 211)\n",
      "label: G (0, 211)\n",
      "BERPublicsearch/split_files/file_07.csv (111255, 211)\n"
     ]
    },
    {
     "name": "stderr",
     "output_type": "stream",
     "text": [
      "C:\\Users\\jbyrne\\AppData\\Local\\Temp\\ipykernel_13860\\951022720.py:14: DtypeWarning: Columns (144,150) have mixed types. Specify dtype option on import or set low_memory=False.\n",
      "  df_file = pd.read_table(row['FileName'], sep=\"\\t\", encoding='cp437', header=0, on_bad_lines=\"warn\")\n"
     ]
    },
    {
     "name": "stdout",
     "output_type": "stream",
     "text": [
      "df_file value counts: EnergyRating\n",
      "D1    2684\n",
      "C2    2678\n",
      "C3    2556\n",
      "D2    2385\n",
      "C1    2097\n",
      "G     1575\n",
      "E1    1390\n",
      "F     1147\n",
      "B3    1142\n",
      "E2    1063\n",
      "A3     484\n",
      "B2     469\n",
      "B1     259\n",
      "A2      71\n",
      "Name: count, dtype: int64\n",
      "smallest_column_name:  A1  target number of rows: 0\n",
      "label: A1 (0, 211)\n",
      "label: A2 (0, 211)\n",
      "label: A3 (0, 211)\n",
      "label: B1 (0, 211)\n",
      "label: B2 (0, 211)\n",
      "label: B3 (0, 211)\n",
      "label: C1 (0, 211)\n",
      "label: C2 (0, 211)\n",
      "label: C3 (0, 211)\n",
      "label: D1 (0, 211)\n",
      "label: D2 (0, 211)\n",
      "label: E1 (0, 211)\n",
      "label: E2 (0, 211)\n",
      "label: F (0, 211)\n",
      "label: G (0, 211)\n",
      "BERPublicsearch/split_files/file_08.csv (111255, 211)\n"
     ]
    },
    {
     "name": "stderr",
     "output_type": "stream",
     "text": [
      "C:\\Users\\jbyrne\\AppData\\Local\\Temp\\ipykernel_13860\\951022720.py:14: DtypeWarning: Columns (144,150,155,161) have mixed types. Specify dtype option on import or set low_memory=False.\n",
      "  df_file = pd.read_table(row['FileName'], sep=\"\\t\", encoding='cp437', header=0, on_bad_lines=\"warn\")\n"
     ]
    },
    {
     "name": "stdout",
     "output_type": "stream",
     "text": [
      "df_file value counts: EnergyRating\n",
      "C2    2813\n",
      "C3    2601\n",
      "D1    2576\n",
      "C1    2310\n",
      "D2    2185\n",
      "E1    1381\n",
      "G     1314\n",
      "B3    1234\n",
      "F     1051\n",
      "E2    1016\n",
      "A3     745\n",
      "B2     433\n",
      "B1     237\n",
      "A2     104\n",
      "Name: count, dtype: int64\n",
      "smallest_column_name:  A1  target number of rows: 0\n",
      "label: A1 (0, 211)\n",
      "label: A2 (0, 211)\n",
      "label: A3 (0, 211)\n",
      "label: B1 (0, 211)\n",
      "label: B2 (0, 211)\n",
      "label: B3 (0, 211)\n",
      "label: C1 (0, 211)\n",
      "label: C2 (0, 211)\n",
      "label: C3 (0, 211)\n",
      "label: D1 (0, 211)\n",
      "label: D2 (0, 211)\n",
      "label: E1 (0, 211)\n",
      "label: E2 (0, 211)\n",
      "label: F (0, 211)\n",
      "label: G (0, 211)\n",
      "BERPublicsearch/split_files/file_09.csv (111255, 211)\n",
      "df_file value counts: EnergyRating\n",
      "D1    2621\n",
      "C3    2589\n",
      "D2    2433\n",
      "C2    2412\n",
      "C1    2159\n",
      "G     1858\n",
      "E1    1420\n",
      "B3    1376\n",
      "F     1188\n",
      "E2    1185\n",
      "B2     410\n",
      "B1     223\n",
      "A3     126\n",
      "Name: count, dtype: int64\n",
      "smallest_column_name:  A1  target number of rows: 0\n",
      "label: A1 (0, 211)\n",
      "label: A2 (0, 211)\n",
      "label: A3 (0, 211)\n",
      "label: B1 (0, 211)\n",
      "label: B2 (0, 211)\n",
      "label: B3 (0, 211)\n",
      "label: C1 (0, 211)\n",
      "label: C2 (0, 211)\n",
      "label: C3 (0, 211)\n",
      "label: D1 (0, 211)\n",
      "label: D2 (0, 211)\n",
      "label: E1 (0, 211)\n",
      "label: E2 (0, 211)\n",
      "label: F (0, 211)\n",
      "label: G (0, 211)\n",
      "BERPublicsearch/split_files/file_44.csv (111255, 211)\n"
     ]
    },
    {
     "name": "stderr",
     "output_type": "stream",
     "text": [
      "C:\\Users\\jbyrne\\AppData\\Local\\Temp\\ipykernel_13860\\951022720.py:14: DtypeWarning: Columns (144) have mixed types. Specify dtype option on import or set low_memory=False.\n",
      "  df_file = pd.read_table(row['FileName'], sep=\"\\t\", encoding='cp437', header=0, on_bad_lines=\"warn\")\n"
     ]
    },
    {
     "name": "stdout",
     "output_type": "stream",
     "text": [
      "df_file value counts: EnergyRating\n",
      "D1    2729\n",
      "C2    2710\n",
      "C3    2701\n",
      "D2    2473\n",
      "C1    1991\n",
      "G     1735\n",
      "E1    1388\n",
      "F     1181\n",
      "E2    1150\n",
      "B3    1145\n",
      "B2     415\n",
      "A3     189\n",
      "B1     188\n",
      "A2       5\n",
      "Name: count, dtype: int64\n",
      "smallest_column_name:  A1  target number of rows: 0\n",
      "label: A1 (0, 211)\n",
      "label: A2 (0, 211)\n",
      "label: A3 (0, 211)\n",
      "label: B1 (0, 211)\n",
      "label: B2 (0, 211)\n",
      "label: B3 (0, 211)\n",
      "label: C1 (0, 211)\n",
      "label: C2 (0, 211)\n",
      "label: C3 (0, 211)\n",
      "label: D1 (0, 211)\n",
      "label: D2 (0, 211)\n",
      "label: E1 (0, 211)\n",
      "label: E2 (0, 211)\n",
      "label: F (0, 211)\n",
      "label: G (0, 211)\n",
      "BERPublicsearch/split_files/file_45.csv (111255, 211)\n",
      "df_file value counts: EnergyRating\n",
      "C2    2710\n",
      "C3    2615\n",
      "D1    2576\n",
      "C1    2376\n",
      "D2    2361\n",
      "G     1597\n",
      "E1    1344\n",
      "B3    1328\n",
      "E2    1121\n",
      "F     1104\n",
      "B2     421\n",
      "A3     264\n",
      "B1     168\n",
      "A2      15\n",
      "Name: count, dtype: int64\n",
      "smallest_column_name:  A1  target number of rows: 0\n",
      "label: A1 (0, 211)\n",
      "label: A2 (0, 211)\n",
      "label: A3 (0, 211)\n",
      "label: B1 (0, 211)\n",
      "label: B2 (0, 211)\n",
      "label: B3 (0, 211)\n",
      "label: C1 (0, 211)\n",
      "label: C2 (0, 211)\n",
      "label: C3 (0, 211)\n",
      "label: D1 (0, 211)\n",
      "label: D2 (0, 211)\n",
      "label: E1 (0, 211)\n",
      "label: E2 (0, 211)\n",
      "label: F (0, 211)\n",
      "label: G (0, 211)\n",
      "BERPublicsearch/split_files/file_46.csv (111255, 211)\n",
      "df_file value counts: EnergyRating\n",
      "C2    2693\n",
      "D1    2631\n",
      "C3    2614\n",
      "D2    2278\n",
      "C1    2227\n",
      "G     1657\n",
      "E1    1389\n",
      "B3    1364\n",
      "F     1074\n",
      "E2    1068\n",
      "B2     426\n",
      "A3     374\n",
      "B1     164\n",
      "A2      41\n",
      "Name: count, dtype: int64\n",
      "smallest_column_name:  A1  target number of rows: 0\n",
      "label: A1 (0, 211)\n",
      "label: A2 (0, 211)\n",
      "label: A3 (0, 211)\n",
      "label: B1 (0, 211)\n",
      "label: B2 (0, 211)\n",
      "label: B3 (0, 211)\n",
      "label: C1 (0, 211)\n",
      "label: C2 (0, 211)\n",
      "label: C3 (0, 211)\n",
      "label: D1 (0, 211)\n",
      "label: D2 (0, 211)\n",
      "label: E1 (0, 211)\n",
      "label: E2 (0, 211)\n",
      "label: F (0, 211)\n",
      "label: G (0, 211)\n",
      "BERPublicsearch/split_files/file_47.csv (111255, 211)\n"
     ]
    },
    {
     "name": "stderr",
     "output_type": "stream",
     "text": [
      "C:\\Users\\jbyrne\\AppData\\Local\\Temp\\ipykernel_13860\\951022720.py:14: DtypeWarning: Columns (144) have mixed types. Specify dtype option on import or set low_memory=False.\n",
      "  df_file = pd.read_table(row['FileName'], sep=\"\\t\", encoding='cp437', header=0, on_bad_lines=\"warn\")\n"
     ]
    },
    {
     "name": "stdout",
     "output_type": "stream",
     "text": [
      "df_file value counts: EnergyRating\n",
      "C3    3106\n",
      "D1    3026\n",
      "C2    2963\n",
      "D2    2526\n",
      "C1    2316\n",
      "B3    1288\n",
      "E1    1200\n",
      "G     1141\n",
      "F      886\n",
      "E2     879\n",
      "B2     413\n",
      "B1     217\n",
      "A3      39\n",
      "Name: count, dtype: int64\n",
      "smallest_column_name:  A1  target number of rows: 0\n",
      "label: A1 (0, 211)\n",
      "label: A2 (0, 211)\n",
      "label: A3 (0, 211)\n",
      "label: B1 (0, 211)\n",
      "label: B2 (0, 211)\n",
      "label: B3 (0, 211)\n",
      "label: C1 (0, 211)\n",
      "label: C2 (0, 211)\n",
      "label: C3 (0, 211)\n",
      "label: D1 (0, 211)\n",
      "label: D2 (0, 211)\n",
      "label: E1 (0, 211)\n",
      "label: E2 (0, 211)\n",
      "label: F (0, 211)\n",
      "label: G (0, 211)\n",
      "BERPublicsearch/split_files/file_40.csv (111255, 211)\n"
     ]
    },
    {
     "name": "stderr",
     "output_type": "stream",
     "text": [
      "C:\\Users\\jbyrne\\AppData\\Local\\Temp\\ipykernel_13860\\951022720.py:14: DtypeWarning: Columns (144,150,161) have mixed types. Specify dtype option on import or set low_memory=False.\n",
      "  df_file = pd.read_table(row['FileName'], sep=\"\\t\", encoding='cp437', header=0, on_bad_lines=\"warn\")\n"
     ]
    },
    {
     "name": "stdout",
     "output_type": "stream",
     "text": [
      "df_file value counts: EnergyRating\n",
      "C2    2761\n",
      "D1    2595\n",
      "C3    2583\n",
      "C1    2475\n",
      "D2    2123\n",
      "G     1620\n",
      "B3    1423\n",
      "E1    1271\n",
      "F     1065\n",
      "E2    1029\n",
      "B2     451\n",
      "A3     405\n",
      "B1     105\n",
      "A2      94\n",
      "Name: count, dtype: int64\n",
      "smallest_column_name:  A1  target number of rows: 0\n",
      "label: A1 (0, 211)\n",
      "label: A2 (0, 211)\n",
      "label: A3 (0, 211)\n",
      "label: B1 (0, 211)\n",
      "label: B2 (0, 211)\n",
      "label: B3 (0, 211)\n",
      "label: C1 (0, 211)\n",
      "label: C2 (0, 211)\n",
      "label: C3 (0, 211)\n",
      "label: D1 (0, 211)\n",
      "label: D2 (0, 211)\n",
      "label: E1 (0, 211)\n",
      "label: E2 (0, 211)\n",
      "label: F (0, 211)\n",
      "label: G (0, 211)\n",
      "BERPublicsearch/split_files/file_48.csv (111255, 211)\n"
     ]
    },
    {
     "name": "stderr",
     "output_type": "stream",
     "text": [
      "C:\\Users\\jbyrne\\AppData\\Local\\Temp\\ipykernel_13860\\951022720.py:14: DtypeWarning: Columns (144,150,161) have mixed types. Specify dtype option on import or set low_memory=False.\n",
      "  df_file = pd.read_table(row['FileName'], sep=\"\\t\", encoding='cp437', header=0, on_bad_lines=\"warn\")\n"
     ]
    },
    {
     "name": "stdout",
     "output_type": "stream",
     "text": [
      "df_file value counts: EnergyRating\n",
      "C1    2997\n",
      "C2    2889\n",
      "C3    2395\n",
      "D1    2222\n",
      "B3    1899\n",
      "D2    1791\n",
      "G     1426\n",
      "E1    1048\n",
      "F      946\n",
      "E2     801\n",
      "A3     695\n",
      "B2     552\n",
      "A2     203\n",
      "B1     136\n",
      "Name: count, dtype: int64\n",
      "smallest_column_name:  A1  target number of rows: 0\n",
      "label: A1 (0, 211)\n",
      "label: A2 (0, 211)\n",
      "label: A3 (0, 211)\n",
      "label: B1 (0, 211)\n",
      "label: B2 (0, 211)\n",
      "label: B3 (0, 211)\n",
      "label: C1 (0, 211)\n",
      "label: C2 (0, 211)\n",
      "label: C3 (0, 211)\n",
      "label: D1 (0, 211)\n",
      "label: D2 (0, 211)\n",
      "label: E1 (0, 211)\n",
      "label: E2 (0, 211)\n",
      "label: F (0, 211)\n",
      "label: G (0, 211)\n",
      "BERPublicsearch/split_files/file_52.csv (111255, 211)\n"
     ]
    },
    {
     "name": "stderr",
     "output_type": "stream",
     "text": [
      "C:\\Users\\jbyrne\\AppData\\Local\\Temp\\ipykernel_13860\\951022720.py:14: DtypeWarning: Columns (97,98,144,150,161) have mixed types. Specify dtype option on import or set low_memory=False.\n",
      "  df_file = pd.read_table(row['FileName'], sep=\"\\t\", encoding='cp437', header=0, on_bad_lines=\"warn\")\n"
     ]
    },
    {
     "name": "stdout",
     "output_type": "stream",
     "text": [
      "df_file value counts: EnergyRating\n",
      "C2    2901\n",
      "C1    2727\n",
      "C3    2499\n",
      "D1    2322\n",
      "D2    1929\n",
      "G     1613\n",
      "B3    1555\n",
      "E1    1152\n",
      "F     1033\n",
      "E2     947\n",
      "A3     650\n",
      "B2     456\n",
      "B1     120\n",
      "A2      96\n",
      "Name: count, dtype: int64\n",
      "smallest_column_name:  A1  target number of rows: 0\n",
      "label: A1 (0, 211)\n",
      "label: A2 (0, 211)\n",
      "label: A3 (0, 211)\n",
      "label: B1 (0, 211)\n",
      "label: B2 (0, 211)\n",
      "label: B3 (0, 211)\n",
      "label: C1 (0, 211)\n",
      "label: C2 (0, 211)\n",
      "label: C3 (0, 211)\n",
      "label: D1 (0, 211)\n",
      "label: D2 (0, 211)\n",
      "label: E1 (0, 211)\n",
      "label: E2 (0, 211)\n",
      "label: F (0, 211)\n",
      "label: G (0, 211)\n",
      "BERPublicsearch/split_files/file_51.csv (111255, 211)\n"
     ]
    },
    {
     "name": "stderr",
     "output_type": "stream",
     "text": [
      "C:\\Users\\jbyrne\\AppData\\Local\\Temp\\ipykernel_13860\\951022720.py:14: DtypeWarning: Columns (139,144,150) have mixed types. Specify dtype option on import or set low_memory=False.\n",
      "  df_file = pd.read_table(row['FileName'], sep=\"\\t\", encoding='cp437', header=0, on_bad_lines=\"warn\")\n"
     ]
    },
    {
     "name": "stdout",
     "output_type": "stream",
     "text": [
      "df_file value counts: EnergyRating\n",
      "D1    2447\n",
      "D2    2410\n",
      "C3    2381\n",
      "C1    2302\n",
      "C2    2273\n",
      "B3    1972\n",
      "G     1501\n",
      "E1    1328\n",
      "E2    1092\n",
      "F     1035\n",
      "B2     900\n",
      "B1     313\n",
      "A3      44\n",
      "A2       2\n",
      "Name: count, dtype: int64\n",
      "smallest_column_name:  A1  target number of rows: 0\n",
      "label: A1 (0, 211)\n",
      "label: A2 (0, 211)\n",
      "label: A3 (0, 211)\n",
      "label: B1 (0, 211)\n",
      "label: B2 (0, 211)\n",
      "label: B3 (0, 211)\n",
      "label: C1 (0, 211)\n",
      "label: C2 (0, 211)\n",
      "label: C3 (0, 211)\n",
      "label: D1 (0, 211)\n",
      "label: D2 (0, 211)\n",
      "label: E1 (0, 211)\n",
      "label: E2 (0, 211)\n",
      "label: F (0, 211)\n",
      "label: G (0, 211)\n",
      "BERPublicsearch/split_files/file_39.csv (111255, 211)\n",
      "(111255, 211)\n"
     ]
    },
    {
     "data": {
      "text/html": [
       "<div>\n",
       "<style scoped>\n",
       "    .dataframe tbody tr th:only-of-type {\n",
       "        vertical-align: middle;\n",
       "    }\n",
       "\n",
       "    .dataframe tbody tr th {\n",
       "        vertical-align: top;\n",
       "    }\n",
       "\n",
       "    .dataframe thead th {\n",
       "        text-align: right;\n",
       "    }\n",
       "</style>\n",
       "<table border=\"1\" class=\"dataframe\">\n",
       "  <thead>\n",
       "    <tr style=\"text-align: right;\">\n",
       "      <th></th>\n",
       "      <th>CountyName</th>\n",
       "      <th>DwellingTypeDescr</th>\n",
       "      <th>Year_of_Construction</th>\n",
       "      <th>TypeofRating</th>\n",
       "      <th>EnergyRating</th>\n",
       "      <th>BerRating</th>\n",
       "      <th>GroundFloorArea(sq m)</th>\n",
       "      <th>UValueWall</th>\n",
       "      <th>UValueRoof</th>\n",
       "      <th>UValueFloor</th>\n",
       "      <th>...</th>\n",
       "      <th>ThirdWallAgeBandId</th>\n",
       "      <th>ThirdWallTypeId</th>\n",
       "      <th>SA_Code</th>\n",
       "      <th>prob_smarea_error_0corr</th>\n",
       "      <th>prob_smarea_error_100corr</th>\n",
       "      <th>RER</th>\n",
       "      <th>RenewEPnren</th>\n",
       "      <th>RenewEPren</th>\n",
       "      <th>CPC</th>\n",
       "      <th>EPC</th>\n",
       "    </tr>\n",
       "  </thead>\n",
       "  <tbody>\n",
       "    <tr>\n",
       "      <th>10276</th>\n",
       "      <td>Co. Kildare</td>\n",
       "      <td>Mid-terrace house</td>\n",
       "      <td>2022</td>\n",
       "      <td>Final</td>\n",
       "      <td>A1</td>\n",
       "      <td>17.04</td>\n",
       "      <td>104.08</td>\n",
       "      <td>0.17</td>\n",
       "      <td>0.12</td>\n",
       "      <td>0.17</td>\n",
       "      <td>...</td>\n",
       "      <td>NaN</td>\n",
       "      <td>NaN</td>\n",
       "      <td>NaN</td>\n",
       "      <td>NaN</td>\n",
       "      <td>NaN</td>\n",
       "      <td>0.770</td>\n",
       "      <td>1773.39</td>\n",
       "      <td>5934.53</td>\n",
       "      <td>0.117</td>\n",
       "      <td>0.121</td>\n",
       "    </tr>\n",
       "    <tr>\n",
       "      <th>8876</th>\n",
       "      <td>Co. Offaly</td>\n",
       "      <td>Detached house</td>\n",
       "      <td>2022</td>\n",
       "      <td>Final</td>\n",
       "      <td>A1</td>\n",
       "      <td>19.33</td>\n",
       "      <td>123.00</td>\n",
       "      <td>0.15</td>\n",
       "      <td>0.12</td>\n",
       "      <td>0.17</td>\n",
       "      <td>...</td>\n",
       "      <td>NaN</td>\n",
       "      <td>NaN</td>\n",
       "      <td>NaN</td>\n",
       "      <td>NaN</td>\n",
       "      <td>NaN</td>\n",
       "      <td>0.672</td>\n",
       "      <td>4112.16</td>\n",
       "      <td>4863.55</td>\n",
       "      <td>0.166</td>\n",
       "      <td>0.121</td>\n",
       "    </tr>\n",
       "    <tr>\n",
       "      <th>17178</th>\n",
       "      <td>Co. Mayo</td>\n",
       "      <td>Detached house</td>\n",
       "      <td>2015</td>\n",
       "      <td>Existing</td>\n",
       "      <td>A1</td>\n",
       "      <td>17.95</td>\n",
       "      <td>201.56</td>\n",
       "      <td>0.13</td>\n",
       "      <td>0.25</td>\n",
       "      <td>0.13</td>\n",
       "      <td>...</td>\n",
       "      <td>NaN</td>\n",
       "      <td>NaN</td>\n",
       "      <td>157039003</td>\n",
       "      <td>0.050000</td>\n",
       "      <td>0.050000</td>\n",
       "      <td>0.739</td>\n",
       "      <td>3507.47</td>\n",
       "      <td>9949.58</td>\n",
       "      <td>0.120</td>\n",
       "      <td>0.123</td>\n",
       "    </tr>\n",
       "    <tr>\n",
       "      <th>13204</th>\n",
       "      <td>Waterford City</td>\n",
       "      <td>Semi-detached house</td>\n",
       "      <td>2017</td>\n",
       "      <td>Existing</td>\n",
       "      <td>A1</td>\n",
       "      <td>24.58</td>\n",
       "      <td>132.00</td>\n",
       "      <td>0.27</td>\n",
       "      <td>0.16</td>\n",
       "      <td>0.24</td>\n",
       "      <td>...</td>\n",
       "      <td>NaN</td>\n",
       "      <td>NaN</td>\n",
       "      <td>228007014</td>\n",
       "      <td>0.000222</td>\n",
       "      <td>0.012347</td>\n",
       "      <td>0.771</td>\n",
       "      <td>3244.32</td>\n",
       "      <td>10893.70</td>\n",
       "      <td>0.182</td>\n",
       "      <td>0.174</td>\n",
       "    </tr>\n",
       "    <tr>\n",
       "      <th>17193</th>\n",
       "      <td>Co. Westmeath</td>\n",
       "      <td>Semi-detached house</td>\n",
       "      <td>2023</td>\n",
       "      <td>Final</td>\n",
       "      <td>A1</td>\n",
       "      <td>22.94</td>\n",
       "      <td>112.02</td>\n",
       "      <td>0.14</td>\n",
       "      <td>0.12</td>\n",
       "      <td>0.16</td>\n",
       "      <td>...</td>\n",
       "      <td>NaN</td>\n",
       "      <td>NaN</td>\n",
       "      <td>NaN</td>\n",
       "      <td>NaN</td>\n",
       "      <td>NaN</td>\n",
       "      <td>0.669</td>\n",
       "      <td>2570.22</td>\n",
       "      <td>5184.04</td>\n",
       "      <td>0.100</td>\n",
       "      <td>0.155</td>\n",
       "    </tr>\n",
       "  </tbody>\n",
       "</table>\n",
       "<p>5 rows × 211 columns</p>\n",
       "</div>"
      ],
      "text/plain": [
       "           CountyName    DwellingTypeDescr  Year_of_Construction  \\\n",
       "10276     Co. Kildare    Mid-terrace house                  2022   \n",
       "8876       Co. Offaly       Detached house                  2022   \n",
       "17178        Co. Mayo       Detached house                  2015   \n",
       "13204  Waterford City  Semi-detached house                  2017   \n",
       "17193   Co. Westmeath  Semi-detached house                  2023   \n",
       "\n",
       "          TypeofRating EnergyRating  BerRating  GroundFloorArea(sq m)  \\\n",
       "10276  Final                     A1      17.04                 104.08   \n",
       "8876   Final                     A1      19.33                 123.00   \n",
       "17178  Existing                  A1      17.95                 201.56   \n",
       "13204  Existing                  A1      24.58                 132.00   \n",
       "17193  Final                     A1      22.94                 112.02   \n",
       "\n",
       "       UValueWall  UValueRoof  UValueFloor  ...  ThirdWallAgeBandId  \\\n",
       "10276        0.17        0.12         0.17  ...                 NaN   \n",
       "8876         0.15        0.12         0.17  ...                 NaN   \n",
       "17178        0.13        0.25         0.13  ...                 NaN   \n",
       "13204        0.27        0.16         0.24  ...                 NaN   \n",
       "17193        0.14        0.12         0.16  ...                 NaN   \n",
       "\n",
       "       ThirdWallTypeId    SA_Code  prob_smarea_error_0corr  \\\n",
       "10276              NaN        NaN                      NaN   \n",
       "8876               NaN        NaN                      NaN   \n",
       "17178              NaN  157039003                 0.050000   \n",
       "13204              NaN  228007014                 0.000222   \n",
       "17193              NaN        NaN                      NaN   \n",
       "\n",
       "       prob_smarea_error_100corr    RER  RenewEPnren  RenewEPren    CPC    EPC  \n",
       "10276                        NaN  0.770      1773.39     5934.53  0.117  0.121  \n",
       "8876                         NaN  0.672      4112.16     4863.55  0.166  0.121  \n",
       "17178                   0.050000  0.739      3507.47     9949.58  0.120  0.123  \n",
       "13204                   0.012347  0.771      3244.32    10893.70  0.182  0.174  \n",
       "17193                        NaN  0.669      2570.22     5184.04  0.100  0.155  \n",
       "\n",
       "[5 rows x 211 columns]"
      ]
     },
     "execution_count": 6,
     "metadata": {},
     "output_type": "execute_result"
    }
   ],
   "source": [
    "# Read the files a second time and use the number of rows for the smallest_column_name in each file \n",
    "# to only read that many rows from that file.\n",
    "# If a file is underrepresented in any one file then the shortfall is carried over to the next file. \n",
    "# This helps ensure that enough rows for each label are being read. \n",
    "\n",
    "df_final = pd.DataFrame()\n",
    "\n",
    "energy_ratings_label_limits = {key: 0 for key in energy_ratings_labels[1:]} \n",
    "\n",
    "for index, row in data_labels_summary_sorted.iterrows():\n",
    "  for key, value in energy_ratings_label_limits.items():\n",
    "    energy_ratings_label_limits[key] = int(value) + int(row[smallest_column_name])\n",
    "\n",
    "  df_file = pd.read_table(row['FileName'], sep=\"\\t\", encoding='cp437', header=0, on_bad_lines=\"warn\")\n",
    "  #print(df_file.head())\n",
    "  print('df_file value counts:', df_file['EnergyRating'].value_counts())\n",
    "  print('smallest_column_name: ', smallest_column_name, ' target number of rows:', row[smallest_column_name])\n",
    "  \n",
    "  for label in energy_ratings_labels[1:]:\n",
    "    df_label = df_file.loc[df_file['EnergyRating'].str.contains(label)]\n",
    "    df_sample = {} # declare variable\n",
    "    try:\n",
    "      df_sample = df_label.sample(n=energy_ratings_label_limits[label])\n",
    "      energy_ratings_label_limits[label] = 0\n",
    "    except ValueError:\n",
    "      print('ValueError: only found ', df_label.shape, len(label))\n",
    "      df_sample = df_label\n",
    "      energy_ratings_label_limits[label] = energy_ratings_label_limits[label] - len(df_label)\n",
    "    print('label:', label, df_sample.shape)\n",
    "\n",
    "    df_final = pd.concat([df_final, df_sample], axis=0)\n",
    "\n",
    "  print(row['FileName'], df_final.shape)\n",
    "\n",
    "print(df_final.shape)\n",
    "df_final.head()"
   ]
  },
  {
   "cell_type": "code",
   "execution_count": 7,
   "metadata": {},
   "outputs": [
    {
     "name": "stdout",
     "output_type": "stream",
     "text": [
      "(749, 211)\n"
     ]
    },
    {
     "data": {
      "text/plain": [
       "EnergyRating\n",
       "A1    158\n",
       "B2    120\n",
       "A2     82\n",
       "B3     62\n",
       "C2     50\n",
       "A3     47\n",
       "E1     47\n",
       "B1     43\n",
       "C1     38\n",
       "E2     35\n",
       "C3     26\n",
       "F      18\n",
       "D1      9\n",
       "D2      9\n",
       "G       5\n",
       "Name: count, dtype: int64"
      ]
     },
     "execution_count": 7,
     "metadata": {},
     "output_type": "execute_result"
    }
   ],
   "source": [
    "# find number of duplicates in final dataframe\n",
    "\n",
    "df_duplicateRows = df_final[df_final.duplicated()]\n",
    "print(df_duplicateRows.shape)\n",
    "# check data to see if it is balanced\n",
    "df_duplicateRows['EnergyRating'].value_counts()\n",
    "# display as a pie chart if required\n",
    "#df_final['EnergyRating'].value_counts().plot.pie(autopct='%.2f')"
   ]
  },
  {
   "cell_type": "code",
   "execution_count": 8,
   "metadata": {},
   "outputs": [
    {
     "data": {
      "text/plain": [
       "EnergyRating\n",
       "G     7412\n",
       "D1    7408\n",
       "D2    7408\n",
       "F     7399\n",
       "C3    7391\n",
       "E2    7382\n",
       "C1    7379\n",
       "B1    7374\n",
       "A3    7370\n",
       "E1    7370\n",
       "C2    7367\n",
       "B3    7355\n",
       "A2    7335\n",
       "B2    7297\n",
       "A1    7259\n",
       "Name: count, dtype: int64"
      ]
     },
     "execution_count": 8,
     "metadata": {},
     "output_type": "execute_result"
    }
   ],
   "source": [
    "# drop duplicates and display final totals for each label\n",
    "df_dropped = df_final.drop_duplicates()\n",
    "df_dropped['EnergyRating'].value_counts()"
   ]
  },
  {
   "cell_type": "markdown",
   "metadata": {},
   "source": [
    "### Randomise dataframe and save as CSV file"
   ]
  },
  {
   "cell_type": "code",
   "execution_count": 9,
   "metadata": {},
   "outputs": [],
   "source": [
    "df_dropped = df_dropped.replace({';':' '}, regex=True) # remove any semi-colons from values\n",
    "df_shuffled = df_dropped.sample(frac=1, random_state=1).reset_index() # randomise the rows\n",
    "df_shuffled.to_csv(training_file_path + '/ber-rating-dataset-final.csv', sep=';', encoding='utf-8', index=False) # save as a single CSV file"
   ]
  }
 ],
 "metadata": {
  "kernelspec": {
   "display_name": "Python 3",
   "language": "python",
   "name": "python3"
  },
  "language_info": {
   "codemirror_mode": {
    "name": "ipython",
    "version": 3
   },
   "file_extension": ".py",
   "mimetype": "text/x-python",
   "name": "python",
   "nbconvert_exporter": "python",
   "pygments_lexer": "ipython3",
   "version": "3.11.4"
  }
 },
 "nbformat": 4,
 "nbformat_minor": 2
}
